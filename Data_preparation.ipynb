{
 "cells": [
  {
   "cell_type": "code",
   "execution_count": 28,
   "metadata": {},
   "outputs": [],
   "source": [
    "import pandas as pd\n",
    "import numpy as np\n",
    "from rdkit import Chem\n",
    "from rdkit.Chem import AllChem\n",
    "from rdkit.Chem import Descriptors\n",
    "from rdkit.rdBase import BlockLogs\n",
    "from rdkit.Chem.MolStandardize import rdMolStandardize"
   ]
  },
  {
   "cell_type": "markdown",
   "metadata": {},
   "source": [
    "## Parameters"
   ]
  },
  {
   "cell_type": "markdown",
   "metadata": {},
   "source": [
    "#### specifying data set features"
   ]
  },
  {
   "cell_type": "code",
   "execution_count": 29,
   "metadata": {},
   "outputs": [],
   "source": [
    "# True: complete data set with MorganFP and rdkit descriptors\n",
    "# False: complete data set only with MorganFP\n",
    "\n",
    "AllData = True\n",
    "#AllData = False"
   ]
  },
  {
   "cell_type": "code",
   "execution_count": 30,
   "metadata": {},
   "outputs": [],
   "source": [
    "# True: add example data to the data set\n",
    "\n",
    "use_example = True\n",
    "#use_example = False"
   ]
  },
  {
   "cell_type": "markdown",
   "metadata": {},
   "source": [
    "#### specifying radius of morgan finger prints"
   ]
  },
  {
   "cell_type": "code",
   "execution_count": 31,
   "metadata": {},
   "outputs": [],
   "source": [
    "mfp_r = 1"
   ]
  },
  {
   "cell_type": "markdown",
   "metadata": {},
   "source": [
    "#### test run"
   ]
  },
  {
   "cell_type": "code",
   "execution_count": 32,
   "metadata": {},
   "outputs": [],
   "source": [
    "# True: first 10 rows of the data\n",
    "# False: everything\n",
    "\n",
    "test_run = False\n",
    "#test_run = True"
   ]
  },
  {
   "cell_type": "markdown",
   "metadata": {},
   "source": [
    "#### removing columns with unique values"
   ]
  },
  {
   "cell_type": "code",
   "execution_count": 33,
   "metadata": {},
   "outputs": [],
   "source": [
    "# True: deletes all columns with unique values\n",
    "# False: keeps the data set without removing any columns\n",
    "\n",
    "delun = False\n",
    "#delun = True"
   ]
  },
  {
   "cell_type": "markdown",
   "metadata": {},
   "source": [
    "#### save as csv"
   ]
  },
  {
   "cell_type": "code",
   "execution_count": 34,
   "metadata": {},
   "outputs": [],
   "source": [
    "# True: save data sets as csv files\n",
    "\n",
    "save = True\n",
    "#save = False"
   ]
  },
  {
   "cell_type": "markdown",
   "metadata": {},
   "source": [
    "## Function collection"
   ]
  },
  {
   "cell_type": "markdown",
   "metadata": {},
   "source": [
    "#### Renaming function"
   ]
  },
  {
   "cell_type": "code",
   "execution_count": 35,
   "metadata": {},
   "outputs": [],
   "source": [
    "def rename(df_name, new_name):\n",
    "    df = df_name.copy(deep=True)\n",
    "    for i in range(len(df_name.columns)):\n",
    "        name = new_name + str(df_name.columns[i])\n",
    "        df.rename(columns={df_name.columns[i] : name}, inplace=True)\n",
    "    return df"
   ]
  },
  {
   "cell_type": "markdown",
   "metadata": {},
   "source": [
    "#### Molecule standardizer"
   ]
  },
  {
   "cell_type": "code",
   "execution_count": 36,
   "metadata": {},
   "outputs": [],
   "source": [
    "def transform(smiles, neutralize=True):\n",
    "        mol = Chem.MolFromSmiles(smiles)\n",
    "        block = BlockLogs() # Block all RDkit logging\n",
    "        \n",
    "        # Normalizing functional groups\n",
    "        # https://molvs.readthedocs.io/en/latest/guide/standardize.html\n",
    "        clean_mol = rdMolStandardize.Cleanup(mol) \n",
    "        # Get parents fragments\n",
    "        parent_clean_mol = rdMolStandardize.FragmentParent(clean_mol)\n",
    "\n",
    "        # Neutralise\n",
    "        if neutralize:\n",
    "            uncharger = rdMolStandardize.Uncharger()\n",
    "            uncharged_parent_clean_mol = uncharger.uncharge(parent_clean_mol)\n",
    "        else:\n",
    "            uncharged_parent_clean_mol = parent_clean_mol\n",
    "        del block # Release logging block to previous state\n",
    "        return(uncharged_parent_clean_mol)"
   ]
  },
  {
   "cell_type": "markdown",
   "metadata": {},
   "source": [
    "#### MorganFP generator"
   ]
  },
  {
   "cell_type": "code",
   "execution_count": 37,
   "metadata": {},
   "outputs": [],
   "source": [
    "def MFP_generator(mol):\n",
    "    return(AllChem.GetMorganFingerprintAsBitVect(mol, radius=mfp_r, nBits=4096))"
   ]
  },
  {
   "cell_type": "markdown",
   "metadata": {},
   "source": [
    "#### Descriptor calculator"
   ]
  },
  {
   "cell_type": "code",
   "execution_count": 38,
   "metadata": {},
   "outputs": [],
   "source": [
    "def desc_generator(mol):\n",
    "    desc_list = []\n",
    "    for i in range(len(Chem.Descriptors.descList)):\n",
    "        desc_list.append(Chem.Descriptors.descList[i][1](mol))\n",
    "    return desc_list"
   ]
  },
  {
   "cell_type": "markdown",
   "metadata": {},
   "source": [
    "#### Descriptor name generator"
   ]
  },
  {
   "cell_type": "code",
   "execution_count": 39,
   "metadata": {},
   "outputs": [],
   "source": [
    "def desc_name_generator():\n",
    "    desc_list = []\n",
    "    for i in range(len(Chem.Descriptors.descList)):\n",
    "        desc_list.append(Chem.Descriptors.descList[i][0])\n",
    "    return desc_list"
   ]
  },
  {
   "cell_type": "markdown",
   "id": "611b2578-76cc-4963-864e-ae83aac99b76",
   "metadata": {},
   "source": [
    "## 0. Reading data files from csv"
   ]
  },
  {
   "cell_type": "markdown",
   "id": "636ce258",
   "metadata": {},
   "source": [
    "#### reading training data set"
   ]
  },
  {
   "cell_type": "code",
   "execution_count": 40,
   "id": "923a4add",
   "metadata": {},
   "outputs": [],
   "source": [
    "df_train = pd.read_csv(\"Data/train.csv\")"
   ]
  },
  {
   "cell_type": "markdown",
   "id": "ca3f6fae",
   "metadata": {},
   "source": [
    "#### reading example predictor data set"
   ]
  },
  {
   "cell_type": "code",
   "execution_count": 41,
   "id": "bf99c0d7",
   "metadata": {},
   "outputs": [],
   "source": [
    "example = pd.read_csv(\"Data/example_predictors.csv\")\n",
    "example.drop(columns='smiles', inplace=True)\n",
    "\n",
    "df_example = rename(example, 'example_')\n",
    "\n",
    "df_example.rename(columns={df_example.columns[0] : 'Id'}, inplace=True)"
   ]
  },
  {
   "cell_type": "markdown",
   "id": "c14aa009",
   "metadata": {},
   "source": [
    "#### reading test data set"
   ]
  },
  {
   "cell_type": "code",
   "execution_count": 42,
   "id": "fbe42614",
   "metadata": {},
   "outputs": [],
   "source": [
    "df_test = pd.read_csv(\"Data/test.csv\")\n",
    "\n",
    "# dummy value for the solubility category\n",
    "df_test[\"sol_category\"] = 5"
   ]
  },
  {
   "cell_type": "markdown",
   "id": "2f3cf1e8",
   "metadata": {},
   "source": [
    "## 1. Combining train and test data sets"
   ]
  },
  {
   "cell_type": "code",
   "execution_count": 43,
   "id": "ec6354b2",
   "metadata": {},
   "outputs": [
    {
     "name": "stderr",
     "output_type": "stream",
     "text": [
      "/var/folders/bh/s4tpllbx26b8j4m3578sct1xf34l_t/T/ipykernel_4519/2932659059.py:8: FutureWarning: The frame.append method is deprecated and will be removed from pandas in a future version. Use pandas.concat instead.\n",
      "  df_combined = pd.DataFrame(df_train.append(df_test))\n"
     ]
    }
   ],
   "source": [
    "# partition (top 10)\n",
    "if test_run:\n",
    "    df_comb = pd.DataFrame(df_train.append(df_test))\n",
    "    df_combined = df_comb.head(10)\n",
    "\n",
    "# full data set\n",
    "else:\n",
    "    df_combined = pd.DataFrame(df_train.append(df_test))\n",
    "\n",
    "# resetting index\n",
    "df_combined = df_combined.reset_index()"
   ]
  },
  {
   "cell_type": "markdown",
   "id": "cd024863-4341-43c9-91e9-fa8bccf986bb",
   "metadata": {},
   "source": [
    "## 2. Canonicalizing smiles from molecules"
   ]
  },
  {
   "cell_type": "code",
   "execution_count": 44,
   "id": "e272f3a1",
   "metadata": {},
   "outputs": [
    {
     "ename": "KeyboardInterrupt",
     "evalue": "",
     "output_type": "error",
     "traceback": [
      "\u001b[0;31m---------------------------------------------------------------------------\u001b[0m",
      "\u001b[0;31mKeyboardInterrupt\u001b[0m                         Traceback (most recent call last)",
      "\u001b[1;32m/Users/amielke/kaggle_competition_solubility/Data_preparation.ipynb Zelle 35\u001b[0m in \u001b[0;36m<cell line: 2>\u001b[0;34m()\u001b[0m\n\u001b[1;32m      <a href='vscode-notebook-cell:/Users/amielke/kaggle_competition_solubility/Data_preparation.ipynb#X60sZmlsZQ%3D%3D?line=0'>1</a>\u001b[0m \u001b[39m# creating molecules from smiles\u001b[39;00m\n\u001b[0;32m----> <a href='vscode-notebook-cell:/Users/amielke/kaggle_competition_solubility/Data_preparation.ipynb#X60sZmlsZQ%3D%3D?line=1'>2</a>\u001b[0m df_combined[\u001b[39m'\u001b[39m\u001b[39mmolecule\u001b[39m\u001b[39m'\u001b[39m] \u001b[39m=\u001b[39m df_combined[\u001b[39m'\u001b[39;49m\u001b[39msmiles\u001b[39;49m\u001b[39m'\u001b[39;49m]\u001b[39m.\u001b[39;49mapply(Chem\u001b[39m.\u001b[39;49mMolFromSmiles)\n\u001b[1;32m      <a href='vscode-notebook-cell:/Users/amielke/kaggle_competition_solubility/Data_preparation.ipynb#X60sZmlsZQ%3D%3D?line=3'>4</a>\u001b[0m \u001b[39m# creating canonical smiles from molecules\u001b[39;00m\n\u001b[1;32m      <a href='vscode-notebook-cell:/Users/amielke/kaggle_competition_solubility/Data_preparation.ipynb#X60sZmlsZQ%3D%3D?line=4'>5</a>\u001b[0m df_combined[\u001b[39m'\u001b[39m\u001b[39msmiles\u001b[39m\u001b[39m'\u001b[39m] \u001b[39m=\u001b[39m df_combined[\u001b[39m'\u001b[39m\u001b[39mmolecule\u001b[39m\u001b[39m'\u001b[39m]\u001b[39m.\u001b[39mapply(Chem\u001b[39m.\u001b[39mMolToSmiles)\n",
      "File \u001b[0;32m/opt/anaconda3/envs/Kaggle_solubility/lib/python3.9/site-packages/pandas/core/series.py:4771\u001b[0m, in \u001b[0;36mSeries.apply\u001b[0;34m(self, func, convert_dtype, args, **kwargs)\u001b[0m\n\u001b[1;32m   4661\u001b[0m \u001b[39mdef\u001b[39;00m \u001b[39mapply\u001b[39m(\n\u001b[1;32m   4662\u001b[0m     \u001b[39mself\u001b[39m,\n\u001b[1;32m   4663\u001b[0m     func: AggFuncType,\n\u001b[0;32m   (...)\u001b[0m\n\u001b[1;32m   4666\u001b[0m     \u001b[39m*\u001b[39m\u001b[39m*\u001b[39mkwargs,\n\u001b[1;32m   4667\u001b[0m ) \u001b[39m-\u001b[39m\u001b[39m>\u001b[39m DataFrame \u001b[39m|\u001b[39m Series:\n\u001b[1;32m   4668\u001b[0m     \u001b[39m\"\"\"\u001b[39;00m\n\u001b[1;32m   4669\u001b[0m \u001b[39m    Invoke function on values of Series.\u001b[39;00m\n\u001b[1;32m   4670\u001b[0m \n\u001b[0;32m   (...)\u001b[0m\n\u001b[1;32m   4769\u001b[0m \u001b[39m    dtype: float64\u001b[39;00m\n\u001b[1;32m   4770\u001b[0m \u001b[39m    \"\"\"\u001b[39;00m\n\u001b[0;32m-> 4771\u001b[0m     \u001b[39mreturn\u001b[39;00m SeriesApply(\u001b[39mself\u001b[39;49m, func, convert_dtype, args, kwargs)\u001b[39m.\u001b[39;49mapply()\n",
      "File \u001b[0;32m/opt/anaconda3/envs/Kaggle_solubility/lib/python3.9/site-packages/pandas/core/apply.py:1105\u001b[0m, in \u001b[0;36mSeriesApply.apply\u001b[0;34m(self)\u001b[0m\n\u001b[1;32m   1102\u001b[0m     \u001b[39mreturn\u001b[39;00m \u001b[39mself\u001b[39m\u001b[39m.\u001b[39mapply_str()\n\u001b[1;32m   1104\u001b[0m \u001b[39m# self.f is Callable\u001b[39;00m\n\u001b[0;32m-> 1105\u001b[0m \u001b[39mreturn\u001b[39;00m \u001b[39mself\u001b[39;49m\u001b[39m.\u001b[39;49mapply_standard()\n",
      "File \u001b[0;32m/opt/anaconda3/envs/Kaggle_solubility/lib/python3.9/site-packages/pandas/core/apply.py:1156\u001b[0m, in \u001b[0;36mSeriesApply.apply_standard\u001b[0;34m(self)\u001b[0m\n\u001b[1;32m   1154\u001b[0m     \u001b[39melse\u001b[39;00m:\n\u001b[1;32m   1155\u001b[0m         values \u001b[39m=\u001b[39m obj\u001b[39m.\u001b[39mastype(\u001b[39mobject\u001b[39m)\u001b[39m.\u001b[39m_values\n\u001b[0;32m-> 1156\u001b[0m         mapped \u001b[39m=\u001b[39m lib\u001b[39m.\u001b[39;49mmap_infer(\n\u001b[1;32m   1157\u001b[0m             values,\n\u001b[1;32m   1158\u001b[0m             f,\n\u001b[1;32m   1159\u001b[0m             convert\u001b[39m=\u001b[39;49m\u001b[39mself\u001b[39;49m\u001b[39m.\u001b[39;49mconvert_dtype,\n\u001b[1;32m   1160\u001b[0m         )\n\u001b[1;32m   1162\u001b[0m \u001b[39mif\u001b[39;00m \u001b[39mlen\u001b[39m(mapped) \u001b[39mand\u001b[39;00m \u001b[39misinstance\u001b[39m(mapped[\u001b[39m0\u001b[39m], ABCSeries):\n\u001b[1;32m   1163\u001b[0m     \u001b[39m# GH#43986 Need to do list(mapped) in order to get treated as nested\u001b[39;00m\n\u001b[1;32m   1164\u001b[0m     \u001b[39m#  See also GH#25959 regarding EA support\u001b[39;00m\n\u001b[1;32m   1165\u001b[0m     \u001b[39mreturn\u001b[39;00m obj\u001b[39m.\u001b[39m_constructor_expanddim(\u001b[39mlist\u001b[39m(mapped), index\u001b[39m=\u001b[39mobj\u001b[39m.\u001b[39mindex)\n",
      "File \u001b[0;32m/opt/anaconda3/envs/Kaggle_solubility/lib/python3.9/site-packages/pandas/_libs/lib.pyx:2927\u001b[0m, in \u001b[0;36mpandas._libs.lib.map_infer\u001b[0;34m()\u001b[0m\n",
      "File \u001b[0;32m/opt/anaconda3/envs/Kaggle_solubility/lib/python3.9/site-packages/pandas/_libs/lib.pyx:2509\u001b[0m, in \u001b[0;36mpandas._libs.lib.maybe_convert_objects\u001b[0;34m()\u001b[0m\n",
      "File \u001b[0;32m/opt/anaconda3/envs/Kaggle_solubility/lib/python3.9/site-packages/numpy/core/numeric.py:289\u001b[0m, in \u001b[0;36mfull\u001b[0;34m(shape, fill_value, dtype, order, like)\u001b[0m\n\u001b[1;32m    285\u001b[0m \u001b[39mdef\u001b[39;00m \u001b[39m_full_dispatcher\u001b[39m(shape, fill_value, dtype\u001b[39m=\u001b[39m\u001b[39mNone\u001b[39;00m, order\u001b[39m=\u001b[39m\u001b[39mNone\u001b[39;00m, \u001b[39m*\u001b[39m, like\u001b[39m=\u001b[39m\u001b[39mNone\u001b[39;00m):\n\u001b[1;32m    286\u001b[0m     \u001b[39mreturn\u001b[39;00m(like,)\n\u001b[0;32m--> 289\u001b[0m \u001b[39m@set_array_function_like_doc\u001b[39m\n\u001b[1;32m    290\u001b[0m \u001b[39m@set_module\u001b[39m(\u001b[39m'\u001b[39m\u001b[39mnumpy\u001b[39m\u001b[39m'\u001b[39m)\n\u001b[1;32m    291\u001b[0m \u001b[39mdef\u001b[39;00m \u001b[39mfull\u001b[39m(shape, fill_value, dtype\u001b[39m=\u001b[39m\u001b[39mNone\u001b[39;00m, order\u001b[39m=\u001b[39m\u001b[39m'\u001b[39m\u001b[39mC\u001b[39m\u001b[39m'\u001b[39m, \u001b[39m*\u001b[39m, like\u001b[39m=\u001b[39m\u001b[39mNone\u001b[39;00m):\n\u001b[1;32m    292\u001b[0m     \u001b[39m\"\"\"\u001b[39;00m\n\u001b[1;32m    293\u001b[0m \u001b[39m    Return a new array of given shape and type, filled with `fill_value`.\u001b[39;00m\n\u001b[1;32m    294\u001b[0m \n\u001b[0;32m   (...)\u001b[0m\n\u001b[1;32m    335\u001b[0m \n\u001b[1;32m    336\u001b[0m \u001b[39m    \"\"\"\u001b[39;00m\n\u001b[1;32m    337\u001b[0m     \u001b[39mif\u001b[39;00m like \u001b[39mis\u001b[39;00m \u001b[39mnot\u001b[39;00m \u001b[39mNone\u001b[39;00m:\n",
      "\u001b[0;31mKeyboardInterrupt\u001b[0m: "
     ]
    }
   ],
   "source": [
    "# creating molecules from smiles\n",
    "df_combined['molecule'] = df_combined['smiles'].apply(Chem.MolFromSmiles)\n",
    "\n",
    "# creating canonical smiles from molecules\n",
    "df_combined['smiles'] = df_combined['molecule'].apply(Chem.MolToSmiles)"
   ]
  },
  {
   "cell_type": "markdown",
   "id": "052b301d-64ee-4128-b635-5dc4aba61b1d",
   "metadata": {},
   "source": [
    "## 3. Standardising molecules"
   ]
  },
  {
   "cell_type": "code",
   "execution_count": null,
   "metadata": {},
   "outputs": [],
   "source": [
    "df_combined['molecule'] = df_combined['smiles'].apply(transform)"
   ]
  },
  {
   "cell_type": "markdown",
   "id": "5a2b3f38-a859-40f6-aea2-636a6e06d1d2",
   "metadata": {},
   "source": [
    "## 4. Extraction of MorganFP and rdkit descriptors"
   ]
  },
  {
   "cell_type": "code",
   "execution_count": null,
   "id": "f8a17f5a",
   "metadata": {},
   "outputs": [],
   "source": [
    "df_combined_copy = df_combined.copy(deep=True)"
   ]
  },
  {
   "cell_type": "markdown",
   "id": "381fb27c",
   "metadata": {},
   "source": [
    "#### generating MorganFP"
   ]
  },
  {
   "cell_type": "code",
   "execution_count": null,
   "id": "3db2d6df",
   "metadata": {},
   "outputs": [],
   "source": [
    "df_combined_copy[\"FP\"] = df_combined_copy[\"molecule\"].apply(MFP_generator)\n",
    "#df_combined_copy"
   ]
  },
  {
   "cell_type": "markdown",
   "metadata": {},
   "source": [
    "#### reformating morgan finger print bits into seperate columns"
   ]
  },
  {
   "cell_type": "code",
   "execution_count": null,
   "metadata": {},
   "outputs": [],
   "source": [
    "# generate a Numpy array of sample size and fps\n",
    "fp_arr = np.stack(df_combined_copy[\"FP\"])\n",
    "\n",
    "#convert to df\n",
    "df_fp = pd.DataFrame(fp_arr)"
   ]
  },
  {
   "cell_type": "markdown",
   "metadata": {},
   "source": [
    "#### Descriptors"
   ]
  },
  {
   "cell_type": "code",
   "execution_count": null,
   "metadata": {},
   "outputs": [],
   "source": [
    "if AllData:\n",
    "    df_combined_copy[\"desc\"] = df_combined_copy[\"molecule\"].apply(desc_generator)\n",
    "    \n",
    "    # generate a Numpy array of sample size and fps\n",
    "    desc_arr = np.stack(df_combined_copy[\"desc\"])\n",
    "\n",
    "    #convert to df\n",
    "    df_desc = pd.DataFrame(desc_arr)"
   ]
  },
  {
   "cell_type": "markdown",
   "metadata": {},
   "source": [
    "#### resetting index and labeling, optional : caculating descriptors"
   ]
  },
  {
   "cell_type": "code",
   "execution_count": null,
   "metadata": {},
   "outputs": [],
   "source": [
    "# adding MorganFP\n",
    "df_fp = df_fp.reset_index(drop=True)\n",
    "df_fp = rename(df_fp, 'ecfp_')\n",
    "\n",
    "# adding rdkit descriptors\n",
    "if AllData:\n",
    "    df_desc = df_desc.reset_index(drop=True)\n",
    "    df_desc.columns=desc_name_generator()\n",
    "    df_desc = rename(df_desc, 'rdkit_desc_')\n",
    "#df_desc"
   ]
  },
  {
   "cell_type": "markdown",
   "id": "d664f475",
   "metadata": {},
   "source": [
    "## 5. Combining data sets"
   ]
  },
  {
   "cell_type": "code",
   "execution_count": null,
   "metadata": {},
   "outputs": [],
   "source": [
    "# Combined data with only MorganFP\n",
    "df_combined = pd.concat([df_combined, df_fp], axis=1)\n",
    "\n",
    "# Adding example descriptors\n",
    "if use_example:\n",
    "    #df_combined = pd.concat([df_combined, df_example], axis=1)\n",
    "    df_combined = pd.merge(df_combined, df_example, on='Id', how='inner')\n",
    "\n",
    "# complete data set by adding rdkit descriptors\n",
    "if AllData:\n",
    "    df_AllData = pd.concat([df_combined, df_desc], axis=1)\n",
    "    df_AllData.drop(columns=['index','molecule'], inplace=True)"
   ]
  },
  {
   "cell_type": "markdown",
   "metadata": {},
   "source": [
    "#### delete columns with unique values"
   ]
  },
  {
   "cell_type": "code",
   "execution_count": null,
   "metadata": {},
   "outputs": [],
   "source": [
    "if delun:\n",
    "    if AllData:\n",
    "        len_un = len(df_AllData.columns)\n",
    "        df_AllData = df_AllData.loc[:,df_AllData.nunique()!=1]\n",
    "        num_drop_unique = len_un - len(df_AllData.columns)\n",
    "        print(f'number of dropped collumns with identical values: {num_drop_unique}')\n",
    "    else:\n",
    "        len_un = len(df_combined.columns)\n",
    "        df_combined = df_combined.loc[:,df_combined.nunique()!=1]\n",
    "        num_drop_unique = len_un - len(df_combined.columns)\n",
    "        print(f'number of dropped collumns with identical values: {num_drop_unique}')"
   ]
  },
  {
   "cell_type": "markdown",
   "metadata": {},
   "source": [
    "## 6. Separating train and test data sets on dummy value"
   ]
  },
  {
   "cell_type": "code",
   "execution_count": null,
   "metadata": {},
   "outputs": [
    {
     "name": "stderr",
     "output_type": "stream",
     "text": [
      "/var/folders/bh/s4tpllbx26b8j4m3578sct1xf34l_t/T/ipykernel_4519/2539861405.py:15: SettingWithCopyWarning: \n",
      "A value is trying to be set on a copy of a slice from a DataFrame\n",
      "\n",
      "See the caveats in the documentation: https://pandas.pydata.org/pandas-docs/stable/user_guide/indexing.html#returning-a-view-versus-a-copy\n",
      "  df_test_set.drop(columns='sol_category', inplace=True)\n"
     ]
    },
    {
     "data": {
      "text/html": [
       "<div>\n",
       "<style scoped>\n",
       "    .dataframe tbody tr th:only-of-type {\n",
       "        vertical-align: middle;\n",
       "    }\n",
       "\n",
       "    .dataframe tbody tr th {\n",
       "        vertical-align: top;\n",
       "    }\n",
       "\n",
       "    .dataframe thead th {\n",
       "        text-align: right;\n",
       "    }\n",
       "</style>\n",
       "<table border=\"1\" class=\"dataframe\">\n",
       "  <thead>\n",
       "    <tr style=\"text-align: right;\">\n",
       "      <th></th>\n",
       "      <th>Id</th>\n",
       "      <th>smiles</th>\n",
       "      <th>ecfp_0</th>\n",
       "      <th>ecfp_1</th>\n",
       "      <th>ecfp_2</th>\n",
       "      <th>ecfp_3</th>\n",
       "      <th>ecfp_4</th>\n",
       "      <th>ecfp_5</th>\n",
       "      <th>ecfp_6</th>\n",
       "      <th>ecfp_7</th>\n",
       "      <th>...</th>\n",
       "      <th>rdkit_desc_fr_sulfide</th>\n",
       "      <th>rdkit_desc_fr_sulfonamd</th>\n",
       "      <th>rdkit_desc_fr_sulfone</th>\n",
       "      <th>rdkit_desc_fr_term_acetylene</th>\n",
       "      <th>rdkit_desc_fr_tetrazole</th>\n",
       "      <th>rdkit_desc_fr_thiazole</th>\n",
       "      <th>rdkit_desc_fr_thiocyan</th>\n",
       "      <th>rdkit_desc_fr_thiophene</th>\n",
       "      <th>rdkit_desc_fr_unbrch_alkane</th>\n",
       "      <th>rdkit_desc_fr_urea</th>\n",
       "    </tr>\n",
       "  </thead>\n",
       "  <tbody>\n",
       "  </tbody>\n",
       "</table>\n",
       "<p>0 rows × 4346 columns</p>\n",
       "</div>"
      ],
      "text/plain": [
       "Empty DataFrame\n",
       "Columns: [Id, smiles, ecfp_0, ecfp_1, ecfp_2, ecfp_3, ecfp_4, ecfp_5, ecfp_6, ecfp_7, ecfp_8, ecfp_9, ecfp_10, ecfp_11, ecfp_12, ecfp_13, ecfp_14, ecfp_15, ecfp_16, ecfp_17, ecfp_18, ecfp_19, ecfp_20, ecfp_21, ecfp_22, ecfp_23, ecfp_24, ecfp_25, ecfp_26, ecfp_27, ecfp_28, ecfp_29, ecfp_30, ecfp_31, ecfp_32, ecfp_33, ecfp_34, ecfp_35, ecfp_36, ecfp_37, ecfp_38, ecfp_39, ecfp_40, ecfp_41, ecfp_42, ecfp_43, ecfp_44, ecfp_45, ecfp_46, ecfp_47, ecfp_48, ecfp_49, ecfp_50, ecfp_51, ecfp_52, ecfp_53, ecfp_54, ecfp_55, ecfp_56, ecfp_57, ecfp_58, ecfp_59, ecfp_60, ecfp_61, ecfp_62, ecfp_63, ecfp_64, ecfp_65, ecfp_66, ecfp_67, ecfp_68, ecfp_69, ecfp_70, ecfp_71, ecfp_72, ecfp_73, ecfp_74, ecfp_75, ecfp_76, ecfp_77, ecfp_78, ecfp_79, ecfp_80, ecfp_81, ecfp_82, ecfp_83, ecfp_84, ecfp_85, ecfp_86, ecfp_87, ecfp_88, ecfp_89, ecfp_90, ecfp_91, ecfp_92, ecfp_93, ecfp_94, ecfp_95, ecfp_96, ecfp_97, ...]\n",
       "Index: []\n",
       "\n",
       "[0 rows x 4346 columns]"
      ]
     },
     "execution_count": 26,
     "metadata": {},
     "output_type": "execute_result"
    }
   ],
   "source": [
    "df_train_set = pd.DataFrame()\n",
    "df_test_set = pd.DataFrame()\n",
    "\n",
    "# complete data set with MorganFP and rdkit descriptors\n",
    "if AllData == True:\n",
    "    df_train_set = df_AllData[df_AllData['sol_category'] <= 4]\n",
    "    df_test_set = df_AllData[df_AllData['sol_category'] == 5]\n",
    "\n",
    "# data set with only MorganFP    \n",
    "elif AllData == False:\n",
    "    df_train_set = df_combined[df_combined['sol_category'] <= 4]\n",
    "    df_test_set = df_combined[df_combined['sol_category'] == 5]\n",
    "\n",
    "# Restructuring test data\n",
    "df_test_set.drop(columns='sol_category', inplace=True)\n",
    "df_test_set.reset_index(drop=True)"
   ]
  },
  {
   "cell_type": "markdown",
   "metadata": {},
   "source": [
    "## 7. Saving data sets as csv files"
   ]
  },
  {
   "cell_type": "code",
   "execution_count": null,
   "metadata": {},
   "outputs": [],
   "source": [
    "if save:\n",
    "    if test_run == False:\n",
    "        df_train_set.to_csv('df_train_set.csv', index=False)\n",
    "        df_test_set.to_csv('df_test_set.csv', index=False)\n",
    "    else:\n",
    "        print('test run')"
   ]
  }
 ],
 "metadata": {
  "kernelspec": {
   "display_name": "Python 3.9.13 ('Kaggle_solubility')",
   "language": "python",
   "name": "python3"
  },
  "language_info": {
   "codemirror_mode": {
    "name": "ipython",
    "version": 3
   },
   "file_extension": ".py",
   "mimetype": "text/x-python",
   "name": "python",
   "nbconvert_exporter": "python",
   "pygments_lexer": "ipython3",
   "version": "3.9.13"
  },
  "orig_nbformat": 4,
  "vscode": {
   "interpreter": {
    "hash": "048cebc6bb026d2162f15fb19087d94e922b7f5286c2ebb45fba7f0e79006065"
   }
  }
 },
 "nbformat": 4,
 "nbformat_minor": 2
}
