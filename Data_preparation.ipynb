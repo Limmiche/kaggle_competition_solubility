{
 "cells": [
  {
   "cell_type": "code",
   "execution_count": 1,
   "metadata": {},
   "outputs": [],
   "source": [
    "import pandas as pd\n",
    "import numpy as np\n",
    "from rdkit import Chem\n",
    "from rdkit.Chem import AllChem\n",
    "from rdkit.Chem import Descriptors\n",
    "from rdkit.rdBase import BlockLogs\n",
    "from rdkit.Chem.MolStandardize import rdMolStandardize"
   ]
  },
  {
   "cell_type": "markdown",
   "metadata": {},
   "source": [
    "## Parameters\n",
    "a number of parameters are used to control the data preparation, definitions are included in the respective cells"
   ]
  },
  {
   "cell_type": "markdown",
   "metadata": {},
   "source": [
    "#### specifying data set features"
   ]
  },
  {
   "cell_type": "code",
   "execution_count": 2,
   "metadata": {},
   "outputs": [],
   "source": [
    "# True: complete data set with MorganFP and rdkit descriptors\n",
    "# False: complete data set only with MorganFP\n",
    "\n",
    "AllData = True\n",
    "#AllData = False"
   ]
  },
  {
   "cell_type": "code",
   "execution_count": 3,
   "metadata": {},
   "outputs": [],
   "source": [
    "# True: add example descriptor data to the data set\n",
    "# False: don't use example descriptor data\n",
    "\n",
    "use_example = True\n",
    "#use_example = False"
   ]
  },
  {
   "cell_type": "markdown",
   "metadata": {},
   "source": [
    "#### radius of morgan finger prints\n",
    "the radius of the morgan finger prints is a parameter and can be set to integer values. Different values will affect the model."
   ]
  },
  {
   "cell_type": "code",
   "execution_count": 4,
   "metadata": {},
   "outputs": [],
   "source": [
    "mfp_r = 1"
   ]
  },
  {
   "cell_type": "markdown",
   "metadata": {},
   "source": [
    "#### test run"
   ]
  },
  {
   "cell_type": "code",
   "execution_count": 5,
   "metadata": {},
   "outputs": [],
   "source": [
    "# True: use the first 10 rows of the data\n",
    "# False: use the entire data set\n",
    "\n",
    "test_run = False\n",
    "#test_run = True"
   ]
  },
  {
   "cell_type": "markdown",
   "metadata": {},
   "source": [
    "#### removing columns with unique values\n",
    "warning: deleting columns with identical values had a negative effect on the prediction score for some reason"
   ]
  },
  {
   "cell_type": "code",
   "execution_count": 6,
   "metadata": {},
   "outputs": [],
   "source": [
    "# True: delete all columns with unique values\n",
    "# False: keep the data set without removing any columns\n",
    "\n",
    "delun = False\n",
    "#delun = True"
   ]
  },
  {
   "cell_type": "markdown",
   "metadata": {},
   "source": [
    "#### save as csv\n",
    "data will only be saved if 'save' is set to true AND 'test_run' is set to false"
   ]
  },
  {
   "cell_type": "code",
   "execution_count": 7,
   "metadata": {},
   "outputs": [],
   "source": [
    "# True: save training and testing data sets as csv files\n",
    "\n",
    "save = True\n",
    "#save = False"
   ]
  },
  {
   "cell_type": "markdown",
   "metadata": {},
   "source": [
    "## Function collection"
   ]
  },
  {
   "cell_type": "markdown",
   "metadata": {},
   "source": [
    "#### Renaming function\n",
    "renames columns of a data set by adding a prefix 'new_name' in front of it"
   ]
  },
  {
   "cell_type": "code",
   "execution_count": 8,
   "metadata": {},
   "outputs": [],
   "source": [
    "def rename(df_name, new_name):\n",
    "    df = df_name.copy(deep=True)\n",
    "    for i in range(len(df_name.columns)):\n",
    "        name = new_name + str(df_name.columns[i])\n",
    "        df.rename(columns={df_name.columns[i] : name}, inplace=True)\n",
    "    return df"
   ]
  },
  {
   "cell_type": "markdown",
   "metadata": {},
   "source": [
    "#### Molecule standardizer\n",
    "standardizes molecules by removing counterions and charges"
   ]
  },
  {
   "cell_type": "code",
   "execution_count": 9,
   "metadata": {},
   "outputs": [],
   "source": [
    "def transform(smiles, neutralize=True):\n",
    "        mol = Chem.MolFromSmiles(smiles)\n",
    "        block = BlockLogs() # Block all RDkit logging\n",
    "        \n",
    "        # Normalizing functional groups\n",
    "        # https://molvs.readthedocs.io/en/latest/guide/standardize.html\n",
    "        clean_mol = rdMolStandardize.Cleanup(mol) \n",
    "        # Get parents fragments\n",
    "        parent_clean_mol = rdMolStandardize.FragmentParent(clean_mol)\n",
    "\n",
    "        # Neutralise\n",
    "        if neutralize:\n",
    "            uncharger = rdMolStandardize.Uncharger()\n",
    "            uncharged_parent_clean_mol = uncharger.uncharge(parent_clean_mol)\n",
    "        else:\n",
    "            uncharged_parent_clean_mol = parent_clean_mol\n",
    "        del block # Release logging block to previous state\n",
    "        return(uncharged_parent_clean_mol)"
   ]
  },
  {
   "cell_type": "markdown",
   "metadata": {},
   "source": [
    "#### MorganFP generator\n",
    "generates morgan finger prints with a certain radius 'mfp_r' to set in the Parameter section"
   ]
  },
  {
   "cell_type": "code",
   "execution_count": 10,
   "metadata": {},
   "outputs": [],
   "source": [
    "def MFP_generator(mol):\n",
    "    return(AllChem.GetMorganFingerprintAsBitVect(mol, radius=mfp_r, nBits=4096))"
   ]
  },
  {
   "cell_type": "markdown",
   "metadata": {},
   "source": [
    "#### Descriptor calculator\n",
    "calculates rdkit descriptors of a molecule"
   ]
  },
  {
   "cell_type": "code",
   "execution_count": 11,
   "metadata": {},
   "outputs": [],
   "source": [
    "def desc_generator(mol):\n",
    "    desc_list = []\n",
    "    for i in range(len(Chem.Descriptors.descList)):\n",
    "        desc_list.append(Chem.Descriptors.descList[i][1](mol))\n",
    "    return desc_list"
   ]
  },
  {
   "cell_type": "markdown",
   "metadata": {},
   "source": [
    "#### Descriptor name generator"
   ]
  },
  {
   "cell_type": "code",
   "execution_count": 12,
   "metadata": {},
   "outputs": [],
   "source": [
    "def desc_name_generator():\n",
    "    desc_list = []\n",
    "    for i in range(len(Chem.Descriptors.descList)):\n",
    "        desc_list.append(Chem.Descriptors.descList[i][0])\n",
    "    return desc_list"
   ]
  },
  {
   "cell_type": "markdown",
   "id": "611b2578-76cc-4963-864e-ae83aac99b76",
   "metadata": {},
   "source": [
    "## 0. Reading data files from csv"
   ]
  },
  {
   "cell_type": "markdown",
   "id": "636ce258",
   "metadata": {},
   "source": [
    "#### reading training data set"
   ]
  },
  {
   "cell_type": "code",
   "execution_count": 13,
   "id": "923a4add",
   "metadata": {},
   "outputs": [],
   "source": [
    "df_train = pd.read_csv(\"Data/train.csv\")"
   ]
  },
  {
   "cell_type": "markdown",
   "id": "ca3f6fae",
   "metadata": {},
   "source": [
    "#### reading example predictor data set"
   ]
  },
  {
   "cell_type": "code",
   "execution_count": 14,
   "id": "bf99c0d7",
   "metadata": {},
   "outputs": [],
   "source": [
    "example = pd.read_csv(\"Data/example_predictors.csv\")\n",
    "example.drop(columns='smiles', inplace=True)\n",
    "\n",
    "df_example = rename(example, 'example_')\n",
    "\n",
    "df_example.rename(columns={df_example.columns[0] : 'Id'}, inplace=True)"
   ]
  },
  {
   "cell_type": "markdown",
   "id": "c14aa009",
   "metadata": {},
   "source": [
    "#### reading test data set"
   ]
  },
  {
   "cell_type": "code",
   "execution_count": 15,
   "id": "fbe42614",
   "metadata": {},
   "outputs": [],
   "source": [
    "df_test = pd.read_csv(\"Data/test.csv\")\n",
    "\n",
    "# dummy value for the solubility category\n",
    "df_test[\"sol_category\"] = 5"
   ]
  },
  {
   "cell_type": "markdown",
   "id": "2f3cf1e8",
   "metadata": {},
   "source": [
    "## 1. Combining train and test data sets\n",
    "combines training and testing set to simplify the feature generation. The 'apppend' command might need to be replaced for further versions of pandas since the method is deprecated"
   ]
  },
  {
   "cell_type": "code",
   "execution_count": 16,
   "id": "ec6354b2",
   "metadata": {},
   "outputs": [
    {
     "name": "stderr",
     "output_type": "stream",
     "text": [
      "/var/folders/bh/s4tpllbx26b8j4m3578sct1xf34l_t/T/ipykernel_1432/2932659059.py:8: FutureWarning: The frame.append method is deprecated and will be removed from pandas in a future version. Use pandas.concat instead.\n",
      "  df_combined = pd.DataFrame(df_train.append(df_test))\n"
     ]
    }
   ],
   "source": [
    "# partition (top 10)\n",
    "if test_run:\n",
    "    df_comb = pd.DataFrame(df_train.append(df_test))\n",
    "    df_combined = df_comb.head(10)\n",
    "\n",
    "# full data set\n",
    "else:\n",
    "    df_combined = pd.DataFrame(df_train.append(df_test))\n",
    "\n",
    "# resetting index\n",
    "df_combined = df_combined.reset_index()"
   ]
  },
  {
   "cell_type": "markdown",
   "id": "cd024863-4341-43c9-91e9-fa8bccf986bb",
   "metadata": {},
   "source": [
    "## 2. Canonicalizing smiles from molecules\n",
    "rdkit MolToSmiles creates canonical smiles from a molecules"
   ]
  },
  {
   "cell_type": "code",
   "execution_count": 17,
   "id": "e272f3a1",
   "metadata": {},
   "outputs": [],
   "source": [
    "# creating molecules from smiles\n",
    "df_combined['molecule'] = df_combined['smiles'].apply(Chem.MolFromSmiles)\n",
    "\n",
    "# creating canonical smiles from molecules\n",
    "df_combined['smiles'] = df_combined['molecule'].apply(Chem.MolToSmiles)"
   ]
  },
  {
   "cell_type": "markdown",
   "id": "052b301d-64ee-4128-b635-5dc4aba61b1d",
   "metadata": {},
   "source": [
    "## 3. Standardising molecules"
   ]
  },
  {
   "cell_type": "code",
   "execution_count": 18,
   "metadata": {},
   "outputs": [],
   "source": [
    "df_combined['molecule'] = df_combined['smiles'].apply(transform)"
   ]
  },
  {
   "cell_type": "markdown",
   "id": "5a2b3f38-a859-40f6-aea2-636a6e06d1d2",
   "metadata": {},
   "source": [
    "## 4. Extraction of MorganFP and rdkit descriptors"
   ]
  },
  {
   "cell_type": "code",
   "execution_count": 19,
   "id": "f8a17f5a",
   "metadata": {},
   "outputs": [],
   "source": [
    "df_combined_copy = df_combined.copy(deep=True)"
   ]
  },
  {
   "cell_type": "markdown",
   "id": "381fb27c",
   "metadata": {},
   "source": [
    "#### generating MorganFP"
   ]
  },
  {
   "cell_type": "code",
   "execution_count": 20,
   "id": "3db2d6df",
   "metadata": {},
   "outputs": [],
   "source": [
    "df_combined_copy[\"FP\"] = df_combined_copy[\"molecule\"].apply(MFP_generator)\n",
    "#df_combined_copy"
   ]
  },
  {
   "cell_type": "markdown",
   "metadata": {},
   "source": [
    "#### reformating morgan finger print bits into seperate columns"
   ]
  },
  {
   "cell_type": "code",
   "execution_count": 21,
   "metadata": {},
   "outputs": [],
   "source": [
    "# generate a Numpy array of sample size and fps\n",
    "fp_arr = np.stack(df_combined_copy[\"FP\"])\n",
    "\n",
    "#convert to df\n",
    "df_fp = pd.DataFrame(fp_arr)"
   ]
  },
  {
   "cell_type": "markdown",
   "metadata": {},
   "source": [
    "#### Descriptors\n",
    "descriptors are only calculated if the parameter 'AllData' is set to true to save time if 'AllData' is set to false"
   ]
  },
  {
   "cell_type": "code",
   "execution_count": 22,
   "metadata": {},
   "outputs": [],
   "source": [
    "if AllData:\n",
    "    df_combined_copy[\"desc\"] = df_combined_copy[\"molecule\"].apply(desc_generator)\n",
    "    \n",
    "    # generate a Numpy array of sample size and fps\n",
    "    desc_arr = np.stack(df_combined_copy[\"desc\"])\n",
    "\n",
    "    #convert to df\n",
    "    df_desc = pd.DataFrame(desc_arr)"
   ]
  },
  {
   "cell_type": "markdown",
   "metadata": {},
   "source": [
    "#### resetting index and labeling, optional : caculating descriptors"
   ]
  },
  {
   "cell_type": "code",
   "execution_count": 23,
   "metadata": {},
   "outputs": [],
   "source": [
    "# adding MorganFP\n",
    "df_fp = df_fp.reset_index(drop=True)\n",
    "df_fp = rename(df_fp, 'ecfp_')\n",
    "\n",
    "# adding rdkit descriptors\n",
    "if AllData:\n",
    "    df_desc = df_desc.reset_index(drop=True)\n",
    "    df_desc.columns=desc_name_generator()\n",
    "    df_desc = rename(df_desc, 'rdkit_desc_')\n",
    "#df_desc"
   ]
  },
  {
   "cell_type": "markdown",
   "id": "d664f475",
   "metadata": {},
   "source": [
    "## 5. Combining data sets\n",
    "adds feature data sets to the combined training and testing data set, the composition depends on the parameters 'use_example' and 'AllData'"
   ]
  },
  {
   "cell_type": "code",
   "execution_count": 24,
   "metadata": {},
   "outputs": [],
   "source": [
    "# Combined data with only MorganFP\n",
    "df_combined = pd.concat([df_combined, df_fp], axis=1)\n",
    "\n",
    "# Adding example descriptors\n",
    "if use_example:\n",
    "    #df_combined = pd.concat([df_combined, df_example], axis=1)\n",
    "    df_combined = pd.merge(df_combined, df_example, on='Id', how='inner')\n",
    "\n",
    "# complete data set by adding rdkit descriptors\n",
    "if AllData:\n",
    "    df_AllData = pd.concat([df_combined, df_desc], axis=1)\n",
    "    df_AllData.drop(columns=['index','molecule'], inplace=True)"
   ]
  },
  {
   "cell_type": "markdown",
   "metadata": {},
   "source": [
    "#### delete columns with unique values\n",
    "columns with only identical values are deleted if the parameter 'delun' is set to true,\n",
    "this had a slight negative effect on the prediction score for some reason"
   ]
  },
  {
   "cell_type": "code",
   "execution_count": 25,
   "metadata": {},
   "outputs": [],
   "source": [
    "if delun:\n",
    "    if AllData:\n",
    "        len_un = len(df_AllData.columns)\n",
    "        df_AllData = df_AllData.loc[:,df_AllData.nunique()!=1]\n",
    "        num_drop_unique = len_un - len(df_AllData.columns)\n",
    "        print(f'number of dropped collumns with identical values: {num_drop_unique}')\n",
    "    else:\n",
    "        len_un = len(df_combined.columns)\n",
    "        df_combined = df_combined.loc[:,df_combined.nunique()!=1]\n",
    "        num_drop_unique = len_un - len(df_combined.columns)\n",
    "        print(f'number of dropped collumns with identical values: {num_drop_unique}')"
   ]
  },
  {
   "cell_type": "markdown",
   "metadata": {},
   "source": [
    "## 6. Separating train and test data sets on dummy value\n",
    "the main use of the dummy value for the testing set is to allow the seperation of the data sets according to the 'sol_category' value. Since the training set only has values of 0, 1 and 2, every molecule with values smaller then the dummy value 5 is part of the training set while every molecule with a value of 5 is part of the testing set."
   ]
  },
  {
   "cell_type": "code",
   "execution_count": 26,
   "metadata": {},
   "outputs": [
    {
     "name": "stderr",
     "output_type": "stream",
     "text": [
      "/var/folders/bh/s4tpllbx26b8j4m3578sct1xf34l_t/T/ipykernel_1432/2539861405.py:15: SettingWithCopyWarning: \n",
      "A value is trying to be set on a copy of a slice from a DataFrame\n",
      "\n",
      "See the caveats in the documentation: https://pandas.pydata.org/pandas-docs/stable/user_guide/indexing.html#returning-a-view-versus-a-copy\n",
      "  df_test_set.drop(columns='sol_category', inplace=True)\n"
     ]
    },
    {
     "data": {
      "text/html": [
       "<div>\n",
       "<style scoped>\n",
       "    .dataframe tbody tr th:only-of-type {\n",
       "        vertical-align: middle;\n",
       "    }\n",
       "\n",
       "    .dataframe tbody tr th {\n",
       "        vertical-align: top;\n",
       "    }\n",
       "\n",
       "    .dataframe thead th {\n",
       "        text-align: right;\n",
       "    }\n",
       "</style>\n",
       "<table border=\"1\" class=\"dataframe\">\n",
       "  <thead>\n",
       "    <tr style=\"text-align: right;\">\n",
       "      <th></th>\n",
       "      <th>Id</th>\n",
       "      <th>smiles</th>\n",
       "      <th>ecfp_0</th>\n",
       "      <th>ecfp_1</th>\n",
       "      <th>ecfp_2</th>\n",
       "      <th>ecfp_3</th>\n",
       "      <th>ecfp_4</th>\n",
       "      <th>ecfp_5</th>\n",
       "      <th>ecfp_6</th>\n",
       "      <th>ecfp_7</th>\n",
       "      <th>...</th>\n",
       "      <th>rdkit_desc_fr_sulfide</th>\n",
       "      <th>rdkit_desc_fr_sulfonamd</th>\n",
       "      <th>rdkit_desc_fr_sulfone</th>\n",
       "      <th>rdkit_desc_fr_term_acetylene</th>\n",
       "      <th>rdkit_desc_fr_tetrazole</th>\n",
       "      <th>rdkit_desc_fr_thiazole</th>\n",
       "      <th>rdkit_desc_fr_thiocyan</th>\n",
       "      <th>rdkit_desc_fr_thiophene</th>\n",
       "      <th>rdkit_desc_fr_unbrch_alkane</th>\n",
       "      <th>rdkit_desc_fr_urea</th>\n",
       "    </tr>\n",
       "  </thead>\n",
       "  <tbody>\n",
       "    <tr>\n",
       "      <th>0</th>\n",
       "      <td>EOS10000</td>\n",
       "      <td>Cc1n[nH]nc1C(=O)N(C)CC1CCN(Cc2ccccc2)C1</td>\n",
       "      <td>0</td>\n",
       "      <td>0</td>\n",
       "      <td>0</td>\n",
       "      <td>0</td>\n",
       "      <td>0</td>\n",
       "      <td>0</td>\n",
       "      <td>0</td>\n",
       "      <td>0</td>\n",
       "      <td>...</td>\n",
       "      <td>0.0</td>\n",
       "      <td>0.0</td>\n",
       "      <td>0.0</td>\n",
       "      <td>0.0</td>\n",
       "      <td>0.0</td>\n",
       "      <td>0.0</td>\n",
       "      <td>0.0</td>\n",
       "      <td>0.0</td>\n",
       "      <td>0.0</td>\n",
       "      <td>0.0</td>\n",
       "    </tr>\n",
       "    <tr>\n",
       "      <th>1</th>\n",
       "      <td>EOS100001</td>\n",
       "      <td>CC[C@]1(O)C[C@@H]2CN(CCc3c([nH]c4ccccc34)[C@@]...</td>\n",
       "      <td>0</td>\n",
       "      <td>0</td>\n",
       "      <td>0</td>\n",
       "      <td>0</td>\n",
       "      <td>0</td>\n",
       "      <td>0</td>\n",
       "      <td>0</td>\n",
       "      <td>0</td>\n",
       "      <td>...</td>\n",
       "      <td>0.0</td>\n",
       "      <td>0.0</td>\n",
       "      <td>0.0</td>\n",
       "      <td>0.0</td>\n",
       "      <td>0.0</td>\n",
       "      <td>0.0</td>\n",
       "      <td>0.0</td>\n",
       "      <td>0.0</td>\n",
       "      <td>0.0</td>\n",
       "      <td>0.0</td>\n",
       "    </tr>\n",
       "    <tr>\n",
       "      <th>2</th>\n",
       "      <td>EOS100004</td>\n",
       "      <td>Cc1ccc(-c2ccc(F)cc2COc2ccc(CCC(=O)O)cc2)cc1</td>\n",
       "      <td>0</td>\n",
       "      <td>0</td>\n",
       "      <td>0</td>\n",
       "      <td>0</td>\n",
       "      <td>0</td>\n",
       "      <td>0</td>\n",
       "      <td>0</td>\n",
       "      <td>0</td>\n",
       "      <td>...</td>\n",
       "      <td>0.0</td>\n",
       "      <td>0.0</td>\n",
       "      <td>0.0</td>\n",
       "      <td>0.0</td>\n",
       "      <td>0.0</td>\n",
       "      <td>0.0</td>\n",
       "      <td>0.0</td>\n",
       "      <td>0.0</td>\n",
       "      <td>0.0</td>\n",
       "      <td>0.0</td>\n",
       "    </tr>\n",
       "    <tr>\n",
       "      <th>3</th>\n",
       "      <td>EOS100005</td>\n",
       "      <td>O=C1[C@H](CC[C@H](O)c2ccc(F)cc2)[C@@H](c2ccc(O...</td>\n",
       "      <td>0</td>\n",
       "      <td>0</td>\n",
       "      <td>0</td>\n",
       "      <td>0</td>\n",
       "      <td>0</td>\n",
       "      <td>1</td>\n",
       "      <td>0</td>\n",
       "      <td>0</td>\n",
       "      <td>...</td>\n",
       "      <td>0.0</td>\n",
       "      <td>0.0</td>\n",
       "      <td>0.0</td>\n",
       "      <td>0.0</td>\n",
       "      <td>0.0</td>\n",
       "      <td>0.0</td>\n",
       "      <td>0.0</td>\n",
       "      <td>0.0</td>\n",
       "      <td>0.0</td>\n",
       "      <td>0.0</td>\n",
       "    </tr>\n",
       "    <tr>\n",
       "      <th>4</th>\n",
       "      <td>EOS100008</td>\n",
       "      <td>Cl.c1ccc2c(CC3=NCCN3)cccc2c1</td>\n",
       "      <td>0</td>\n",
       "      <td>0</td>\n",
       "      <td>0</td>\n",
       "      <td>0</td>\n",
       "      <td>0</td>\n",
       "      <td>0</td>\n",
       "      <td>0</td>\n",
       "      <td>0</td>\n",
       "      <td>...</td>\n",
       "      <td>0.0</td>\n",
       "      <td>0.0</td>\n",
       "      <td>0.0</td>\n",
       "      <td>0.0</td>\n",
       "      <td>0.0</td>\n",
       "      <td>0.0</td>\n",
       "      <td>0.0</td>\n",
       "      <td>0.0</td>\n",
       "      <td>0.0</td>\n",
       "      <td>0.0</td>\n",
       "    </tr>\n",
       "    <tr>\n",
       "      <th>...</th>\n",
       "      <td>...</td>\n",
       "      <td>...</td>\n",
       "      <td>...</td>\n",
       "      <td>...</td>\n",
       "      <td>...</td>\n",
       "      <td>...</td>\n",
       "      <td>...</td>\n",
       "      <td>...</td>\n",
       "      <td>...</td>\n",
       "      <td>...</td>\n",
       "      <td>...</td>\n",
       "      <td>...</td>\n",
       "      <td>...</td>\n",
       "      <td>...</td>\n",
       "      <td>...</td>\n",
       "      <td>...</td>\n",
       "      <td>...</td>\n",
       "      <td>...</td>\n",
       "      <td>...</td>\n",
       "      <td>...</td>\n",
       "      <td>...</td>\n",
       "    </tr>\n",
       "    <tr>\n",
       "      <th>30302</th>\n",
       "      <td>EOS97822</td>\n",
       "      <td>CN(C)CCN1CCC(CNCc2ccc(C#N)cc2)CC1</td>\n",
       "      <td>0</td>\n",
       "      <td>0</td>\n",
       "      <td>0</td>\n",
       "      <td>0</td>\n",
       "      <td>0</td>\n",
       "      <td>0</td>\n",
       "      <td>0</td>\n",
       "      <td>0</td>\n",
       "      <td>...</td>\n",
       "      <td>0.0</td>\n",
       "      <td>0.0</td>\n",
       "      <td>0.0</td>\n",
       "      <td>0.0</td>\n",
       "      <td>0.0</td>\n",
       "      <td>0.0</td>\n",
       "      <td>0.0</td>\n",
       "      <td>0.0</td>\n",
       "      <td>0.0</td>\n",
       "      <td>0.0</td>\n",
       "    </tr>\n",
       "    <tr>\n",
       "      <th>30303</th>\n",
       "      <td>EOS97834</td>\n",
       "      <td>Cc1cn(C[C@H](O)CN2CCOCC2)c(=O)n1-c1ccccc1</td>\n",
       "      <td>0</td>\n",
       "      <td>0</td>\n",
       "      <td>0</td>\n",
       "      <td>0</td>\n",
       "      <td>0</td>\n",
       "      <td>0</td>\n",
       "      <td>0</td>\n",
       "      <td>0</td>\n",
       "      <td>...</td>\n",
       "      <td>0.0</td>\n",
       "      <td>0.0</td>\n",
       "      <td>0.0</td>\n",
       "      <td>0.0</td>\n",
       "      <td>0.0</td>\n",
       "      <td>0.0</td>\n",
       "      <td>0.0</td>\n",
       "      <td>0.0</td>\n",
       "      <td>0.0</td>\n",
       "      <td>0.0</td>\n",
       "    </tr>\n",
       "    <tr>\n",
       "      <th>30304</th>\n",
       "      <td>EOS97889</td>\n",
       "      <td>Cc1ccc(C(=O)Nc2c(N3CCOCC3)nc(-c3ccccc3)[nH]c2=...</td>\n",
       "      <td>0</td>\n",
       "      <td>0</td>\n",
       "      <td>0</td>\n",
       "      <td>0</td>\n",
       "      <td>0</td>\n",
       "      <td>0</td>\n",
       "      <td>0</td>\n",
       "      <td>0</td>\n",
       "      <td>...</td>\n",
       "      <td>0.0</td>\n",
       "      <td>0.0</td>\n",
       "      <td>0.0</td>\n",
       "      <td>0.0</td>\n",
       "      <td>0.0</td>\n",
       "      <td>0.0</td>\n",
       "      <td>0.0</td>\n",
       "      <td>0.0</td>\n",
       "      <td>0.0</td>\n",
       "      <td>0.0</td>\n",
       "    </tr>\n",
       "    <tr>\n",
       "      <th>30305</th>\n",
       "      <td>EOS97969</td>\n",
       "      <td>CC1Cc2cccc3c(O)c(C(=O)NCCCc4ccccc4)c(=O)n1c23</td>\n",
       "      <td>0</td>\n",
       "      <td>0</td>\n",
       "      <td>0</td>\n",
       "      <td>0</td>\n",
       "      <td>0</td>\n",
       "      <td>0</td>\n",
       "      <td>0</td>\n",
       "      <td>0</td>\n",
       "      <td>...</td>\n",
       "      <td>0.0</td>\n",
       "      <td>0.0</td>\n",
       "      <td>0.0</td>\n",
       "      <td>0.0</td>\n",
       "      <td>0.0</td>\n",
       "      <td>0.0</td>\n",
       "      <td>0.0</td>\n",
       "      <td>0.0</td>\n",
       "      <td>1.0</td>\n",
       "      <td>0.0</td>\n",
       "    </tr>\n",
       "    <tr>\n",
       "      <th>30306</th>\n",
       "      <td>EOS98164</td>\n",
       "      <td>CCC(C)NC(=O)N1CCCC1c1cc(C)no1</td>\n",
       "      <td>0</td>\n",
       "      <td>0</td>\n",
       "      <td>0</td>\n",
       "      <td>0</td>\n",
       "      <td>0</td>\n",
       "      <td>0</td>\n",
       "      <td>0</td>\n",
       "      <td>0</td>\n",
       "      <td>...</td>\n",
       "      <td>0.0</td>\n",
       "      <td>0.0</td>\n",
       "      <td>0.0</td>\n",
       "      <td>0.0</td>\n",
       "      <td>0.0</td>\n",
       "      <td>0.0</td>\n",
       "      <td>0.0</td>\n",
       "      <td>0.0</td>\n",
       "      <td>0.0</td>\n",
       "      <td>1.0</td>\n",
       "    </tr>\n",
       "  </tbody>\n",
       "</table>\n",
       "<p>30307 rows × 4346 columns</p>\n",
       "</div>"
      ],
      "text/plain": [
       "              Id                                             smiles  ecfp_0  \\\n",
       "0       EOS10000            Cc1n[nH]nc1C(=O)N(C)CC1CCN(Cc2ccccc2)C1       0   \n",
       "1      EOS100001  CC[C@]1(O)C[C@@H]2CN(CCc3c([nH]c4ccccc34)[C@@]...       0   \n",
       "2      EOS100004        Cc1ccc(-c2ccc(F)cc2COc2ccc(CCC(=O)O)cc2)cc1       0   \n",
       "3      EOS100005  O=C1[C@H](CC[C@H](O)c2ccc(F)cc2)[C@@H](c2ccc(O...       0   \n",
       "4      EOS100008                       Cl.c1ccc2c(CC3=NCCN3)cccc2c1       0   \n",
       "...          ...                                                ...     ...   \n",
       "30302   EOS97822                  CN(C)CCN1CCC(CNCc2ccc(C#N)cc2)CC1       0   \n",
       "30303   EOS97834          Cc1cn(C[C@H](O)CN2CCOCC2)c(=O)n1-c1ccccc1       0   \n",
       "30304   EOS97889  Cc1ccc(C(=O)Nc2c(N3CCOCC3)nc(-c3ccccc3)[nH]c2=...       0   \n",
       "30305   EOS97969      CC1Cc2cccc3c(O)c(C(=O)NCCCc4ccccc4)c(=O)n1c23       0   \n",
       "30306   EOS98164                      CCC(C)NC(=O)N1CCCC1c1cc(C)no1       0   \n",
       "\n",
       "       ecfp_1  ecfp_2  ecfp_3  ecfp_4  ecfp_5  ecfp_6  ecfp_7  ...  \\\n",
       "0           0       0       0       0       0       0       0  ...   \n",
       "1           0       0       0       0       0       0       0  ...   \n",
       "2           0       0       0       0       0       0       0  ...   \n",
       "3           0       0       0       0       1       0       0  ...   \n",
       "4           0       0       0       0       0       0       0  ...   \n",
       "...       ...     ...     ...     ...     ...     ...     ...  ...   \n",
       "30302       0       0       0       0       0       0       0  ...   \n",
       "30303       0       0       0       0       0       0       0  ...   \n",
       "30304       0       0       0       0       0       0       0  ...   \n",
       "30305       0       0       0       0       0       0       0  ...   \n",
       "30306       0       0       0       0       0       0       0  ...   \n",
       "\n",
       "       rdkit_desc_fr_sulfide  rdkit_desc_fr_sulfonamd  rdkit_desc_fr_sulfone  \\\n",
       "0                        0.0                      0.0                    0.0   \n",
       "1                        0.0                      0.0                    0.0   \n",
       "2                        0.0                      0.0                    0.0   \n",
       "3                        0.0                      0.0                    0.0   \n",
       "4                        0.0                      0.0                    0.0   \n",
       "...                      ...                      ...                    ...   \n",
       "30302                    0.0                      0.0                    0.0   \n",
       "30303                    0.0                      0.0                    0.0   \n",
       "30304                    0.0                      0.0                    0.0   \n",
       "30305                    0.0                      0.0                    0.0   \n",
       "30306                    0.0                      0.0                    0.0   \n",
       "\n",
       "       rdkit_desc_fr_term_acetylene  rdkit_desc_fr_tetrazole  \\\n",
       "0                               0.0                      0.0   \n",
       "1                               0.0                      0.0   \n",
       "2                               0.0                      0.0   \n",
       "3                               0.0                      0.0   \n",
       "4                               0.0                      0.0   \n",
       "...                             ...                      ...   \n",
       "30302                           0.0                      0.0   \n",
       "30303                           0.0                      0.0   \n",
       "30304                           0.0                      0.0   \n",
       "30305                           0.0                      0.0   \n",
       "30306                           0.0                      0.0   \n",
       "\n",
       "       rdkit_desc_fr_thiazole  rdkit_desc_fr_thiocyan  \\\n",
       "0                         0.0                     0.0   \n",
       "1                         0.0                     0.0   \n",
       "2                         0.0                     0.0   \n",
       "3                         0.0                     0.0   \n",
       "4                         0.0                     0.0   \n",
       "...                       ...                     ...   \n",
       "30302                     0.0                     0.0   \n",
       "30303                     0.0                     0.0   \n",
       "30304                     0.0                     0.0   \n",
       "30305                     0.0                     0.0   \n",
       "30306                     0.0                     0.0   \n",
       "\n",
       "       rdkit_desc_fr_thiophene  rdkit_desc_fr_unbrch_alkane  \\\n",
       "0                          0.0                          0.0   \n",
       "1                          0.0                          0.0   \n",
       "2                          0.0                          0.0   \n",
       "3                          0.0                          0.0   \n",
       "4                          0.0                          0.0   \n",
       "...                        ...                          ...   \n",
       "30302                      0.0                          0.0   \n",
       "30303                      0.0                          0.0   \n",
       "30304                      0.0                          0.0   \n",
       "30305                      0.0                          1.0   \n",
       "30306                      0.0                          0.0   \n",
       "\n",
       "       rdkit_desc_fr_urea  \n",
       "0                     0.0  \n",
       "1                     0.0  \n",
       "2                     0.0  \n",
       "3                     0.0  \n",
       "4                     0.0  \n",
       "...                   ...  \n",
       "30302                 0.0  \n",
       "30303                 0.0  \n",
       "30304                 0.0  \n",
       "30305                 0.0  \n",
       "30306                 1.0  \n",
       "\n",
       "[30307 rows x 4346 columns]"
      ]
     },
     "execution_count": 26,
     "metadata": {},
     "output_type": "execute_result"
    }
   ],
   "source": [
    "df_train_set = pd.DataFrame()\n",
    "df_test_set = pd.DataFrame()\n",
    "\n",
    "# complete data set with MorganFP and rdkit descriptors\n",
    "if AllData == True:\n",
    "    df_train_set = df_AllData[df_AllData['sol_category'] <= 4]\n",
    "    df_test_set = df_AllData[df_AllData['sol_category'] == 5]\n",
    "\n",
    "# data set with only MorganFP    \n",
    "elif AllData == False:\n",
    "    df_train_set = df_combined[df_combined['sol_category'] <= 4]\n",
    "    df_test_set = df_combined[df_combined['sol_category'] == 5]\n",
    "\n",
    "# Restructuring test data\n",
    "df_test_set.drop(columns='sol_category', inplace=True)\n",
    "df_test_set.reset_index(drop=True)"
   ]
  },
  {
   "cell_type": "markdown",
   "metadata": {},
   "source": [
    "## 7. Saving data sets as csv files\n",
    "the training and testing data set will be saved as csv files for 'save' set to true and 'test_run' set to false"
   ]
  },
  {
   "cell_type": "code",
   "execution_count": 27,
   "metadata": {},
   "outputs": [],
   "source": [
    "if save:\n",
    "    if test_run == False:\n",
    "        df_train_set.to_csv('output/df_train_set.csv', index=False)\n",
    "        df_test_set.to_csv('output/df_test_set.csv', index=False)\n",
    "        print('data sets saved')\n",
    "    else:\n",
    "        print('attempted to save a test run')\n",
    "else:\n",
    "    print('unsaved test run')"
   ]
  }
 ],
 "metadata": {
  "kernelspec": {
   "display_name": "Python 3.9.13 ('Kaggle_solubility')",
   "language": "python",
   "name": "python3"
  },
  "language_info": {
   "codemirror_mode": {
    "name": "ipython",
    "version": 3
   },
   "file_extension": ".py",
   "mimetype": "text/x-python",
   "name": "python",
   "nbconvert_exporter": "python",
   "pygments_lexer": "ipython3",
   "version": "3.9.13"
  },
  "orig_nbformat": 4,
  "vscode": {
   "interpreter": {
    "hash": "048cebc6bb026d2162f15fb19087d94e922b7f5286c2ebb45fba7f0e79006065"
   }
  }
 },
 "nbformat": 4,
 "nbformat_minor": 2
}
