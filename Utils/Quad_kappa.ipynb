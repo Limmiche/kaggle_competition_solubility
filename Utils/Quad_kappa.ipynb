{
 "cells": [
  {
   "cell_type": "code",
   "execution_count": 1,
   "metadata": {},
   "outputs": [],
   "source": [
    "%load_ext autoreload\n",
    "%autoreload 2"
   ]
  },
  {
   "cell_type": "code",
   "execution_count": 2,
   "metadata": {},
   "outputs": [],
   "source": [
    "import numpy as np\n",
    "import pandas as pd\n",
    "from sklearn.metrics import confusion_matrix\n",
    "from sklearn.metrics import cohen_kappa_score"
   ]
  },
  {
   "cell_type": "code",
   "execution_count": 3,
   "metadata": {},
   "outputs": [],
   "source": [
    "#True: use example from the kaggle page\n",
    "\n",
    "#example = True\n",
    "#example = False"
   ]
  },
  {
   "cell_type": "code",
   "execution_count": 4,
   "metadata": {},
   "outputs": [],
   "source": [
    "#df_actual_raw = pd.read_csv('name_data')\n",
    "df_preds_raw = pd.read_csv(\"../Temp/df_proc_train_set.csv\")"
   ]
  },
  {
   "cell_type": "code",
   "execution_count": 5,
   "metadata": {},
   "outputs": [
    {
     "data": {
      "text/html": [
       "<div>\n",
       "<style scoped>\n",
       "    .dataframe tbody tr th:only-of-type {\n",
       "        vertical-align: middle;\n",
       "    }\n",
       "\n",
       "    .dataframe tbody tr th {\n",
       "        vertical-align: top;\n",
       "    }\n",
       "\n",
       "    .dataframe thead th {\n",
       "        text-align: right;\n",
       "    }\n",
       "</style>\n",
       "<table border=\"1\" class=\"dataframe\">\n",
       "  <thead>\n",
       "    <tr style=\"text-align: right;\">\n",
       "      <th></th>\n",
       "      <th>smiles</th>\n",
       "      <th>sol_category</th>\n",
       "    </tr>\n",
       "  </thead>\n",
       "  <tbody>\n",
       "    <tr>\n",
       "      <th>0</th>\n",
       "      <td>Cc1nc(N2CCN(C(=O)Nc3ccc(F)cc3F)CC2)cc(-n2ccnc2)n1</td>\n",
       "      <td>0.0</td>\n",
       "    </tr>\n",
       "    <tr>\n",
       "      <th>1</th>\n",
       "      <td>CCN(CC)[C@H]1CCN(C(=O)Cc2nc(C(C)C)c(C)s2)C1</td>\n",
       "      <td>0.0</td>\n",
       "    </tr>\n",
       "    <tr>\n",
       "      <th>2</th>\n",
       "      <td>CNC(=O)CNC(=O)c1c(-n2cccc2)sc(C)c1C</td>\n",
       "      <td>0.0</td>\n",
       "    </tr>\n",
       "    <tr>\n",
       "      <th>3</th>\n",
       "      <td>CC(C)(C)c1ccc(CSc2cnn(C(C)(C)C)c(=O)c2Cl)cc1</td>\n",
       "      <td>0.0</td>\n",
       "    </tr>\n",
       "    <tr>\n",
       "      <th>4</th>\n",
       "      <td>CC[C@H](NC(=O)c1ccnc(-n2ccnc2)c1)c1ccccc1OC</td>\n",
       "      <td>0.0</td>\n",
       "    </tr>\n",
       "    <tr>\n",
       "      <th>...</th>\n",
       "      <td>...</td>\n",
       "      <td>...</td>\n",
       "    </tr>\n",
       "    <tr>\n",
       "      <th>70706</th>\n",
       "      <td>O=C(NCCCc1nc(=O)[nH][nH]1)[C@H]1CCC(F)(F)C1</td>\n",
       "      <td>2.0</td>\n",
       "    </tr>\n",
       "    <tr>\n",
       "      <th>70707</th>\n",
       "      <td>Cc1ccc(C(=O)NC2CCCC2)cc1S(=O)(=O)N1CCOCC1</td>\n",
       "      <td>2.0</td>\n",
       "    </tr>\n",
       "    <tr>\n",
       "      <th>70708</th>\n",
       "      <td>COCCN1CCC(CN(C)S(=O)(=O)c2cccc(C(F)(F)F)c2)C1</td>\n",
       "      <td>2.0</td>\n",
       "    </tr>\n",
       "    <tr>\n",
       "      <th>70709</th>\n",
       "      <td>O=C(Nc1ccc(F)cc1)NC1CCN(C(=O)Cc2cnn(-c3ccccc3)...</td>\n",
       "      <td>2.0</td>\n",
       "    </tr>\n",
       "    <tr>\n",
       "      <th>70710</th>\n",
       "      <td>COC[C@H](C)NC(=O)N1CCN(c2nnnn2-c2ccccc2)CC1</td>\n",
       "      <td>2.0</td>\n",
       "    </tr>\n",
       "  </tbody>\n",
       "</table>\n",
       "<p>70711 rows × 2 columns</p>\n",
       "</div>"
      ],
      "text/plain": [
       "                                                  smiles  sol_category\n",
       "0      Cc1nc(N2CCN(C(=O)Nc3ccc(F)cc3F)CC2)cc(-n2ccnc2)n1           0.0\n",
       "1            CCN(CC)[C@H]1CCN(C(=O)Cc2nc(C(C)C)c(C)s2)C1           0.0\n",
       "2                    CNC(=O)CNC(=O)c1c(-n2cccc2)sc(C)c1C           0.0\n",
       "3           CC(C)(C)c1ccc(CSc2cnn(C(C)(C)C)c(=O)c2Cl)cc1           0.0\n",
       "4            CC[C@H](NC(=O)c1ccnc(-n2ccnc2)c1)c1ccccc1OC           0.0\n",
       "...                                                  ...           ...\n",
       "70706        O=C(NCCCc1nc(=O)[nH][nH]1)[C@H]1CCC(F)(F)C1           2.0\n",
       "70707          Cc1ccc(C(=O)NC2CCCC2)cc1S(=O)(=O)N1CCOCC1           2.0\n",
       "70708      COCCN1CCC(CN(C)S(=O)(=O)c2cccc(C(F)(F)F)c2)C1           2.0\n",
       "70709  O=C(Nc1ccc(F)cc1)NC1CCN(C(=O)Cc2cnn(-c3ccccc3)...           2.0\n",
       "70710        COC[C@H](C)NC(=O)N1CCN(c2nnnn2-c2ccccc2)CC1           2.0\n",
       "\n",
       "[70711 rows x 2 columns]"
      ]
     },
     "execution_count": 5,
     "metadata": {},
     "output_type": "execute_result"
    }
   ],
   "source": [
    "df_preds0 = pd.DataFrame(df_preds_raw['smiles'])\n",
    "df_preds0 = pd.concat([df_preds0, df_preds_raw['sol_category']], axis=1)\n",
    "df_preds0"
   ]
  },
  {
   "cell_type": "code",
   "execution_count": 6,
   "metadata": {},
   "outputs": [],
   "source": [
    "# list to ad\n",
    "list_2add = pd.Series([1, 2, 30, 43, 50, 89, 104, 2043, 70707, 70709])"
   ]
  },
  {
   "cell_type": "code",
   "execution_count": 7,
   "metadata": {},
   "outputs": [
    {
     "data": {
      "text/plain": [
       "[0, 0, 0, 0, 0, 0, 0, 1, 2, 2]"
      ]
     },
     "execution_count": 7,
     "metadata": {},
     "output_type": "execute_result"
    }
   ],
   "source": [
    "df_preds = pd.DataFrame()\n",
    "row_list = []\n",
    "#for i in list:\n",
    "for value in list_2add:\n",
    "    #print(df_preds0.loc[value,'sol_category'])\n",
    "    to_add = int(df_preds0.loc[value,'sol_category'])\n",
    "    #print(to_add)\n",
    "    row_list.append(to_add)\n",
    "#df_preds = pd.concat([df_preds, row[value]], axis=1)\n",
    "row_list"
   ]
  },
  {
   "cell_type": "code",
   "execution_count": 8,
   "metadata": {},
   "outputs": [
    {
     "name": "stdout",
     "output_type": "stream",
     "text": [
      "[0 2 0 2 2 1 2 1 2 2] (actual values)\n",
      "[0 0 0 0 0 0 0 1 2 2] (predicted values)\n"
     ]
    }
   ],
   "source": [
    "# add sulubility values, column 'sol_category'\n",
    "#if example:\n",
    "#actuals = np.array([4, 4, 3, 4, 4, 4, 1, 1, 2, 1])\n",
    "#preds   = np.array([0, 2, 1, 0, 0, 0, 1, 1, 2, 1])\n",
    "\n",
    "# random numbers\n",
    "actuals = np.array([0, 2, 0, 2, 2, 1, 2, 1, 2, 2])\n",
    "preds = np.array(row_list)\n",
    "#else:\n",
    "#actuals = np.array(df_actual['sol_category'])\n",
    "#preds = np.array(df_preds['sol_category'])\n",
    "print(f'{actuals} (actual values)')\n",
    "print(f'{preds} (predicted values)')"
   ]
  },
  {
   "cell_type": "code",
   "execution_count": 9,
   "metadata": {},
   "outputs": [
    {
     "data": {
      "text/plain": [
       "(10,)"
      ]
     },
     "execution_count": 9,
     "metadata": {},
     "output_type": "execute_result"
    }
   ],
   "source": [
    "actuals.shape"
   ]
  },
  {
   "cell_type": "code",
   "execution_count": 10,
   "metadata": {},
   "outputs": [],
   "source": [
    "# following code from https://www.kaggle.com/code/aroraaman/quadratic-kappa-metric-explained-in-5-simple-steps/notebook#Create-our-own-Quadratic-Weighted-Kappa-Metric"
   ]
  },
  {
   "cell_type": "code",
   "execution_count": 11,
   "metadata": {},
   "outputs": [],
   "source": [
    "def quadratic_kappa(actuals, preds, N=3):\n",
    "    \"\"\"This function calculates the Quadratic Kappa Metric used for Evaluation in the PetFinder competition\n",
    "    at Kaggle. It returns the Quadratic Weighted Kappa metric score between the actual and the predicted values \n",
    "    of adoption rating.\"\"\"\n",
    "    w = np.zeros((N,N))\n",
    "    O = confusion_matrix(actuals, preds)\n",
    "    for i in range(len(w)): \n",
    "        for j in range(len(w)):\n",
    "            w[i][j] = float(((i-j)**2)/(N-1)**2)\n",
    "\n",
    "    act_hist=np.zeros([N])\n",
    "    for item in actuals: \n",
    "        act_hist[item]+=1\n",
    "    \n",
    "    pred_hist=np.zeros([N])\n",
    "    for item in preds: \n",
    "        pred_hist[item]+=1\n",
    "\n",
    "    E = np.outer(act_hist, pred_hist);\n",
    "    E = E/E.sum();\n",
    "    O = O/O.sum();\n",
    "    \n",
    "    num=0\n",
    "    den=0\n",
    "    for i in range(len(w)):\n",
    "        for j in range(len(w)):\n",
    "            num+=w[i][j]*O[i][j]\n",
    "            den+=w[i][j]*E[i][j]\n",
    "    return (1 - (num/den))"
   ]
  },
  {
   "cell_type": "code",
   "execution_count": 12,
   "metadata": {},
   "outputs": [],
   "source": [
    "def original_kappa(actuals, preds, N=3):\n",
    "    \"\"\"This function calculates the Quadratic Kappa Metric used for Evaluation in the PetFinder competition\n",
    "    at Kaggle. It returns the Quadratic Weighted Kappa metric score between the actual and the predicted values \n",
    "    of adoption rating.\"\"\"\n",
    "    w = np.zeros((N,N))\n",
    "    O = confusion_matrix(actuals, preds)\n",
    "    for i in range(len(w)): \n",
    "        for j in range(len(w)):\n",
    "            if i == j:\n",
    "                w[i][j] = 0\n",
    "            else:\n",
    "                w[i][j] = 1\n",
    "\n",
    "    act_hist=np.zeros([N])\n",
    "    for item in actuals: \n",
    "        act_hist[item]+=1\n",
    "    \n",
    "    pred_hist=np.zeros([N])\n",
    "    for item in preds: \n",
    "        pred_hist[item]+=1\n",
    "\n",
    "    E = np.outer(act_hist, pred_hist);\n",
    "    E = E/E.sum();\n",
    "    O = O/O.sum();\n",
    "    \n",
    "    num=0\n",
    "    den=0\n",
    "    for i in range(len(w)):\n",
    "        for j in range(len(w)):\n",
    "            num+=w[i][j]*O[i][j]\n",
    "            den+=w[i][j]*E[i][j]\n",
    "    return (1 - (num/den))"
   ]
  },
  {
   "cell_type": "code",
   "execution_count": 13,
   "metadata": {},
   "outputs": [
    {
     "name": "stdout",
     "output_type": "stream",
     "text": [
      "quadratic kappa: 0.19047619047619047 (own formula)\n",
      "quadratic kappa: 0.19047619047619047 (sklearn formula)\n"
     ]
    }
   ],
   "source": [
    "sk_quad_kappa = cohen_kappa_score(actuals, preds, weights='quadratic')\n",
    "print(f'quadratic kappa: {quadratic_kappa(actuals, preds)} (own formula)')\n",
    "print(f'quadratic kappa: {sk_quad_kappa} (sklearn formula)')"
   ]
  },
  {
   "cell_type": "code",
   "execution_count": 15,
   "metadata": {},
   "outputs": [
    {
     "name": "stdout",
     "output_type": "stream",
     "text": [
      "cohen kappa: 0.3055555555555556 (own formula)\n",
      "cohen kappa: 0.3055555555555557 (sklearn formula)\n"
     ]
    }
   ],
   "source": [
    "sk_cohen_kappa = cohen_kappa_score(actuals, preds, weights=None)\n",
    "print(f'cohen kappa: {original_kappa(actuals, preds)} (own formula)')\n",
    "print(f'cohen kappa: {sk_cohen_kappa} (sklearn formula)')"
   ]
  }
 ],
 "metadata": {
  "kernelspec": {
   "display_name": "Python 3.9.13 ('Kaggle_solubility')",
   "language": "python",
   "name": "python3"
  },
  "language_info": {
   "codemirror_mode": {
    "name": "ipython",
    "version": 3
   },
   "file_extension": ".py",
   "mimetype": "text/x-python",
   "name": "python",
   "nbconvert_exporter": "python",
   "pygments_lexer": "ipython3",
   "version": "3.9.13"
  },
  "orig_nbformat": 4,
  "vscode": {
   "interpreter": {
    "hash": "048cebc6bb026d2162f15fb19087d94e922b7f5286c2ebb45fba7f0e79006065"
   }
  }
 },
 "nbformat": 4,
 "nbformat_minor": 2
}
