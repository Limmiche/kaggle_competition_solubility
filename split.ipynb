{
 "cells": [
  {
   "cell_type": "markdown",
   "metadata": {},
   "source": [
    "# handling imbalanced dataset"
   ]
  },
  {
   "cell_type": "code",
   "execution_count": 1,
   "metadata": {},
   "outputs": [],
   "source": [
    "import pandas as pd\n",
    "from sklearn.model_selection import StratifiedKFold, train_test_split\n",
    "import matplotlib.pyplot as plt\n",
    "from tqdm import tqdm"
   ]
  },
  {
   "cell_type": "code",
   "execution_count": 2,
   "metadata": {},
   "outputs": [
    {
     "data": {
      "text/html": [
       "<div>\n",
       "<style scoped>\n",
       "    .dataframe tbody tr th:only-of-type {\n",
       "        vertical-align: middle;\n",
       "    }\n",
       "\n",
       "    .dataframe tbody tr th {\n",
       "        vertical-align: top;\n",
       "    }\n",
       "\n",
       "    .dataframe thead th {\n",
       "        text-align: right;\n",
       "    }\n",
       "</style>\n",
       "<table border=\"1\" class=\"dataframe\">\n",
       "  <thead>\n",
       "    <tr style=\"text-align: right;\">\n",
       "      <th></th>\n",
       "      <th>sol_category</th>\n",
       "      <th>ecfp_0</th>\n",
       "      <th>ecfp_1</th>\n",
       "      <th>ecfp_2</th>\n",
       "      <th>ecfp_3</th>\n",
       "      <th>ecfp_4</th>\n",
       "      <th>ecfp_5</th>\n",
       "      <th>ecfp_6</th>\n",
       "      <th>ecfp_7</th>\n",
       "      <th>ecfp_8</th>\n",
       "      <th>...</th>\n",
       "      <th>rdkit_desc_fr_quatN</th>\n",
       "      <th>rdkit_desc_fr_sulfide</th>\n",
       "      <th>rdkit_desc_fr_sulfonamd</th>\n",
       "      <th>rdkit_desc_fr_sulfone</th>\n",
       "      <th>rdkit_desc_fr_term_acetylene</th>\n",
       "      <th>rdkit_desc_fr_tetrazole</th>\n",
       "      <th>rdkit_desc_fr_thiazole</th>\n",
       "      <th>rdkit_desc_fr_thiophene</th>\n",
       "      <th>rdkit_desc_fr_unbrch_alkane</th>\n",
       "      <th>rdkit_desc_fr_urea</th>\n",
       "    </tr>\n",
       "    <tr>\n",
       "      <th>smiles</th>\n",
       "      <th></th>\n",
       "      <th></th>\n",
       "      <th></th>\n",
       "      <th></th>\n",
       "      <th></th>\n",
       "      <th></th>\n",
       "      <th></th>\n",
       "      <th></th>\n",
       "      <th></th>\n",
       "      <th></th>\n",
       "      <th></th>\n",
       "      <th></th>\n",
       "      <th></th>\n",
       "      <th></th>\n",
       "      <th></th>\n",
       "      <th></th>\n",
       "      <th></th>\n",
       "      <th></th>\n",
       "      <th></th>\n",
       "      <th></th>\n",
       "      <th></th>\n",
       "    </tr>\n",
       "  </thead>\n",
       "  <tbody>\n",
       "    <tr>\n",
       "      <th>Cc1nc(N2CCN(C(=O)Nc3ccc(F)cc3F)CC2)cc(-n2ccnc2)n1</th>\n",
       "      <td>0.0</td>\n",
       "      <td>0</td>\n",
       "      <td>0</td>\n",
       "      <td>0</td>\n",
       "      <td>0</td>\n",
       "      <td>0</td>\n",
       "      <td>0</td>\n",
       "      <td>0</td>\n",
       "      <td>0</td>\n",
       "      <td>0</td>\n",
       "      <td>...</td>\n",
       "      <td>0.0</td>\n",
       "      <td>0.0</td>\n",
       "      <td>0.0</td>\n",
       "      <td>0.0</td>\n",
       "      <td>0.0</td>\n",
       "      <td>0.0</td>\n",
       "      <td>0.0</td>\n",
       "      <td>0.0</td>\n",
       "      <td>0.0</td>\n",
       "      <td>1.0</td>\n",
       "    </tr>\n",
       "    <tr>\n",
       "      <th>CCN(CC)[C@H]1CCN(C(=O)Cc2nc(C(C)C)c(C)s2)C1</th>\n",
       "      <td>0.0</td>\n",
       "      <td>0</td>\n",
       "      <td>0</td>\n",
       "      <td>0</td>\n",
       "      <td>0</td>\n",
       "      <td>0</td>\n",
       "      <td>0</td>\n",
       "      <td>0</td>\n",
       "      <td>0</td>\n",
       "      <td>0</td>\n",
       "      <td>...</td>\n",
       "      <td>0.0</td>\n",
       "      <td>0.0</td>\n",
       "      <td>0.0</td>\n",
       "      <td>0.0</td>\n",
       "      <td>0.0</td>\n",
       "      <td>0.0</td>\n",
       "      <td>1.0</td>\n",
       "      <td>0.0</td>\n",
       "      <td>0.0</td>\n",
       "      <td>0.0</td>\n",
       "    </tr>\n",
       "    <tr>\n",
       "      <th>CNC(=O)CNC(=O)c1c(-n2cccc2)sc(C)c1C</th>\n",
       "      <td>0.0</td>\n",
       "      <td>0</td>\n",
       "      <td>0</td>\n",
       "      <td>0</td>\n",
       "      <td>0</td>\n",
       "      <td>0</td>\n",
       "      <td>0</td>\n",
       "      <td>0</td>\n",
       "      <td>0</td>\n",
       "      <td>0</td>\n",
       "      <td>...</td>\n",
       "      <td>0.0</td>\n",
       "      <td>0.0</td>\n",
       "      <td>0.0</td>\n",
       "      <td>0.0</td>\n",
       "      <td>0.0</td>\n",
       "      <td>0.0</td>\n",
       "      <td>0.0</td>\n",
       "      <td>1.0</td>\n",
       "      <td>0.0</td>\n",
       "      <td>0.0</td>\n",
       "    </tr>\n",
       "    <tr>\n",
       "      <th>CC(C)(C)c1ccc(CSc2cnn(C(C)(C)C)c(=O)c2Cl)cc1</th>\n",
       "      <td>0.0</td>\n",
       "      <td>0</td>\n",
       "      <td>0</td>\n",
       "      <td>0</td>\n",
       "      <td>0</td>\n",
       "      <td>0</td>\n",
       "      <td>0</td>\n",
       "      <td>0</td>\n",
       "      <td>0</td>\n",
       "      <td>0</td>\n",
       "      <td>...</td>\n",
       "      <td>0.0</td>\n",
       "      <td>1.0</td>\n",
       "      <td>0.0</td>\n",
       "      <td>0.0</td>\n",
       "      <td>0.0</td>\n",
       "      <td>0.0</td>\n",
       "      <td>0.0</td>\n",
       "      <td>0.0</td>\n",
       "      <td>0.0</td>\n",
       "      <td>0.0</td>\n",
       "    </tr>\n",
       "    <tr>\n",
       "      <th>CC[C@H](NC(=O)c1ccnc(-n2ccnc2)c1)c1ccccc1OC</th>\n",
       "      <td>0.0</td>\n",
       "      <td>0</td>\n",
       "      <td>0</td>\n",
       "      <td>0</td>\n",
       "      <td>0</td>\n",
       "      <td>0</td>\n",
       "      <td>0</td>\n",
       "      <td>0</td>\n",
       "      <td>0</td>\n",
       "      <td>0</td>\n",
       "      <td>...</td>\n",
       "      <td>0.0</td>\n",
       "      <td>0.0</td>\n",
       "      <td>0.0</td>\n",
       "      <td>0.0</td>\n",
       "      <td>0.0</td>\n",
       "      <td>0.0</td>\n",
       "      <td>0.0</td>\n",
       "      <td>0.0</td>\n",
       "      <td>0.0</td>\n",
       "      <td>0.0</td>\n",
       "    </tr>\n",
       "  </tbody>\n",
       "</table>\n",
       "<p>5 rows × 4272 columns</p>\n",
       "</div>"
      ],
      "text/plain": [
       "                                                   sol_category  ecfp_0  \\\n",
       "smiles                                                                    \n",
       "Cc1nc(N2CCN(C(=O)Nc3ccc(F)cc3F)CC2)cc(-n2ccnc2)n1           0.0       0   \n",
       "CCN(CC)[C@H]1CCN(C(=O)Cc2nc(C(C)C)c(C)s2)C1                 0.0       0   \n",
       "CNC(=O)CNC(=O)c1c(-n2cccc2)sc(C)c1C                         0.0       0   \n",
       "CC(C)(C)c1ccc(CSc2cnn(C(C)(C)C)c(=O)c2Cl)cc1                0.0       0   \n",
       "CC[C@H](NC(=O)c1ccnc(-n2ccnc2)c1)c1ccccc1OC                 0.0       0   \n",
       "\n",
       "                                                   ecfp_1  ecfp_2  ecfp_3  \\\n",
       "smiles                                                                      \n",
       "Cc1nc(N2CCN(C(=O)Nc3ccc(F)cc3F)CC2)cc(-n2ccnc2)n1       0       0       0   \n",
       "CCN(CC)[C@H]1CCN(C(=O)Cc2nc(C(C)C)c(C)s2)C1             0       0       0   \n",
       "CNC(=O)CNC(=O)c1c(-n2cccc2)sc(C)c1C                     0       0       0   \n",
       "CC(C)(C)c1ccc(CSc2cnn(C(C)(C)C)c(=O)c2Cl)cc1            0       0       0   \n",
       "CC[C@H](NC(=O)c1ccnc(-n2ccnc2)c1)c1ccccc1OC             0       0       0   \n",
       "\n",
       "                                                   ecfp_4  ecfp_5  ecfp_6  \\\n",
       "smiles                                                                      \n",
       "Cc1nc(N2CCN(C(=O)Nc3ccc(F)cc3F)CC2)cc(-n2ccnc2)n1       0       0       0   \n",
       "CCN(CC)[C@H]1CCN(C(=O)Cc2nc(C(C)C)c(C)s2)C1             0       0       0   \n",
       "CNC(=O)CNC(=O)c1c(-n2cccc2)sc(C)c1C                     0       0       0   \n",
       "CC(C)(C)c1ccc(CSc2cnn(C(C)(C)C)c(=O)c2Cl)cc1            0       0       0   \n",
       "CC[C@H](NC(=O)c1ccnc(-n2ccnc2)c1)c1ccccc1OC             0       0       0   \n",
       "\n",
       "                                                   ecfp_7  ecfp_8  ...  \\\n",
       "smiles                                                             ...   \n",
       "Cc1nc(N2CCN(C(=O)Nc3ccc(F)cc3F)CC2)cc(-n2ccnc2)n1       0       0  ...   \n",
       "CCN(CC)[C@H]1CCN(C(=O)Cc2nc(C(C)C)c(C)s2)C1             0       0  ...   \n",
       "CNC(=O)CNC(=O)c1c(-n2cccc2)sc(C)c1C                     0       0  ...   \n",
       "CC(C)(C)c1ccc(CSc2cnn(C(C)(C)C)c(=O)c2Cl)cc1            0       0  ...   \n",
       "CC[C@H](NC(=O)c1ccnc(-n2ccnc2)c1)c1ccccc1OC             0       0  ...   \n",
       "\n",
       "                                                   rdkit_desc_fr_quatN  \\\n",
       "smiles                                                                   \n",
       "Cc1nc(N2CCN(C(=O)Nc3ccc(F)cc3F)CC2)cc(-n2ccnc2)n1                  0.0   \n",
       "CCN(CC)[C@H]1CCN(C(=O)Cc2nc(C(C)C)c(C)s2)C1                        0.0   \n",
       "CNC(=O)CNC(=O)c1c(-n2cccc2)sc(C)c1C                                0.0   \n",
       "CC(C)(C)c1ccc(CSc2cnn(C(C)(C)C)c(=O)c2Cl)cc1                       0.0   \n",
       "CC[C@H](NC(=O)c1ccnc(-n2ccnc2)c1)c1ccccc1OC                        0.0   \n",
       "\n",
       "                                                   rdkit_desc_fr_sulfide  \\\n",
       "smiles                                                                     \n",
       "Cc1nc(N2CCN(C(=O)Nc3ccc(F)cc3F)CC2)cc(-n2ccnc2)n1                    0.0   \n",
       "CCN(CC)[C@H]1CCN(C(=O)Cc2nc(C(C)C)c(C)s2)C1                          0.0   \n",
       "CNC(=O)CNC(=O)c1c(-n2cccc2)sc(C)c1C                                  0.0   \n",
       "CC(C)(C)c1ccc(CSc2cnn(C(C)(C)C)c(=O)c2Cl)cc1                         1.0   \n",
       "CC[C@H](NC(=O)c1ccnc(-n2ccnc2)c1)c1ccccc1OC                          0.0   \n",
       "\n",
       "                                                   rdkit_desc_fr_sulfonamd  \\\n",
       "smiles                                                                       \n",
       "Cc1nc(N2CCN(C(=O)Nc3ccc(F)cc3F)CC2)cc(-n2ccnc2)n1                      0.0   \n",
       "CCN(CC)[C@H]1CCN(C(=O)Cc2nc(C(C)C)c(C)s2)C1                            0.0   \n",
       "CNC(=O)CNC(=O)c1c(-n2cccc2)sc(C)c1C                                    0.0   \n",
       "CC(C)(C)c1ccc(CSc2cnn(C(C)(C)C)c(=O)c2Cl)cc1                           0.0   \n",
       "CC[C@H](NC(=O)c1ccnc(-n2ccnc2)c1)c1ccccc1OC                            0.0   \n",
       "\n",
       "                                                   rdkit_desc_fr_sulfone  \\\n",
       "smiles                                                                     \n",
       "Cc1nc(N2CCN(C(=O)Nc3ccc(F)cc3F)CC2)cc(-n2ccnc2)n1                    0.0   \n",
       "CCN(CC)[C@H]1CCN(C(=O)Cc2nc(C(C)C)c(C)s2)C1                          0.0   \n",
       "CNC(=O)CNC(=O)c1c(-n2cccc2)sc(C)c1C                                  0.0   \n",
       "CC(C)(C)c1ccc(CSc2cnn(C(C)(C)C)c(=O)c2Cl)cc1                         0.0   \n",
       "CC[C@H](NC(=O)c1ccnc(-n2ccnc2)c1)c1ccccc1OC                          0.0   \n",
       "\n",
       "                                                   rdkit_desc_fr_term_acetylene  \\\n",
       "smiles                                                                            \n",
       "Cc1nc(N2CCN(C(=O)Nc3ccc(F)cc3F)CC2)cc(-n2ccnc2)n1                           0.0   \n",
       "CCN(CC)[C@H]1CCN(C(=O)Cc2nc(C(C)C)c(C)s2)C1                                 0.0   \n",
       "CNC(=O)CNC(=O)c1c(-n2cccc2)sc(C)c1C                                         0.0   \n",
       "CC(C)(C)c1ccc(CSc2cnn(C(C)(C)C)c(=O)c2Cl)cc1                                0.0   \n",
       "CC[C@H](NC(=O)c1ccnc(-n2ccnc2)c1)c1ccccc1OC                                 0.0   \n",
       "\n",
       "                                                   rdkit_desc_fr_tetrazole  \\\n",
       "smiles                                                                       \n",
       "Cc1nc(N2CCN(C(=O)Nc3ccc(F)cc3F)CC2)cc(-n2ccnc2)n1                      0.0   \n",
       "CCN(CC)[C@H]1CCN(C(=O)Cc2nc(C(C)C)c(C)s2)C1                            0.0   \n",
       "CNC(=O)CNC(=O)c1c(-n2cccc2)sc(C)c1C                                    0.0   \n",
       "CC(C)(C)c1ccc(CSc2cnn(C(C)(C)C)c(=O)c2Cl)cc1                           0.0   \n",
       "CC[C@H](NC(=O)c1ccnc(-n2ccnc2)c1)c1ccccc1OC                            0.0   \n",
       "\n",
       "                                                   rdkit_desc_fr_thiazole  \\\n",
       "smiles                                                                      \n",
       "Cc1nc(N2CCN(C(=O)Nc3ccc(F)cc3F)CC2)cc(-n2ccnc2)n1                     0.0   \n",
       "CCN(CC)[C@H]1CCN(C(=O)Cc2nc(C(C)C)c(C)s2)C1                           1.0   \n",
       "CNC(=O)CNC(=O)c1c(-n2cccc2)sc(C)c1C                                   0.0   \n",
       "CC(C)(C)c1ccc(CSc2cnn(C(C)(C)C)c(=O)c2Cl)cc1                          0.0   \n",
       "CC[C@H](NC(=O)c1ccnc(-n2ccnc2)c1)c1ccccc1OC                           0.0   \n",
       "\n",
       "                                                   rdkit_desc_fr_thiophene  \\\n",
       "smiles                                                                       \n",
       "Cc1nc(N2CCN(C(=O)Nc3ccc(F)cc3F)CC2)cc(-n2ccnc2)n1                      0.0   \n",
       "CCN(CC)[C@H]1CCN(C(=O)Cc2nc(C(C)C)c(C)s2)C1                            0.0   \n",
       "CNC(=O)CNC(=O)c1c(-n2cccc2)sc(C)c1C                                    1.0   \n",
       "CC(C)(C)c1ccc(CSc2cnn(C(C)(C)C)c(=O)c2Cl)cc1                           0.0   \n",
       "CC[C@H](NC(=O)c1ccnc(-n2ccnc2)c1)c1ccccc1OC                            0.0   \n",
       "\n",
       "                                                   rdkit_desc_fr_unbrch_alkane  \\\n",
       "smiles                                                                           \n",
       "Cc1nc(N2CCN(C(=O)Nc3ccc(F)cc3F)CC2)cc(-n2ccnc2)n1                          0.0   \n",
       "CCN(CC)[C@H]1CCN(C(=O)Cc2nc(C(C)C)c(C)s2)C1                                0.0   \n",
       "CNC(=O)CNC(=O)c1c(-n2cccc2)sc(C)c1C                                        0.0   \n",
       "CC(C)(C)c1ccc(CSc2cnn(C(C)(C)C)c(=O)c2Cl)cc1                               0.0   \n",
       "CC[C@H](NC(=O)c1ccnc(-n2ccnc2)c1)c1ccccc1OC                                0.0   \n",
       "\n",
       "                                                   rdkit_desc_fr_urea  \n",
       "smiles                                                                 \n",
       "Cc1nc(N2CCN(C(=O)Nc3ccc(F)cc3F)CC2)cc(-n2ccnc2)n1                 1.0  \n",
       "CCN(CC)[C@H]1CCN(C(=O)Cc2nc(C(C)C)c(C)s2)C1                       0.0  \n",
       "CNC(=O)CNC(=O)c1c(-n2cccc2)sc(C)c1C                               0.0  \n",
       "CC(C)(C)c1ccc(CSc2cnn(C(C)(C)C)c(=O)c2Cl)cc1                      0.0  \n",
       "CC[C@H](NC(=O)c1ccnc(-n2ccnc2)c1)c1ccccc1OC                       0.0  \n",
       "\n",
       "[5 rows x 4272 columns]"
      ]
     },
     "execution_count": 2,
     "metadata": {},
     "output_type": "execute_result"
    }
   ],
   "source": [
    "#importing (imbalanced) data\n",
    "df=pd.read_csv(\"temporary/df_proc_train_set.csv\",index_col=\"smiles\")\n",
    "df.drop([\"Id\"], axis=1, inplace=True)\n",
    "df.head()\n"
   ]
  },
  {
   "cell_type": "code",
   "execution_count": 3,
   "metadata": {},
   "outputs": [],
   "source": [
    "#define y as label and x as features from dataframe\n",
    "x=df.drop([\"sol_category\"], axis=1)\n",
    "y=df[\"sol_category\"]"
   ]
  },
  {
   "cell_type": "code",
   "execution_count": 4,
   "metadata": {},
   "outputs": [
    {
     "data": {
      "image/png": "[encoded data removed]",
      "text/plain": [
       "<Figure size 640x480 with 1 Axes>"
      ]
     },
     "metadata": {},
     "output_type": "display_data"
    }
   ],
   "source": [
    "def make_pie(y):\n",
    "    explode = (0.0, 0.1, 0.1)\n",
    "\n",
    "    fig1, ax1 = plt.subplots()\n",
    "    ax1.pie(y.value_counts(), explode=explode, autopct=\"%.2f\", labels=y.value_counts().index, startangle=180)\n",
    "    ax1.axis('equal')  # Equal aspect ratio ensures that pie is drawn as a circle.\n",
    "    plt.title(\"training data\\n\" + \"solubility category\", bbox={'facecolor':'0.8', 'pad':4})\n",
    "    plt.show\n",
    "\n",
    "make_pie(y)\n"
   ]
  },
  {
   "cell_type": "code",
   "execution_count": 5,
   "metadata": {},
   "outputs": [
    {
     "name": "stdout",
     "output_type": "stream",
     "text": [
      "2.0    0.929116\n",
      "1.0    0.041283\n",
      "0.0    0.029601\n",
      "Name: sol_category, dtype: float64\n",
      "2.0    0.931364\n",
      "1.0    0.039894\n",
      "0.0    0.028741\n",
      "Name: sol_category, dtype: float64\n"
     ]
    }
   ],
   "source": [
    "x_train_0, x_test_0, y_train_0, y_test_0=train_test_split(x,y,test_size=6/7, random_state=12)\n",
    "\n",
    "print(y_train_0.value_counts(normalize=True))\n",
    "print(y_test_0.value_counts(normalize=True))"
   ]
  },
  {
   "cell_type": "markdown",
   "metadata": {},
   "source": [
    "# transform into stratified train and test split\n",
    "### retain same ratio of classes in both train and test set"
   ]
  },
  {
   "cell_type": "code",
   "execution_count": 6,
   "metadata": {},
   "outputs": [
    {
     "name": "stdout",
     "output_type": "stream",
     "text": [
      "2.0    56430\n",
      "1.0     2430\n",
      "0.0     1749\n",
      "Name: sol_category, dtype: int64\n",
      "2.0    9405\n",
      "1.0     405\n",
      "0.0     292\n",
      "Name: sol_category, dtype: int64\n",
      "2.0    0.931050\n",
      "1.0    0.040093\n",
      "0.0    0.028857\n",
      "Name: sol_category, dtype: float64\n",
      "2.0    0.931004\n",
      "1.0    0.040091\n",
      "0.0    0.028905\n",
      "Name: sol_category, dtype: float64\n"
     ]
    }
   ],
   "source": [
    "\n",
    "x_train, x_test, y_train, y_test=train_test_split(x,y,test_size=1/7, random_state=12, stratify=y) #6/7 before\n",
    "y_train\n",
    "print(y_train.value_counts())\n",
    "print(y_test.value_counts())\n",
    "print(y_train.value_counts(normalize=True))\n",
    "print(y_test.value_counts(normalize=True))"
   ]
  },
  {
   "cell_type": "code",
   "execution_count": 7,
   "metadata": {},
   "outputs": [
    {
     "data": {
      "text/plain": [
       "'\\nx_train, x_test, y_train, y_test=train_test_split(x_train,y_train,test_size=0.5, random_state=12, stratify=y_train)\\ny_train\\nprint(y_train.value_counts())\\nprint(y_test.value_counts())\\nprint(y_train.value_counts(normalize=True))\\nprint(y_test.value_counts(normalize=True))\\n'"
      ]
     },
     "execution_count": 7,
     "metadata": {},
     "output_type": "execute_result"
    }
   ],
   "source": [
    "'''\n",
    "x_train, x_test, y_train, y_test=train_test_split(x_train,y_train,test_size=0.5, random_state=12, stratify=y_train)\n",
    "y_train\n",
    "print(y_train.value_counts())\n",
    "print(y_test.value_counts())\n",
    "print(y_train.value_counts(normalize=True))\n",
    "print(y_test.value_counts(normalize=True))\n",
    "'''"
   ]
  },
  {
   "cell_type": "code",
   "execution_count": 8,
   "metadata": {},
   "outputs": [
    {
     "data": {
      "text/plain": [
       "numpy.float64"
      ]
     },
     "execution_count": 8,
     "metadata": {},
     "output_type": "execute_result"
    }
   ],
   "source": [
    "type(y_train[1])"
   ]
  },
  {
   "cell_type": "markdown",
   "metadata": {},
   "source": [
    "# grid search to find optimal hyper parameters for\n",
    "\n",
    "##### svc: svm.LinearSVC,\n",
    "##### random forest classifier: ensemble.RandomForestClassifier,\n",
    "##### fnn: neural_network.MLPClassifier,\n",
    "##### xgboost: XGClassifier,\n",
    "##### logistic regression: sklearn.linear_model.LogisticRegression\n",
    "\n"
   ]
  },
  {
   "cell_type": "code",
   "execution_count": 2,
   "metadata": {},
   "outputs": [],
   "source": [
    "import warnings\n",
    "warnings.filterwarnings('ignore')\n",
    "\n",
    "import json\n",
    "\n",
    "import matplotlib.pyplot as plt\n",
    "import numpy as np\n",
    "import pandas as pd\n",
    "import seaborn as sns\n",
    "\n",
    "from scipy import stats\n",
    "from sklearn.metrics import mean_squared_error"
   ]
  },
  {
   "cell_type": "code",
   "execution_count": 11,
   "metadata": {},
   "outputs": [],
   "source": [
    "from sklearn.model_selection import cross_val_score\n",
    "from sklearn.model_selection import RandomizedSearchCV\n",
    "from sklearn.model_selection import StratifiedKFold\n",
    "from sklearn.model_selection import train_test_split\n",
    "from sklearn.pipeline import Pipeline #first transform then estimate data\n",
    "from sklearn.preprocessing import StandardScaler\n",
    "\n",
    "from sklearn.ensemble import AdaBoostRegressor\n",
    "from sklearn.ensemble import GradientBoostingRegressor\n",
    "from sklearn.ensemble import RandomForestClassifier\n",
    "from xgboost import XGBClassifier\n",
    "from sklearn.neural_network import MLPClassifier\n",
    "\n",
    "\n",
    "from sklearn.linear_model import ElasticNetCV\n",
    "from sklearn.linear_model import LinearRegression\n",
    "from sklearn.neural_network import MLPRegressor\n",
    "from sklearn.svm import SVR\n",
    "from scipy.stats import pearsonr\n",
    "from sklearn.metrics import cohen_kappa_score\n",
    "\n",
    "from sklearn.linear_model import LogisticRegression\n",
    "from numpy import linspace\n",
    "\n",
    "from xgboost import XGBRegressor"
   ]
  },
  {
   "cell_type": "code",
   "execution_count": 11,
   "metadata": {},
   "outputs": [],
   "source": [
    "\n",
    "feature_sets = {\n",
    "    'MorganFP': df.columns[pd.Series(df.columns).str.startswith('ecfp_')],\n",
    "    'RDKit': df.columns[pd.Series(df.columns).str.startswith('rdkit_desc')],\n",
    "    'ExampleDescriptors': df.columns[pd.Series(df.columns).str.startswith('example_')],\n",
    "}"
   ]
  },
  {
   "cell_type": "code",
   "execution_count": 12,
   "metadata": {},
   "outputs": [],
   "source": [
    "estimators = {\n",
    "\n",
    "    'nn': MLPClassifier(),\n",
    "\n",
    "    'xgb': XGBClassifier(),\n",
    "\n",
    "    'rf': RandomForestClassifier(),\n",
    "    \n",
    "    'lg': LogisticRegression()\n",
    "}\n",
    "\n",
    "params = {\n",
    "    'rf': {\n",
    "        'rf__n_estimators': np.arange(50, 1050, 50),\n",
    "        'rf__max_features': np.arange(0.1, 1.0, 0.1)\n",
    "    },\n",
    "    'nn': {\n",
    "        'nn__hidden_layer_sizes': [(n,) for n in np.arange(5, 200, 5)],\n",
    "        'nn__activation': ['tanh', \"relu\"],\n",
    "        'nn__alpha': 10.0 ** -np.arange(1, 7),\n",
    "        'nn__max_iter': [500, 1000],\n",
    "        'nn__batch_size': [200] #now it only uses 6 batches for whole dataset\n",
    "    },\n",
    "\n",
    "\n",
    "    'xgb': {\n",
    "        'xgb__learning_rate': [0.0001, 0.001, 0.01, 0.1, 0.2, 0.3, 0.4, 0.5],\n",
    "        'xgb__max_depth': np.arange(1, 11, 2),\n",
    "        'xgb__n_estimators': np.arange(50, 550, 50),\n",
    "        'xgb__subsample': [0.5, 1]\n",
    "    },\n",
    "\n",
    "    'lg': {\n",
    "        'max_iter' : range(1000, 2000),\n",
    "        'solver' : ['newton-cg', 'lbfgs', 'sag', 'saga'],\n",
    "        'penalty' : ['l2', 'none'],\n",
    "        'C' : linspace(0.1, 1.0, num=50)\n",
    "    }\n",
    "}"
   ]
  },
  {
   "cell_type": "code",
   "execution_count": 13,
   "metadata": {},
   "outputs": [
    {
     "name": "stderr",
     "output_type": "stream",
     "text": [
      "  0%|          | 0/3 [00:00<?, ?it/s]"
     ]
    },
    {
     "name": "stdout",
     "output_type": "stream",
     "text": [
      "Using MorganFP features...\n"
     ]
    },
    {
     "name": "stderr",
     "output_type": "stream",
     "text": []
    },
    {
     "name": "stdout",
     "output_type": "stream",
     "text": [
      "\tRandom search optimisation for nn estimator...\n",
      "Fitting 5 folds for each of 5 candidates, totalling 25 fits\n"
     ]
    }
   ],
   "source": [
    "\n",
    "best_params = {}\n",
    "cv_scores = {}\n",
    "test_score = {}\n",
    "\n",
    "\n",
    "for f in tqdm(feature_sets): #tqdm for progress bar\n",
    "    \n",
    "    print(f'Using {f} features...')\n",
    "\n",
    "    features = x\n",
    "\n",
    "    best_params[f] = {} #each value is another dictonary \n",
    "    cv_scores[f] = {}\n",
    "    test_score[f] = {}\n",
    "\n",
    "    for e in tqdm(estimators):\n",
    "\n",
    "        print(f'\\tRandom search optimisation for {e} estimator...') #n_iter: number hyperparameter setting, normally 100\n",
    "        cv = StratifiedKFold(n_splits=5, shuffle=True, random_state=42).split(x_train, y_train)\n",
    "        pipe = Pipeline([('scaler', StandardScaler()), (e, estimators[e])])\n",
    "        model = RandomizedSearchCV(pipe, param_distributions=params[e], cv=cv, refit=True, n_iter=5, n_jobs=64, verbose=2, random_state=42).fit(x_train, y_train) # verbose=1: information on hyperparameter search\n",
    "        #cv_score[e] = model.best_score_\n",
    "\n",
    "\n",
    "        #have best parameters in model.best_estimator_\n",
    "        # get pearson correlation for each cv fold\n",
    "        cv = StratifiedKFold(n_splits=5, shuffle=True, random_state=42).split(x_train, y_train)\n",
    "        scores = cross_val_score(model.best_estimator_, x_train, y_train, cv=cv)\n",
    "        cv_scores[f][e] = [s**0.5 for s in scores] # convert r-squared to pearsonr #t2 keys?\n",
    "\n",
    "        best_params[f][e] = model.best_params_\n",
    "\n",
    "        #test model on test set and get scores:\n",
    "        test_score[f][e] = {}\n",
    "        \n",
    "        pred = model.predict(x_test)\n",
    "        rp = cohen_kappa_score(y_test, pred, weights=\"quadratic\")\n",
    "        test_score[f][e] = rp"
   ]
  },
  {
   "cell_type": "code",
   "execution_count": null,
   "metadata": {},
   "outputs": [
    {
     "data": {
      "text/plain": [
       "{'MorganFP': {'nn': 0.031325467467053,\n",
       "  'xgb': 0.08576869724684366,\n",
       "  'rf': 0.09442629393991508},\n",
       " 'RDKit': {'nn': 0.014716335204607023,\n",
       "  'xgb': 0.08576869724684366,\n",
       "  'rf': 0.09442629393991508},\n",
       " 'ExampleDescriptors': {'nn': 0.033169825427933675,\n",
       "  'xgb': 0.08576869724684366,\n",
       "  'rf': 0.09442629393991508}}"
      ]
     },
     "execution_count": 16,
     "metadata": {},
     "output_type": "execute_result"
    }
   ],
   "source": [
    "test_score"
   ]
  },
  {
   "cell_type": "code",
   "execution_count": null,
   "metadata": {},
   "outputs": [
    {
     "data": {
      "text/plain": [
       "smiles\n",
       "Cc1c(NC(=O)N2CCC[C@@H]2Cc2ccccc2)c(=O)n(-c2ccccc2)n1C                2.0\n",
       "COc1cnccc1[C@H](C)NC(=O)Nc1ccc(C)c(OCC(F)F)c1                        2.0\n",
       "CNC[C@H]1CCN(S(=O)(=O)c2ccc(F)c(F)c2)C1                              2.0\n",
       "O=C(COc1ccccc1)Nn1ccc2c(cnc3ccnn32)c1=O                              2.0\n",
       "O=C(O)c1cc2ccccc2[nH]1                                               2.0\n",
       "                                                                    ... \n",
       "CC(C)C1NC(=O)c2ccccc2N(CC(=O)Nc2nc3c(s2)CCC3)C1=O                    2.0\n",
       "O=C(CCn1cncn1)N[C@@H]1C[C@H]1c1cccc2ccccc12                          2.0\n",
       "Cc1cc(C)n([C@H]2CCCN(C(=O)CCCc3ccccn3)C2)n1                          2.0\n",
       "O=C(CCc1ccccc1)N1CCC(NC(=O)N2CCCCCO2)CC1                             2.0\n",
       "O=C1NC(=O)[C@H](CCC(=O)N2CCN(S(=O)(=O)c3cc(C(F)(F)F)ccc3Cl)CC2)N1    2.0\n",
       "Name: sol_category, Length: 505, dtype: float64"
      ]
     },
     "execution_count": 13,
     "metadata": {},
     "output_type": "execute_result"
    }
   ],
   "source": [
    "y_test"
   ]
  },
  {
   "cell_type": "code",
   "execution_count": null,
   "metadata": {},
   "outputs": [
    {
     "data": {
      "text/plain": [
       "array([ 1.10729678e+00, -1.53160976e+00,  2.19249702e+00, -1.45842461e+00,\n",
       "        4.04630096e-01, -4.51046171e-01,  3.32781191e-01,  1.28830132e+00,\n",
       "        2.45927231e-01, -2.95759221e-01, -7.32299518e-01, -9.34985510e-02,\n",
       "        1.19944722e+00,  1.01546551e+00,  1.64315472e+00,  7.34351842e-01,\n",
       "        7.05139976e-01,  1.37194989e-01,  8.67826288e-01,  2.61550362e-01,\n",
       "        9.92194550e-01,  7.83264447e-01, -7.83081139e-01,  5.26277478e-03,\n",
       "       -1.16783292e+00,  8.59522634e-01, -9.70498559e-02,  8.48992654e-01,\n",
       "       -9.24428387e-01,  2.64771932e-01,  1.91272108e+00,  5.27297211e-01,\n",
       "       -4.47919275e-01,  1.53007167e+00,  1.62061960e+00, -3.04502751e-01,\n",
       "       -5.94756705e-01,  1.30550111e+00,  4.26352779e-01, -5.96127518e-02,\n",
       "        5.10560438e-01, -1.81178022e-01,  2.05428613e-01,  2.72122607e+00,\n",
       "       -4.10305646e-01,  9.18529704e-01,  1.24214099e+00,  3.10336247e-01,\n",
       "        1.32754022e+00,  7.21507388e-01,  6.54780575e-01,  7.17530293e-01,\n",
       "       -3.15349600e-01, -1.77286228e-01,  2.44704440e+00, -2.49228843e-01,\n",
       "        8.30333040e-01,  1.50800447e+00,  2.87193367e-01,  3.11180087e-01,\n",
       "        7.17672220e-01, -1.06211354e-01,  1.92671631e+00,  6.84449266e-01,\n",
       "        8.38087176e-01, -5.18290704e-01,  1.95168062e+00, -1.28184163e+00,\n",
       "       -6.88623295e-01,  2.26064977e+00,  6.63886930e-01, -1.18799595e+00,\n",
       "        6.54152786e-01,  6.63473127e-01,  7.21119172e-01, -6.46059526e-01,\n",
       "        6.68331979e-02, -1.36877849e+00,  2.33149182e+00,  1.42758045e+00,\n",
       "       -1.14076264e+00, -4.17764500e-02, -6.02195465e-01,  1.34652405e-01,\n",
       "        6.31642144e-01, -1.33087171e-01,  1.40526041e+00,  5.45456129e-01,\n",
       "       -2.25292760e-01,  1.43233298e+00,  1.42770068e-01,  1.62003726e+00,\n",
       "       -1.20885036e+00, -3.75330676e-01, -1.09395070e-01, -6.30807083e-01,\n",
       "        4.80863250e-01, -1.40312921e+00,  4.06335084e-01,  1.56427812e+00,\n",
       "        1.41031058e+00, -1.09386812e-01, -3.33124107e-01, -7.67330647e-01,\n",
       "        8.63478530e-01, -5.45369959e-01,  1.35796958e+00,  1.09633518e+00,\n",
       "       -1.02003185e+00,  2.80337434e+00, -1.86197752e-01,  1.39594582e+00,\n",
       "        7.52430944e-01,  3.60245507e-01, -4.15263295e-01, -4.26255323e-01,\n",
       "        1.37080760e+00,  8.91579825e-01,  2.18140939e+00, -9.21317576e-01,\n",
       "        1.24516372e+00,  1.21273381e+00, -7.84192675e-02,  1.13685676e-01,\n",
       "        1.24641402e-01, -1.83691848e-01,  2.04266610e+00, -4.09627543e-02,\n",
       "       -7.64978019e-01, -6.73342874e-01,  1.33444340e+00,  1.71778602e+00,\n",
       "        1.25073714e+00,  5.30476391e-01, -2.24244761e-01, -9.48586473e-01,\n",
       "        1.90350353e-01,  2.09711702e+00,  1.49555185e+00, -6.37544239e-02,\n",
       "       -1.64426013e-01, -2.05876267e-02,  1.17686247e+00, -2.26994490e-01,\n",
       "        1.06076964e+00,  1.07950080e+00,  8.41097661e-01,  9.85191286e-01,\n",
       "       -1.20559227e+00,  1.22266364e+00,  1.27299821e+00, -2.46092990e+00,\n",
       "       -3.65527155e-01,  9.30509304e-02,  1.19451573e-01, -7.10882407e-02,\n",
       "        1.29630354e+00,  8.69011957e-01, -2.74831013e-01,  1.57969706e+00,\n",
       "        1.48594748e+00, -1.22291594e+00,  8.95282967e-01, -1.45604309e+00,\n",
       "       -2.36106628e+00,  1.94738839e+00, -1.84160330e-01, -8.23289407e-01,\n",
       "        3.36489067e-01, -4.50257689e-01,  2.26752623e+00, -2.47843675e-01,\n",
       "       -4.62146912e-01, -1.38202452e-01, -1.36101920e+00,  8.02033447e-01,\n",
       "        1.32626680e+00, -2.66310803e-01,  1.67441979e+00,  2.96033047e-01,\n",
       "        1.60364155e+00, -3.47352620e-02, -1.82862372e+00,  2.16543585e+00,\n",
       "       -3.96765070e-01,  1.05262863e+00,  6.84594056e-01,  3.32826050e-01,\n",
       "        1.35011179e+00, -2.37838444e+00,  1.62618056e-01, -1.71282188e-01,\n",
       "        3.35943741e-01, -8.40819605e-01, -1.94546703e+00, -2.69342538e-01,\n",
       "       -5.83118708e-01,  2.67176182e-01, -7.05766704e-01,  3.18489797e-01,\n",
       "        1.22743921e+00, -6.34541406e-01,  7.14046908e-01,  5.95601363e-01,\n",
       "        2.01106032e-01, -1.14914819e-01, -1.33966934e+00, -4.35606031e-01,\n",
       "        7.99525504e-02, -1.74836344e+00,  2.45911211e+00,  7.78420988e-01,\n",
       "        8.86006707e-02,  2.38756001e+00,  1.47774013e+00,  8.02118359e-01,\n",
       "        1.03222963e+00, -8.12728000e-02,  6.49830766e-01,  1.81839072e+00,\n",
       "       -5.58900750e-01, -1.55623263e+00,  3.96761159e-01, -4.20991181e-01,\n",
       "        1.86988249e+00,  6.66656018e-01,  1.28873907e+00, -2.14111304e-01,\n",
       "        2.33015558e-01, -1.10757301e+00, -8.45364022e-01,  1.41715406e+00,\n",
       "       -1.46742009e+00,  3.42525975e-01,  1.75837017e+00, -4.59105507e-02,\n",
       "        2.16466948e-01, -4.32797727e-01, -8.76469704e-02, -1.30574260e+00,\n",
       "       -7.43198527e-01, -1.44966815e+00,  4.04098932e-01,  1.46921474e+00,\n",
       "       -3.07929926e-01,  1.07630421e+00,  1.09766392e+00, -9.52281002e-01,\n",
       "       -6.49791050e-01,  8.71075109e-01,  2.45956867e-01, -2.71902253e-01,\n",
       "        8.14764899e-02,  8.39715357e-01, -3.81845330e-01, -2.90438319e+00,\n",
       "        8.94762099e-02, -5.63164427e-01,  6.63419770e-01,  2.71098708e-01,\n",
       "        1.36748566e+00,  6.69087106e-01,  1.74234011e-01, -6.04329388e-01,\n",
       "       -9.94745762e-01, -2.23634771e+00, -6.26551210e-01,  1.62213339e+00,\n",
       "        9.79457453e-02,  9.06857049e-01, -1.36025534e+00,  1.58187724e+00,\n",
       "        1.74210614e+00, -3.07387455e-01,  1.46958788e+00,  2.00952648e+00,\n",
       "        7.80463620e-01, -4.98102026e-01, -8.85679222e-01,  1.43318400e-01,\n",
       "        2.68051921e-01,  9.50347417e-01,  4.31724593e-01,  2.49740286e+00,\n",
       "       -6.09962369e-01,  4.38635912e-01, -1.58521081e+00,  1.13609677e+00,\n",
       "       -2.23569207e-01,  1.56334669e+00,  1.46364549e-01,  6.61256465e-01,\n",
       "        1.27644606e+00, -1.10217549e+00,  7.38951187e-01,  2.72619398e-01,\n",
       "        2.54990599e+00,  1.32951206e+00,  1.54087047e-01, -6.18531706e-01,\n",
       "       -3.16577284e-01,  5.28374347e-01,  9.64940933e-01,  1.45998467e+00,\n",
       "        4.52941329e-01, -1.47788367e-01,  2.03835997e-01, -1.05847023e-01,\n",
       "       -2.65287455e+00,  1.54547838e+00, -1.23725434e-01,  6.81167111e-01,\n",
       "        1.01944640e-01,  7.22869335e-01,  2.85518623e-02, -7.73846841e-01,\n",
       "       -5.03657682e-01,  5.91131098e-02,  2.84322262e-01, -2.17942900e-01,\n",
       "        8.90240002e-01, -1.31880197e+00,  1.85954762e-01,  3.54409454e-01,\n",
       "        6.61501608e-01,  1.61378906e-03, -5.68257688e-01,  8.09239944e-01,\n",
       "       -4.64970270e-01, -1.36569362e+00,  1.30858611e+00, -9.46849079e-01,\n",
       "        3.58096940e-01, -3.31986522e-01, -2.49681301e-01, -3.17460335e-01,\n",
       "       -1.02286628e+00,  1.74951507e+00, -3.71446270e-01,  1.19128413e+00,\n",
       "        1.77456685e+00, -1.16650087e+00,  6.59885854e-02,  1.87360792e+00,\n",
       "        9.05426210e-01, -4.03328017e-01,  5.92947472e-01,  1.82660940e-01,\n",
       "        8.63411851e-01, -4.40383624e-01, -4.35805711e-01,  1.31293965e+00,\n",
       "       -4.15438974e-01,  1.03743037e+00,  1.14941860e+00,  1.34023338e+00,\n",
       "       -1.68634944e+00, -8.02146225e-01,  1.12209067e-01, -1.81899365e+00,\n",
       "        1.79583718e-01,  6.80970807e-01,  1.44559893e-01,  1.28376495e+00,\n",
       "       -3.67374259e-01, -2.71719761e-01,  4.14666281e-01, -2.27895046e-01,\n",
       "        6.83236129e-01,  1.58842583e+00, -3.71006072e-01, -1.17941877e-01,\n",
       "       -9.55580482e-01,  5.82411167e-01,  1.16926470e+00,  1.73235437e+00,\n",
       "        3.90116108e-01,  3.29648523e-01, -7.85161599e-01, -2.66186875e+00,\n",
       "        1.82530197e+00, -3.47744604e-01,  1.61435773e-01, -6.27270375e-01,\n",
       "        1.41194630e+00,  1.27574005e+00,  1.18013246e+00, -5.52971819e-01,\n",
       "        6.49495251e-01,  6.97725322e-01,  1.62339585e-01,  5.02785274e-01,\n",
       "        4.79363967e-01,  9.35214754e-01,  1.19434540e+00,  1.51404178e-01,\n",
       "        3.74901559e-01,  9.60263127e-01,  1.86295551e-01,  9.97729192e-01,\n",
       "        9.98037719e-01,  1.44900229e+00, -9.22173117e-01, -6.37755149e-01,\n",
       "        5.28899187e-01,  1.20348655e+00,  7.55719097e-01, -5.36459786e-03,\n",
       "       -1.90797474e-01,  5.11667392e-01,  2.61254529e+00,  4.65210505e-01,\n",
       "       -6.06682272e-01, -1.21990037e+00,  8.27460337e-01,  1.37933405e+00,\n",
       "       -1.14939437e+00,  1.21363677e+00, -2.05121517e+00,  2.45974538e-01,\n",
       "        3.39914056e-01,  2.14406971e+00,  5.35211513e-01, -6.41678847e-01,\n",
       "        6.93837532e-01,  1.89815674e+00,  7.98371325e-02, -3.29195792e-01,\n",
       "        1.01191388e+00,  7.49683632e-01,  2.77717144e-01,  1.66012606e+00,\n",
       "        3.78949175e-02,  2.86823934e-01,  7.81634865e-01,  9.12021643e-01,\n",
       "       -8.49095677e-01,  3.92391863e-01,  7.07913071e-01,  2.42311226e-01,\n",
       "       -6.16506582e-01, -1.61682037e+00,  1.43632790e+00,  8.57109003e-01,\n",
       "        1.60729287e+00, -1.65576397e+00, -1.26337413e+00, -4.01549570e-01,\n",
       "        6.86981162e-01,  6.38798642e-01,  9.90155973e-01, -6.02768580e-01,\n",
       "       -7.03204469e-01,  1.14683968e-01, -2.17854047e+00, -5.37524119e-01,\n",
       "       -3.82961432e-01,  1.16972982e+00,  4.21184787e-01,  7.21873397e-01,\n",
       "        6.21636932e-01,  1.26460575e+00,  1.38448147e+00,  2.34638183e+00,\n",
       "       -4.86438832e-01,  1.39080952e+00,  1.38637328e-01,  3.71273834e-01,\n",
       "       -4.17223700e-01,  3.69778717e-01, -7.70812018e-01, -4.55003571e-02,\n",
       "       -1.38541839e+00, -9.86222985e-01,  1.34967961e+00,  5.72861444e-01,\n",
       "        2.30449850e+00, -9.64589269e-01,  3.82159143e-01, -2.45735164e-01,\n",
       "       -1.07500458e-01,  1.11997711e+00,  3.05352514e-01,  7.17403004e-01,\n",
       "        1.71711439e-01, -1.08366424e+00,  9.69231747e-01, -4.87599070e-01,\n",
       "       -1.02328660e+00,  6.58546220e-01, -3.13056798e-01,  6.91404402e-01,\n",
       "        7.34323979e-02, -6.62093021e-01,  2.21286860e+00,  1.05609063e+00,\n",
       "       -3.50849733e-01, -1.88010105e+00,  4.48286735e-02, -1.07143041e+00,\n",
       "       -9.54073115e-01,  6.27342630e-01,  8.87752765e-01,  2.41809165e-01,\n",
       "       -3.48690647e-01])"
      ]
     },
     "execution_count": 17,
     "metadata": {},
     "output_type": "execute_result"
    }
   ],
   "source": [
    "pred"
   ]
  },
  {
   "cell_type": "code",
   "execution_count": null,
   "metadata": {},
   "outputs": [],
   "source": [
    "#idd rausgelassen"
   ]
  },
  {
   "cell_type": "code",
   "execution_count": null,
   "metadata": {},
   "outputs": [],
   "source": [
    "# JSON encoder for np.int64 #what is this part doing? return int of a number. if it cannot return error\n",
    "def default(o):\n",
    "    if isinstance(o, np.integer):\n",
    "        return int(o)\n",
    "    raise TypeError    "
   ]
  },
  {
   "cell_type": "code",
   "execution_count": null,
   "metadata": {},
   "outputs": [],
   "source": [
    "#writing files for best parameters, cv scores "
   ]
  },
  {
   "cell_type": "code",
   "execution_count": 4,
   "metadata": {},
   "outputs": [
    {
     "ename": "NameError",
     "evalue": "name 'best_params' is not defined",
     "output_type": "error",
     "traceback": [
      "\u001b[0;31m---------------------------------------------------------------------------\u001b[0m",
      "\u001b[0;31mNameError\u001b[0m                                 Traceback (most recent call last)",
      "Cell \u001b[0;32mIn [4], line 2\u001b[0m\n\u001b[1;32m      1\u001b[0m \u001b[39mwith\u001b[39;00m \u001b[39mopen\u001b[39m(\u001b[39m'\u001b[39m\u001b[39m./results/random_search_best_params.json\u001b[39m\u001b[39m'\u001b[39m, \u001b[39m'\u001b[39m\u001b[39mw\u001b[39m\u001b[39m'\u001b[39m) \u001b[39mas\u001b[39;00m f:\n\u001b[0;32m----> 2\u001b[0m     json\u001b[39m.\u001b[39mdump(best_params, f, default\u001b[39m=\u001b[39mdefault)\n\u001b[1;32m      4\u001b[0m \u001b[39mwith\u001b[39;00m \u001b[39mopen\u001b[39m(\u001b[39m'\u001b[39m\u001b[39m./results/random_search_best_cv_scores.json\u001b[39m\u001b[39m'\u001b[39m, \u001b[39m'\u001b[39m\u001b[39mw\u001b[39m\u001b[39m'\u001b[39m) \u001b[39mas\u001b[39;00m f:\n\u001b[1;32m      5\u001b[0m     json\u001b[39m.\u001b[39mdump(cv_scores, f, default\u001b[39m=\u001b[39mdefault) \n",
      "\u001b[0;31mNameError\u001b[0m: name 'best_params' is not defined"
     ]
    }
   ],
   "source": [
    "with open('./results/random_search_best_params.json', 'w') as f:\n",
    "    json.dump(best_params, f, default=default)\n",
    "    \n",
    "with open('./results/random_search_best_cv_scores.json', 'w') as f:\n",
    "    json.dump(cv_scores, f, default=default) "
   ]
  },
  {
   "cell_type": "code",
   "execution_count": null,
   "metadata": {},
   "outputs": [
    {
     "ename": "FileNotFoundError",
     "evalue": "[Errno 2] No such file or directory: '../results/random_search_best_cv_scores.json'",
     "output_type": "error",
     "traceback": [
      "\u001b[0;31m---------------------------------------------------------------------------\u001b[0m",
      "\u001b[0;31mFileNotFoundError\u001b[0m                         Traceback (most recent call last)",
      "Cell \u001b[0;32mIn [20], line 1\u001b[0m\n\u001b[0;32m----> 1\u001b[0m \u001b[39mwith\u001b[39;00m \u001b[39mopen\u001b[39;49m(\u001b[39m'\u001b[39;49m\u001b[39m../results/random_search_best_cv_scores.json\u001b[39;49m\u001b[39m'\u001b[39;49m) \u001b[39mas\u001b[39;00m f:\n\u001b[1;32m      2\u001b[0m     cv_scores \u001b[39m=\u001b[39m json\u001b[39m.\u001b[39mload(f)\n",
      "File \u001b[0;32m~/miniconda3/envs/kaggle_project/lib/python3.10/site-packages/IPython/core/interactiveshell.py:282\u001b[0m, in \u001b[0;36m_modified_open\u001b[0;34m(file, *args, **kwargs)\u001b[0m\n\u001b[1;32m    275\u001b[0m \u001b[39mif\u001b[39;00m file \u001b[39min\u001b[39;00m {\u001b[39m0\u001b[39m, \u001b[39m1\u001b[39m, \u001b[39m2\u001b[39m}:\n\u001b[1;32m    276\u001b[0m     \u001b[39mraise\u001b[39;00m \u001b[39mValueError\u001b[39;00m(\n\u001b[1;32m    277\u001b[0m         \u001b[39mf\u001b[39m\u001b[39m\"\u001b[39m\u001b[39mIPython won\u001b[39m\u001b[39m'\u001b[39m\u001b[39mt let you open fd=\u001b[39m\u001b[39m{\u001b[39;00mfile\u001b[39m}\u001b[39;00m\u001b[39m by default \u001b[39m\u001b[39m\"\u001b[39m\n\u001b[1;32m    278\u001b[0m         \u001b[39m\"\u001b[39m\u001b[39mas it is likely to crash IPython. If you know what you are doing, \u001b[39m\u001b[39m\"\u001b[39m\n\u001b[1;32m    279\u001b[0m         \u001b[39m\"\u001b[39m\u001b[39myou can use builtins\u001b[39m\u001b[39m'\u001b[39m\u001b[39m open.\u001b[39m\u001b[39m\"\u001b[39m\n\u001b[1;32m    280\u001b[0m     )\n\u001b[0;32m--> 282\u001b[0m \u001b[39mreturn\u001b[39;00m io_open(file, \u001b[39m*\u001b[39;49margs, \u001b[39m*\u001b[39;49m\u001b[39m*\u001b[39;49mkwargs)\n",
      "\u001b[0;31mFileNotFoundError\u001b[0m: [Errno 2] No such file or directory: '../results/random_search_best_cv_scores.json'"
     ]
    }
   ],
   "source": [
    "with open('./results/random_search_best_cv_scores.json') as f:\n",
    "    cv_scores = json.load(f)"
   ]
  },
  {
   "cell_type": "code",
   "execution_count": null,
   "metadata": {},
   "outputs": [],
   "source": [
    "mean_cv_score = {f: {e: np.mean(cv_scores[f][e]) for e in cv_scores[f]} for f in cv_scores}"
   ]
  },
  {
   "cell_type": "code",
   "execution_count": null,
   "metadata": {},
   "outputs": [],
   "source": [
    "row_order = ['RDKit', 'Vina', 'Vina + RDKit', 'RF-Score', 'RF-Score + RDKit', 'RF-Score v3', 'RF-Score v3 + RDKit', 'NNScore 2.0', 'NNScore 2.0 + RDKit']\n",
    "column_order = ['Linear', 'Neural Network', 'AdaBoost', 'Gradient Boosting', 'XGBoost', 'Random Forest']\n",
    "mapper = {\n",
    "    'enet': 'Linear',\n",
    "    'ab': 'AdaBoost',\n",
    "    'gb': 'Gradient Boosting',\n",
    "    'xgb': 'XGBoost',\n",
    "    'rf': 'Random Forest',\n",
    "    'nn': 'Neural Network',\n",
    "}\n",
    "df = pd.DataFrame(mean_cv_score).T\n",
    "df = df.rename(mapper=mapper, axis='columns')\n",
    "df = df.loc[row_order, column_order]\n",
    "df = df.drop('Gradient Boosting', axis='columns')\n",
    "\n",
    "fig, ax = plt.subplots(1,1,figsize=(6,6))\n",
    "sns.heatmap(df, annot=True, cmap='viridis', cbar_kws={'label': r\"Mean Pearson Correlation Coefficient\"}, ax=ax)\n",
    "ax.set_xlabel('Algorithm')\n",
    "ax.set_ylabel('Features Used')\n",
    "ax.hlines([1, 3, 5, 7], *ax.get_xlim(), linestyle=':', linewidth=2)\n",
    "fig.savefig('./figures/algorithm_comparison.jpg', dpi=350, bbox_inches='tight')"
   ]
  }
 ],
 "metadata": {
  "kernelspec": {
   "display_name": "Python 3.10.6 ('kaggle_project')",
   "language": "python",
   "name": "python3"
  },
  "language_info": {
   "codemirror_mode": {
    "name": "ipython",
    "version": 3
   },
   "file_extension": ".py",
   "mimetype": "text/x-python",
   "name": "python",
   "nbconvert_exporter": "python",
   "pygments_lexer": "ipython3",
   "version": "3.10.6"
  },
  "orig_nbformat": 4,
  "vscode": {
   "interpreter": {
    "hash": "19bedf675c497adde2b8cd1e8059729b26c52ea4ad4b38fb74c00ef0d5700507"
   }
  }
 },
 "nbformat": 4,
 "nbformat_minor": 2
}
