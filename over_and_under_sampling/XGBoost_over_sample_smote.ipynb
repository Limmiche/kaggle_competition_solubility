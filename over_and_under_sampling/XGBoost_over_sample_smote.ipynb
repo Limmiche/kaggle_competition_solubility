{
 "cells": [
  {
   "cell_type": "markdown",
   "metadata": {},
   "source": [
    "# SMOTE OverSampler"
   ]
  },
  {
   "cell_type": "code",
   "execution_count": 1,
   "metadata": {},
   "outputs": [],
   "source": [
    "import pandas as pd\n",
    "import numpy as np\n",
    "import json\n",
    "\n",
    "from tqdm import tqdm\n",
    "from xgboost import XGBClassifier\n",
    "from sklearn.calibration import CalibratedClassifierCV\n",
    "from sklearn.metrics import fbeta_score, make_scorer\n",
    "from sklearn.metrics import cohen_kappa_score\n",
    "from numpy import linspace\n",
    "\n",
    "from imblearn.over_sampling import SMOTE\n",
    "from sklearn.preprocessing import StandardScaler\n",
    "from sklearn.model_selection import StratifiedKFold\n",
    "from sklearn.model_selection import train_test_split\n",
    "#from sklearn.linear_model import LogisticRegression\n",
    "#from sklearn.model_selection import RandomizedSearchCV\n",
    "from sklearn.utils import class_weight\n",
    "#from sklearn.experimental import enable_halving_search_cv\n",
    "#from sklearn.model_selection import HalvingRandomSearchCV\n"
   ]
  },
  {
   "cell_type": "code",
   "execution_count": 2,
   "metadata": {},
   "outputs": [],
   "source": [
    "from warnings import simplefilter\n",
    "from sklearn.exceptions import ConvergenceWarning\n",
    "simplefilter(\"ignore\", category=ConvergenceWarning)\n",
    "\n",
    "import warnings\n",
    "warnings.filterwarnings(\"ignore\", category=UserWarning)\n"
   ]
  },
  {
   "cell_type": "code",
   "execution_count": 3,
   "metadata": {},
   "outputs": [],
   "source": [
    "#test_run = True\n",
    "test_run = False"
   ]
  },
  {
   "cell_type": "code",
   "execution_count": 4,
   "metadata": {},
   "outputs": [],
   "source": [
    "df = pd.read_csv(\"Temp/df_proc_train_set_xgb.csv\")"
   ]
  },
  {
   "cell_type": "code",
   "execution_count": 5,
   "metadata": {},
   "outputs": [
    {
     "data": {
      "text/html": [
       "<div>\n",
       "<style scoped>\n",
       "    .dataframe tbody tr th:only-of-type {\n",
       "        vertical-align: middle;\n",
       "    }\n",
       "\n",
       "    .dataframe tbody tr th {\n",
       "        vertical-align: top;\n",
       "    }\n",
       "\n",
       "    .dataframe thead th {\n",
       "        text-align: right;\n",
       "    }\n",
       "</style>\n",
       "<table border=\"1\" class=\"dataframe\">\n",
       "  <thead>\n",
       "    <tr style=\"text-align: right;\">\n",
       "      <th></th>\n",
       "      <th>Id</th>\n",
       "      <th>smiles</th>\n",
       "      <th>sol_category</th>\n",
       "      <th>ecfp_0</th>\n",
       "      <th>ecfp_1</th>\n",
       "      <th>ecfp_2</th>\n",
       "      <th>ecfp_3</th>\n",
       "      <th>ecfp_4</th>\n",
       "      <th>ecfp_5</th>\n",
       "      <th>ecfp_6</th>\n",
       "      <th>...</th>\n",
       "      <th>rdkit_desc_fr_quatN</th>\n",
       "      <th>rdkit_desc_fr_sulfide</th>\n",
       "      <th>rdkit_desc_fr_sulfonamd</th>\n",
       "      <th>rdkit_desc_fr_sulfone</th>\n",
       "      <th>rdkit_desc_fr_term_acetylene</th>\n",
       "      <th>rdkit_desc_fr_tetrazole</th>\n",
       "      <th>rdkit_desc_fr_thiazole</th>\n",
       "      <th>rdkit_desc_fr_thiophene</th>\n",
       "      <th>rdkit_desc_fr_unbrch_alkane</th>\n",
       "      <th>rdkit_desc_fr_urea</th>\n",
       "    </tr>\n",
       "  </thead>\n",
       "  <tbody>\n",
       "    <tr>\n",
       "      <th>0</th>\n",
       "      <td>EOS12286</td>\n",
       "      <td>Cc1nc(N2CCN(C(=O)Nc3ccc(F)cc3F)CC2)cc(-n2ccnc2)n1</td>\n",
       "      <td>0</td>\n",
       "      <td>0</td>\n",
       "      <td>0</td>\n",
       "      <td>0</td>\n",
       "      <td>0</td>\n",
       "      <td>0</td>\n",
       "      <td>0</td>\n",
       "      <td>0</td>\n",
       "      <td>...</td>\n",
       "      <td>0.0</td>\n",
       "      <td>0.0</td>\n",
       "      <td>0.0</td>\n",
       "      <td>0.0</td>\n",
       "      <td>0.0</td>\n",
       "      <td>0.0</td>\n",
       "      <td>0.0</td>\n",
       "      <td>0.0</td>\n",
       "      <td>0.0</td>\n",
       "      <td>1.0</td>\n",
       "    </tr>\n",
       "    <tr>\n",
       "      <th>1</th>\n",
       "      <td>EOS85869</td>\n",
       "      <td>CCN(CC)[C@H]1CCN(C(=O)Cc2nc(C(C)C)c(C)s2)C1</td>\n",
       "      <td>0</td>\n",
       "      <td>0</td>\n",
       "      <td>0</td>\n",
       "      <td>0</td>\n",
       "      <td>0</td>\n",
       "      <td>0</td>\n",
       "      <td>0</td>\n",
       "      <td>0</td>\n",
       "      <td>...</td>\n",
       "      <td>0.0</td>\n",
       "      <td>0.0</td>\n",
       "      <td>0.0</td>\n",
       "      <td>0.0</td>\n",
       "      <td>0.0</td>\n",
       "      <td>0.0</td>\n",
       "      <td>1.0</td>\n",
       "      <td>0.0</td>\n",
       "      <td>0.0</td>\n",
       "      <td>0.0</td>\n",
       "    </tr>\n",
       "    <tr>\n",
       "      <th>2</th>\n",
       "      <td>EOS85435</td>\n",
       "      <td>CNC(=O)CNC(=O)c1c(-n2cccc2)sc(C)c1C</td>\n",
       "      <td>0</td>\n",
       "      <td>0</td>\n",
       "      <td>0</td>\n",
       "      <td>0</td>\n",
       "      <td>0</td>\n",
       "      <td>0</td>\n",
       "      <td>0</td>\n",
       "      <td>0</td>\n",
       "      <td>...</td>\n",
       "      <td>0.0</td>\n",
       "      <td>0.0</td>\n",
       "      <td>0.0</td>\n",
       "      <td>0.0</td>\n",
       "      <td>0.0</td>\n",
       "      <td>0.0</td>\n",
       "      <td>0.0</td>\n",
       "      <td>1.0</td>\n",
       "      <td>0.0</td>\n",
       "      <td>0.0</td>\n",
       "    </tr>\n",
       "    <tr>\n",
       "      <th>3</th>\n",
       "      <td>EOS102302</td>\n",
       "      <td>CC(C)(C)c1ccc(CSc2cnn(C(C)(C)C)c(=O)c2Cl)cc1</td>\n",
       "      <td>0</td>\n",
       "      <td>0</td>\n",
       "      <td>0</td>\n",
       "      <td>0</td>\n",
       "      <td>0</td>\n",
       "      <td>0</td>\n",
       "      <td>0</td>\n",
       "      <td>0</td>\n",
       "      <td>...</td>\n",
       "      <td>0.0</td>\n",
       "      <td>1.0</td>\n",
       "      <td>0.0</td>\n",
       "      <td>0.0</td>\n",
       "      <td>0.0</td>\n",
       "      <td>0.0</td>\n",
       "      <td>0.0</td>\n",
       "      <td>0.0</td>\n",
       "      <td>0.0</td>\n",
       "      <td>0.0</td>\n",
       "    </tr>\n",
       "    <tr>\n",
       "      <th>4</th>\n",
       "      <td>EOS64213</td>\n",
       "      <td>CC[C@H](NC(=O)c1ccnc(-n2ccnc2)c1)c1ccccc1OC</td>\n",
       "      <td>0</td>\n",
       "      <td>0</td>\n",
       "      <td>0</td>\n",
       "      <td>0</td>\n",
       "      <td>0</td>\n",
       "      <td>0</td>\n",
       "      <td>0</td>\n",
       "      <td>0</td>\n",
       "      <td>...</td>\n",
       "      <td>0.0</td>\n",
       "      <td>0.0</td>\n",
       "      <td>0.0</td>\n",
       "      <td>0.0</td>\n",
       "      <td>0.0</td>\n",
       "      <td>0.0</td>\n",
       "      <td>0.0</td>\n",
       "      <td>0.0</td>\n",
       "      <td>0.0</td>\n",
       "      <td>0.0</td>\n",
       "    </tr>\n",
       "    <tr>\n",
       "      <th>...</th>\n",
       "      <td>...</td>\n",
       "      <td>...</td>\n",
       "      <td>...</td>\n",
       "      <td>...</td>\n",
       "      <td>...</td>\n",
       "      <td>...</td>\n",
       "      <td>...</td>\n",
       "      <td>...</td>\n",
       "      <td>...</td>\n",
       "      <td>...</td>\n",
       "      <td>...</td>\n",
       "      <td>...</td>\n",
       "      <td>...</td>\n",
       "      <td>...</td>\n",
       "      <td>...</td>\n",
       "      <td>...</td>\n",
       "      <td>...</td>\n",
       "      <td>...</td>\n",
       "      <td>...</td>\n",
       "      <td>...</td>\n",
       "      <td>...</td>\n",
       "    </tr>\n",
       "    <tr>\n",
       "      <th>70706</th>\n",
       "      <td>EOS37839</td>\n",
       "      <td>O=C(NCCCc1nc(=O)[nH][nH]1)[C@H]1CCC(F)(F)C1</td>\n",
       "      <td>2</td>\n",
       "      <td>0</td>\n",
       "      <td>0</td>\n",
       "      <td>0</td>\n",
       "      <td>0</td>\n",
       "      <td>0</td>\n",
       "      <td>0</td>\n",
       "      <td>0</td>\n",
       "      <td>...</td>\n",
       "      <td>0.0</td>\n",
       "      <td>0.0</td>\n",
       "      <td>0.0</td>\n",
       "      <td>0.0</td>\n",
       "      <td>0.0</td>\n",
       "      <td>0.0</td>\n",
       "      <td>0.0</td>\n",
       "      <td>0.0</td>\n",
       "      <td>1.0</td>\n",
       "      <td>0.0</td>\n",
       "    </tr>\n",
       "    <tr>\n",
       "      <th>70707</th>\n",
       "      <td>EOS2088</td>\n",
       "      <td>Cc1ccc(C(=O)NC2CCCC2)cc1S(=O)(=O)N1CCOCC1</td>\n",
       "      <td>2</td>\n",
       "      <td>0</td>\n",
       "      <td>0</td>\n",
       "      <td>0</td>\n",
       "      <td>0</td>\n",
       "      <td>0</td>\n",
       "      <td>0</td>\n",
       "      <td>0</td>\n",
       "      <td>...</td>\n",
       "      <td>0.0</td>\n",
       "      <td>0.0</td>\n",
       "      <td>1.0</td>\n",
       "      <td>0.0</td>\n",
       "      <td>0.0</td>\n",
       "      <td>0.0</td>\n",
       "      <td>0.0</td>\n",
       "      <td>0.0</td>\n",
       "      <td>0.0</td>\n",
       "      <td>0.0</td>\n",
       "    </tr>\n",
       "    <tr>\n",
       "      <th>70708</th>\n",
       "      <td>EOS10587</td>\n",
       "      <td>COCCN1CCC(CN(C)S(=O)(=O)c2cccc(C(F)(F)F)c2)C1</td>\n",
       "      <td>2</td>\n",
       "      <td>0</td>\n",
       "      <td>0</td>\n",
       "      <td>0</td>\n",
       "      <td>0</td>\n",
       "      <td>0</td>\n",
       "      <td>0</td>\n",
       "      <td>0</td>\n",
       "      <td>...</td>\n",
       "      <td>0.0</td>\n",
       "      <td>0.0</td>\n",
       "      <td>1.0</td>\n",
       "      <td>0.0</td>\n",
       "      <td>0.0</td>\n",
       "      <td>0.0</td>\n",
       "      <td>0.0</td>\n",
       "      <td>0.0</td>\n",
       "      <td>0.0</td>\n",
       "      <td>0.0</td>\n",
       "    </tr>\n",
       "    <tr>\n",
       "      <th>70709</th>\n",
       "      <td>EOS40533</td>\n",
       "      <td>O=C(Nc1ccc(F)cc1)NC1CCN(C(=O)Cc2cnn(-c3ccccc3)...</td>\n",
       "      <td>2</td>\n",
       "      <td>0</td>\n",
       "      <td>0</td>\n",
       "      <td>0</td>\n",
       "      <td>0</td>\n",
       "      <td>0</td>\n",
       "      <td>0</td>\n",
       "      <td>0</td>\n",
       "      <td>...</td>\n",
       "      <td>0.0</td>\n",
       "      <td>0.0</td>\n",
       "      <td>0.0</td>\n",
       "      <td>0.0</td>\n",
       "      <td>0.0</td>\n",
       "      <td>0.0</td>\n",
       "      <td>0.0</td>\n",
       "      <td>0.0</td>\n",
       "      <td>0.0</td>\n",
       "      <td>1.0</td>\n",
       "    </tr>\n",
       "    <tr>\n",
       "      <th>70710</th>\n",
       "      <td>EOS45458</td>\n",
       "      <td>COC[C@H](C)NC(=O)N1CCN(c2nnnn2-c2ccccc2)CC1</td>\n",
       "      <td>2</td>\n",
       "      <td>0</td>\n",
       "      <td>0</td>\n",
       "      <td>0</td>\n",
       "      <td>0</td>\n",
       "      <td>0</td>\n",
       "      <td>0</td>\n",
       "      <td>0</td>\n",
       "      <td>...</td>\n",
       "      <td>0.0</td>\n",
       "      <td>0.0</td>\n",
       "      <td>0.0</td>\n",
       "      <td>0.0</td>\n",
       "      <td>0.0</td>\n",
       "      <td>1.0</td>\n",
       "      <td>0.0</td>\n",
       "      <td>0.0</td>\n",
       "      <td>0.0</td>\n",
       "      <td>1.0</td>\n",
       "    </tr>\n",
       "  </tbody>\n",
       "</table>\n",
       "<p>70711 rows × 4338 columns</p>\n",
       "</div>"
      ],
      "text/plain": [
       "              Id                                             smiles  \\\n",
       "0       EOS12286  Cc1nc(N2CCN(C(=O)Nc3ccc(F)cc3F)CC2)cc(-n2ccnc2)n1   \n",
       "1       EOS85869        CCN(CC)[C@H]1CCN(C(=O)Cc2nc(C(C)C)c(C)s2)C1   \n",
       "2       EOS85435                CNC(=O)CNC(=O)c1c(-n2cccc2)sc(C)c1C   \n",
       "3      EOS102302       CC(C)(C)c1ccc(CSc2cnn(C(C)(C)C)c(=O)c2Cl)cc1   \n",
       "4       EOS64213        CC[C@H](NC(=O)c1ccnc(-n2ccnc2)c1)c1ccccc1OC   \n",
       "...          ...                                                ...   \n",
       "70706   EOS37839        O=C(NCCCc1nc(=O)[nH][nH]1)[C@H]1CCC(F)(F)C1   \n",
       "70707    EOS2088          Cc1ccc(C(=O)NC2CCCC2)cc1S(=O)(=O)N1CCOCC1   \n",
       "70708   EOS10587      COCCN1CCC(CN(C)S(=O)(=O)c2cccc(C(F)(F)F)c2)C1   \n",
       "70709   EOS40533  O=C(Nc1ccc(F)cc1)NC1CCN(C(=O)Cc2cnn(-c3ccccc3)...   \n",
       "70710   EOS45458        COC[C@H](C)NC(=O)N1CCN(c2nnnn2-c2ccccc2)CC1   \n",
       "\n",
       "       sol_category  ecfp_0  ecfp_1  ecfp_2  ecfp_3  ecfp_4  ecfp_5  ecfp_6  \\\n",
       "0                 0       0       0       0       0       0       0       0   \n",
       "1                 0       0       0       0       0       0       0       0   \n",
       "2                 0       0       0       0       0       0       0       0   \n",
       "3                 0       0       0       0       0       0       0       0   \n",
       "4                 0       0       0       0       0       0       0       0   \n",
       "...             ...     ...     ...     ...     ...     ...     ...     ...   \n",
       "70706             2       0       0       0       0       0       0       0   \n",
       "70707             2       0       0       0       0       0       0       0   \n",
       "70708             2       0       0       0       0       0       0       0   \n",
       "70709             2       0       0       0       0       0       0       0   \n",
       "70710             2       0       0       0       0       0       0       0   \n",
       "\n",
       "       ...  rdkit_desc_fr_quatN  rdkit_desc_fr_sulfide  \\\n",
       "0      ...                  0.0                    0.0   \n",
       "1      ...                  0.0                    0.0   \n",
       "2      ...                  0.0                    0.0   \n",
       "3      ...                  0.0                    1.0   \n",
       "4      ...                  0.0                    0.0   \n",
       "...    ...                  ...                    ...   \n",
       "70706  ...                  0.0                    0.0   \n",
       "70707  ...                  0.0                    0.0   \n",
       "70708  ...                  0.0                    0.0   \n",
       "70709  ...                  0.0                    0.0   \n",
       "70710  ...                  0.0                    0.0   \n",
       "\n",
       "       rdkit_desc_fr_sulfonamd  rdkit_desc_fr_sulfone  \\\n",
       "0                          0.0                    0.0   \n",
       "1                          0.0                    0.0   \n",
       "2                          0.0                    0.0   \n",
       "3                          0.0                    0.0   \n",
       "4                          0.0                    0.0   \n",
       "...                        ...                    ...   \n",
       "70706                      0.0                    0.0   \n",
       "70707                      1.0                    0.0   \n",
       "70708                      1.0                    0.0   \n",
       "70709                      0.0                    0.0   \n",
       "70710                      0.0                    0.0   \n",
       "\n",
       "       rdkit_desc_fr_term_acetylene  rdkit_desc_fr_tetrazole  \\\n",
       "0                               0.0                      0.0   \n",
       "1                               0.0                      0.0   \n",
       "2                               0.0                      0.0   \n",
       "3                               0.0                      0.0   \n",
       "4                               0.0                      0.0   \n",
       "...                             ...                      ...   \n",
       "70706                           0.0                      0.0   \n",
       "70707                           0.0                      0.0   \n",
       "70708                           0.0                      0.0   \n",
       "70709                           0.0                      0.0   \n",
       "70710                           0.0                      1.0   \n",
       "\n",
       "       rdkit_desc_fr_thiazole  rdkit_desc_fr_thiophene  \\\n",
       "0                         0.0                      0.0   \n",
       "1                         1.0                      0.0   \n",
       "2                         0.0                      1.0   \n",
       "3                         0.0                      0.0   \n",
       "4                         0.0                      0.0   \n",
       "...                       ...                      ...   \n",
       "70706                     0.0                      0.0   \n",
       "70707                     0.0                      0.0   \n",
       "70708                     0.0                      0.0   \n",
       "70709                     0.0                      0.0   \n",
       "70710                     0.0                      0.0   \n",
       "\n",
       "       rdkit_desc_fr_unbrch_alkane  rdkit_desc_fr_urea  \n",
       "0                              0.0                 1.0  \n",
       "1                              0.0                 0.0  \n",
       "2                              0.0                 0.0  \n",
       "3                              0.0                 0.0  \n",
       "4                              0.0                 0.0  \n",
       "...                            ...                 ...  \n",
       "70706                          1.0                 0.0  \n",
       "70707                          0.0                 0.0  \n",
       "70708                          0.0                 0.0  \n",
       "70709                          0.0                 1.0  \n",
       "70710                          0.0                 1.0  \n",
       "\n",
       "[70711 rows x 4338 columns]"
      ]
     },
     "execution_count": 5,
     "metadata": {},
     "output_type": "execute_result"
    }
   ],
   "source": [
    "df['sol_category'] = pd.to_numeric(df['sol_category'], downcast='integer')\n",
    "df"
   ]
  },
  {
   "cell_type": "code",
   "execution_count": 6,
   "metadata": {},
   "outputs": [
    {
     "name": "stdout",
     "output_type": "stream",
     "text": [
      "['example_SlogP', 'rdkit_desc_SlogP_VSA1', 'rdkit_desc_SlogP_VSA10', 'rdkit_desc_SlogP_VSA11', 'rdkit_desc_SlogP_VSA12', 'rdkit_desc_SlogP_VSA2', 'rdkit_desc_SlogP_VSA3', 'rdkit_desc_SlogP_VSA4', 'rdkit_desc_SlogP_VSA5', 'rdkit_desc_SlogP_VSA6', 'rdkit_desc_SlogP_VSA7', 'rdkit_desc_SlogP_VSA8']\n"
     ]
    }
   ],
   "source": [
    "print([i for i in df.columns if 'logP' in i])"
   ]
  },
  {
   "cell_type": "code",
   "execution_count": 7,
   "metadata": {},
   "outputs": [
    {
     "data": {
      "text/plain": [
       "2    65835\n",
       "1     2835\n",
       "0     2041\n",
       "Name: sol_category, dtype: int64"
      ]
     },
     "execution_count": 7,
     "metadata": {},
     "output_type": "execute_result"
    }
   ],
   "source": [
    "df['sol_category'].value_counts()"
   ]
  },
  {
   "cell_type": "code",
   "execution_count": 8,
   "metadata": {},
   "outputs": [],
   "source": [
    "if test_run:\n",
    "    df, _, __, ___ = train_test_split(df, df['sol_category'], train_size=500, stratify=df['sol_category'])"
   ]
  },
  {
   "cell_type": "code",
   "execution_count": 9,
   "metadata": {},
   "outputs": [
    {
     "data": {
      "text/plain": [
       "2    0.931043\n",
       "1    0.040093\n",
       "0    0.028864\n",
       "Name: sol_category, dtype: float64"
      ]
     },
     "execution_count": 9,
     "metadata": {},
     "output_type": "execute_result"
    }
   ],
   "source": [
    "df['sol_category'].value_counts(normalize=True)"
   ]
  },
  {
   "cell_type": "code",
   "execution_count": 10,
   "metadata": {},
   "outputs": [],
   "source": [
    "#y = pd.read_excel(xl, 'y', header = None)"
   ]
  },
  {
   "cell_type": "code",
   "execution_count": 11,
   "metadata": {},
   "outputs": [],
   "source": [
    "# hypothesis fuction\n",
    "# takes input variables and theta, return calculated output variable"
   ]
  },
  {
   "cell_type": "code",
   "execution_count": 12,
   "metadata": {},
   "outputs": [
    {
     "name": "stdout",
     "output_type": "stream",
     "text": [
      "70711\n"
     ]
    },
    {
     "data": {
      "text/html": [
       "<div>\n",
       "<style scoped>\n",
       "    .dataframe tbody tr th:only-of-type {\n",
       "        vertical-align: middle;\n",
       "    }\n",
       "\n",
       "    .dataframe tbody tr th {\n",
       "        vertical-align: top;\n",
       "    }\n",
       "\n",
       "    .dataframe thead th {\n",
       "        text-align: right;\n",
       "    }\n",
       "</style>\n",
       "<table border=\"1\" class=\"dataframe\">\n",
       "  <thead>\n",
       "    <tr style=\"text-align: right;\">\n",
       "      <th></th>\n",
       "      <th>ecfp_0</th>\n",
       "      <th>ecfp_1</th>\n",
       "      <th>ecfp_2</th>\n",
       "      <th>ecfp_3</th>\n",
       "      <th>ecfp_4</th>\n",
       "      <th>ecfp_5</th>\n",
       "      <th>ecfp_6</th>\n",
       "      <th>ecfp_7</th>\n",
       "      <th>ecfp_8</th>\n",
       "      <th>ecfp_9</th>\n",
       "      <th>...</th>\n",
       "      <th>rdkit_desc_fr_quatN</th>\n",
       "      <th>rdkit_desc_fr_sulfide</th>\n",
       "      <th>rdkit_desc_fr_sulfonamd</th>\n",
       "      <th>rdkit_desc_fr_sulfone</th>\n",
       "      <th>rdkit_desc_fr_term_acetylene</th>\n",
       "      <th>rdkit_desc_fr_tetrazole</th>\n",
       "      <th>rdkit_desc_fr_thiazole</th>\n",
       "      <th>rdkit_desc_fr_thiophene</th>\n",
       "      <th>rdkit_desc_fr_unbrch_alkane</th>\n",
       "      <th>rdkit_desc_fr_urea</th>\n",
       "    </tr>\n",
       "  </thead>\n",
       "  <tbody>\n",
       "    <tr>\n",
       "      <th>0</th>\n",
       "      <td>0</td>\n",
       "      <td>0</td>\n",
       "      <td>0</td>\n",
       "      <td>0</td>\n",
       "      <td>0</td>\n",
       "      <td>0</td>\n",
       "      <td>0</td>\n",
       "      <td>0</td>\n",
       "      <td>0</td>\n",
       "      <td>0</td>\n",
       "      <td>...</td>\n",
       "      <td>0.0</td>\n",
       "      <td>0.0</td>\n",
       "      <td>0.0</td>\n",
       "      <td>0.0</td>\n",
       "      <td>0.0</td>\n",
       "      <td>0.0</td>\n",
       "      <td>0.0</td>\n",
       "      <td>0.0</td>\n",
       "      <td>0.0</td>\n",
       "      <td>1.0</td>\n",
       "    </tr>\n",
       "    <tr>\n",
       "      <th>1</th>\n",
       "      <td>0</td>\n",
       "      <td>0</td>\n",
       "      <td>0</td>\n",
       "      <td>0</td>\n",
       "      <td>0</td>\n",
       "      <td>0</td>\n",
       "      <td>0</td>\n",
       "      <td>0</td>\n",
       "      <td>0</td>\n",
       "      <td>0</td>\n",
       "      <td>...</td>\n",
       "      <td>0.0</td>\n",
       "      <td>0.0</td>\n",
       "      <td>0.0</td>\n",
       "      <td>0.0</td>\n",
       "      <td>0.0</td>\n",
       "      <td>0.0</td>\n",
       "      <td>1.0</td>\n",
       "      <td>0.0</td>\n",
       "      <td>0.0</td>\n",
       "      <td>0.0</td>\n",
       "    </tr>\n",
       "    <tr>\n",
       "      <th>2</th>\n",
       "      <td>0</td>\n",
       "      <td>0</td>\n",
       "      <td>0</td>\n",
       "      <td>0</td>\n",
       "      <td>0</td>\n",
       "      <td>0</td>\n",
       "      <td>0</td>\n",
       "      <td>0</td>\n",
       "      <td>0</td>\n",
       "      <td>0</td>\n",
       "      <td>...</td>\n",
       "      <td>0.0</td>\n",
       "      <td>0.0</td>\n",
       "      <td>0.0</td>\n",
       "      <td>0.0</td>\n",
       "      <td>0.0</td>\n",
       "      <td>0.0</td>\n",
       "      <td>0.0</td>\n",
       "      <td>1.0</td>\n",
       "      <td>0.0</td>\n",
       "      <td>0.0</td>\n",
       "    </tr>\n",
       "    <tr>\n",
       "      <th>3</th>\n",
       "      <td>0</td>\n",
       "      <td>0</td>\n",
       "      <td>0</td>\n",
       "      <td>0</td>\n",
       "      <td>0</td>\n",
       "      <td>0</td>\n",
       "      <td>0</td>\n",
       "      <td>0</td>\n",
       "      <td>0</td>\n",
       "      <td>0</td>\n",
       "      <td>...</td>\n",
       "      <td>0.0</td>\n",
       "      <td>1.0</td>\n",
       "      <td>0.0</td>\n",
       "      <td>0.0</td>\n",
       "      <td>0.0</td>\n",
       "      <td>0.0</td>\n",
       "      <td>0.0</td>\n",
       "      <td>0.0</td>\n",
       "      <td>0.0</td>\n",
       "      <td>0.0</td>\n",
       "    </tr>\n",
       "    <tr>\n",
       "      <th>4</th>\n",
       "      <td>0</td>\n",
       "      <td>0</td>\n",
       "      <td>0</td>\n",
       "      <td>0</td>\n",
       "      <td>0</td>\n",
       "      <td>0</td>\n",
       "      <td>0</td>\n",
       "      <td>0</td>\n",
       "      <td>0</td>\n",
       "      <td>0</td>\n",
       "      <td>...</td>\n",
       "      <td>0.0</td>\n",
       "      <td>0.0</td>\n",
       "      <td>0.0</td>\n",
       "      <td>0.0</td>\n",
       "      <td>0.0</td>\n",
       "      <td>0.0</td>\n",
       "      <td>0.0</td>\n",
       "      <td>0.0</td>\n",
       "      <td>0.0</td>\n",
       "      <td>0.0</td>\n",
       "    </tr>\n",
       "    <tr>\n",
       "      <th>...</th>\n",
       "      <td>...</td>\n",
       "      <td>...</td>\n",
       "      <td>...</td>\n",
       "      <td>...</td>\n",
       "      <td>...</td>\n",
       "      <td>...</td>\n",
       "      <td>...</td>\n",
       "      <td>...</td>\n",
       "      <td>...</td>\n",
       "      <td>...</td>\n",
       "      <td>...</td>\n",
       "      <td>...</td>\n",
       "      <td>...</td>\n",
       "      <td>...</td>\n",
       "      <td>...</td>\n",
       "      <td>...</td>\n",
       "      <td>...</td>\n",
       "      <td>...</td>\n",
       "      <td>...</td>\n",
       "      <td>...</td>\n",
       "      <td>...</td>\n",
       "    </tr>\n",
       "    <tr>\n",
       "      <th>70706</th>\n",
       "      <td>0</td>\n",
       "      <td>0</td>\n",
       "      <td>0</td>\n",
       "      <td>0</td>\n",
       "      <td>0</td>\n",
       "      <td>0</td>\n",
       "      <td>0</td>\n",
       "      <td>0</td>\n",
       "      <td>0</td>\n",
       "      <td>0</td>\n",
       "      <td>...</td>\n",
       "      <td>0.0</td>\n",
       "      <td>0.0</td>\n",
       "      <td>0.0</td>\n",
       "      <td>0.0</td>\n",
       "      <td>0.0</td>\n",
       "      <td>0.0</td>\n",
       "      <td>0.0</td>\n",
       "      <td>0.0</td>\n",
       "      <td>1.0</td>\n",
       "      <td>0.0</td>\n",
       "    </tr>\n",
       "    <tr>\n",
       "      <th>70707</th>\n",
       "      <td>0</td>\n",
       "      <td>0</td>\n",
       "      <td>0</td>\n",
       "      <td>0</td>\n",
       "      <td>0</td>\n",
       "      <td>0</td>\n",
       "      <td>0</td>\n",
       "      <td>0</td>\n",
       "      <td>0</td>\n",
       "      <td>0</td>\n",
       "      <td>...</td>\n",
       "      <td>0.0</td>\n",
       "      <td>0.0</td>\n",
       "      <td>1.0</td>\n",
       "      <td>0.0</td>\n",
       "      <td>0.0</td>\n",
       "      <td>0.0</td>\n",
       "      <td>0.0</td>\n",
       "      <td>0.0</td>\n",
       "      <td>0.0</td>\n",
       "      <td>0.0</td>\n",
       "    </tr>\n",
       "    <tr>\n",
       "      <th>70708</th>\n",
       "      <td>0</td>\n",
       "      <td>0</td>\n",
       "      <td>0</td>\n",
       "      <td>0</td>\n",
       "      <td>0</td>\n",
       "      <td>0</td>\n",
       "      <td>0</td>\n",
       "      <td>0</td>\n",
       "      <td>0</td>\n",
       "      <td>0</td>\n",
       "      <td>...</td>\n",
       "      <td>0.0</td>\n",
       "      <td>0.0</td>\n",
       "      <td>1.0</td>\n",
       "      <td>0.0</td>\n",
       "      <td>0.0</td>\n",
       "      <td>0.0</td>\n",
       "      <td>0.0</td>\n",
       "      <td>0.0</td>\n",
       "      <td>0.0</td>\n",
       "      <td>0.0</td>\n",
       "    </tr>\n",
       "    <tr>\n",
       "      <th>70709</th>\n",
       "      <td>0</td>\n",
       "      <td>0</td>\n",
       "      <td>0</td>\n",
       "      <td>0</td>\n",
       "      <td>0</td>\n",
       "      <td>0</td>\n",
       "      <td>0</td>\n",
       "      <td>0</td>\n",
       "      <td>0</td>\n",
       "      <td>0</td>\n",
       "      <td>...</td>\n",
       "      <td>0.0</td>\n",
       "      <td>0.0</td>\n",
       "      <td>0.0</td>\n",
       "      <td>0.0</td>\n",
       "      <td>0.0</td>\n",
       "      <td>0.0</td>\n",
       "      <td>0.0</td>\n",
       "      <td>0.0</td>\n",
       "      <td>0.0</td>\n",
       "      <td>1.0</td>\n",
       "    </tr>\n",
       "    <tr>\n",
       "      <th>70710</th>\n",
       "      <td>0</td>\n",
       "      <td>0</td>\n",
       "      <td>0</td>\n",
       "      <td>0</td>\n",
       "      <td>0</td>\n",
       "      <td>0</td>\n",
       "      <td>0</td>\n",
       "      <td>0</td>\n",
       "      <td>0</td>\n",
       "      <td>0</td>\n",
       "      <td>...</td>\n",
       "      <td>0.0</td>\n",
       "      <td>0.0</td>\n",
       "      <td>0.0</td>\n",
       "      <td>0.0</td>\n",
       "      <td>0.0</td>\n",
       "      <td>1.0</td>\n",
       "      <td>0.0</td>\n",
       "      <td>0.0</td>\n",
       "      <td>0.0</td>\n",
       "      <td>1.0</td>\n",
       "    </tr>\n",
       "  </tbody>\n",
       "</table>\n",
       "<p>70711 rows × 4335 columns</p>\n",
       "</div>"
      ],
      "text/plain": [
       "       ecfp_0  ecfp_1  ecfp_2  ecfp_3  ecfp_4  ecfp_5  ecfp_6  ecfp_7  ecfp_8  \\\n",
       "0           0       0       0       0       0       0       0       0       0   \n",
       "1           0       0       0       0       0       0       0       0       0   \n",
       "2           0       0       0       0       0       0       0       0       0   \n",
       "3           0       0       0       0       0       0       0       0       0   \n",
       "4           0       0       0       0       0       0       0       0       0   \n",
       "...       ...     ...     ...     ...     ...     ...     ...     ...     ...   \n",
       "70706       0       0       0       0       0       0       0       0       0   \n",
       "70707       0       0       0       0       0       0       0       0       0   \n",
       "70708       0       0       0       0       0       0       0       0       0   \n",
       "70709       0       0       0       0       0       0       0       0       0   \n",
       "70710       0       0       0       0       0       0       0       0       0   \n",
       "\n",
       "       ecfp_9  ...  rdkit_desc_fr_quatN  rdkit_desc_fr_sulfide  \\\n",
       "0           0  ...                  0.0                    0.0   \n",
       "1           0  ...                  0.0                    0.0   \n",
       "2           0  ...                  0.0                    0.0   \n",
       "3           0  ...                  0.0                    1.0   \n",
       "4           0  ...                  0.0                    0.0   \n",
       "...       ...  ...                  ...                    ...   \n",
       "70706       0  ...                  0.0                    0.0   \n",
       "70707       0  ...                  0.0                    0.0   \n",
       "70708       0  ...                  0.0                    0.0   \n",
       "70709       0  ...                  0.0                    0.0   \n",
       "70710       0  ...                  0.0                    0.0   \n",
       "\n",
       "       rdkit_desc_fr_sulfonamd  rdkit_desc_fr_sulfone  \\\n",
       "0                          0.0                    0.0   \n",
       "1                          0.0                    0.0   \n",
       "2                          0.0                    0.0   \n",
       "3                          0.0                    0.0   \n",
       "4                          0.0                    0.0   \n",
       "...                        ...                    ...   \n",
       "70706                      0.0                    0.0   \n",
       "70707                      1.0                    0.0   \n",
       "70708                      1.0                    0.0   \n",
       "70709                      0.0                    0.0   \n",
       "70710                      0.0                    0.0   \n",
       "\n",
       "       rdkit_desc_fr_term_acetylene  rdkit_desc_fr_tetrazole  \\\n",
       "0                               0.0                      0.0   \n",
       "1                               0.0                      0.0   \n",
       "2                               0.0                      0.0   \n",
       "3                               0.0                      0.0   \n",
       "4                               0.0                      0.0   \n",
       "...                             ...                      ...   \n",
       "70706                           0.0                      0.0   \n",
       "70707                           0.0                      0.0   \n",
       "70708                           0.0                      0.0   \n",
       "70709                           0.0                      0.0   \n",
       "70710                           0.0                      1.0   \n",
       "\n",
       "       rdkit_desc_fr_thiazole  rdkit_desc_fr_thiophene  \\\n",
       "0                         0.0                      0.0   \n",
       "1                         1.0                      0.0   \n",
       "2                         0.0                      1.0   \n",
       "3                         0.0                      0.0   \n",
       "4                         0.0                      0.0   \n",
       "...                       ...                      ...   \n",
       "70706                     0.0                      0.0   \n",
       "70707                     0.0                      0.0   \n",
       "70708                     0.0                      0.0   \n",
       "70709                     0.0                      0.0   \n",
       "70710                     0.0                      0.0   \n",
       "\n",
       "       rdkit_desc_fr_unbrch_alkane  rdkit_desc_fr_urea  \n",
       "0                              0.0                 1.0  \n",
       "1                              0.0                 0.0  \n",
       "2                              0.0                 0.0  \n",
       "3                              0.0                 0.0  \n",
       "4                              0.0                 0.0  \n",
       "...                            ...                 ...  \n",
       "70706                          1.0                 0.0  \n",
       "70707                          0.0                 0.0  \n",
       "70708                          0.0                 0.0  \n",
       "70709                          0.0                 1.0  \n",
       "70710                          0.0                 1.0  \n",
       "\n",
       "[70711 rows x 4335 columns]"
      ]
     },
     "execution_count": 12,
     "metadata": {},
     "output_type": "execute_result"
    }
   ],
   "source": [
    "print(len(df))\n",
    "#print(len(y))\n",
    "X = df.copy(deep=True)\n",
    "X.drop(columns=['Id', 'smiles', 'sol_category'], inplace=True)\n",
    "X"
   ]
  },
  {
   "cell_type": "code",
   "execution_count": 13,
   "metadata": {},
   "outputs": [],
   "source": [
    "y = df.iloc[:, 2]"
   ]
  },
  {
   "cell_type": "code",
   "execution_count": 14,
   "metadata": {},
   "outputs": [
    {
     "data": {
      "text/plain": [
       "0        0\n",
       "1        0\n",
       "2        0\n",
       "3        0\n",
       "4        0\n",
       "        ..\n",
       "70706    2\n",
       "70707    2\n",
       "70708    2\n",
       "70709    2\n",
       "70710    2\n",
       "Name: sol_category, Length: 70711, dtype: int8"
      ]
     },
     "execution_count": 14,
     "metadata": {},
     "output_type": "execute_result"
    }
   ],
   "source": [
    "y"
   ]
  },
  {
   "cell_type": "code",
   "execution_count": 15,
   "metadata": {},
   "outputs": [
    {
     "data": {
      "text/plain": [
       "array([0, 1, 2], dtype=int8)"
      ]
     },
     "execution_count": 15,
     "metadata": {},
     "output_type": "execute_result"
    }
   ],
   "source": [
    "y.unique()"
   ]
  },
  {
   "cell_type": "code",
   "execution_count": 16,
   "metadata": {},
   "outputs": [],
   "source": [
    "# Stricter feature selection\n",
    "### 1. just use ecfp/rdkit+example\n",
    "### 2. Hyperparatuning (StratifiedKfold+RandomizedSearchCV on X_train and y_train) (max_iter, solver, penalty,C)\n",
    "\n",
    "# for dataset over all_dataset\n",
    "#   hyperparameter tuning()"
   ]
  },
  {
   "cell_type": "markdown",
   "metadata": {},
   "source": [
    "#### removing naN values"
   ]
  },
  {
   "cell_type": "code",
   "execution_count": 17,
   "metadata": {},
   "outputs": [],
   "source": [
    "list_nan_col = []\n",
    "\n",
    "for colname in df.columns:\n",
    "    if not colname == 'sol_category':\n",
    "        num_nan = 0\n",
    "        # counting NaN in column\n",
    "        num_nan = df[colname].isna().sum()\n",
    "        if num_nan > 1:\n",
    "            list_nan_col.append(colname)\n",
    "\n",
    "X.drop(list_nan_col, axis=1, inplace=True)"
   ]
  },
  {
   "cell_type": "markdown",
   "metadata": {},
   "source": [
    "#### StandardScaler and splitting"
   ]
  },
  {
   "cell_type": "code",
   "execution_count": 18,
   "metadata": {},
   "outputs": [],
   "source": [
    "# apply StandardScaler\n",
    "scaler = StandardScaler(copy=True, with_mean=True, with_std=True).fit(X)\n",
    "X = scaler.fit_transform(X)\n",
    "\n",
    "# split dataset\n",
    "StratifiedKFold(n_splits=5)\n",
    "X_train, X_val, y_train, y_val = train_test_split(X, y, random_state=1,  shuffle=True, stratify=y) #, test_size=0.2, train_size=0.8)"
   ]
  },
  {
   "cell_type": "code",
   "execution_count": 19,
   "metadata": {},
   "outputs": [
    {
     "data": {
      "text/plain": [
       "2    49376\n",
       "1     2126\n",
       "0     1531\n",
       "Name: sol_category, dtype: int64"
      ]
     },
     "execution_count": 19,
     "metadata": {},
     "output_type": "execute_result"
    }
   ],
   "source": [
    "y_train.value_counts()"
   ]
  },
  {
   "cell_type": "code",
   "execution_count": 20,
   "metadata": {},
   "outputs": [
    {
     "data": {
      "text/plain": [
       "(53033, 4324)"
      ]
     },
     "execution_count": 20,
     "metadata": {},
     "output_type": "execute_result"
    }
   ],
   "source": [
    "X_train.shape"
   ]
  },
  {
   "cell_type": "markdown",
   "metadata": {},
   "source": [
    "## SMOTE"
   ]
  },
  {
   "cell_type": "code",
   "execution_count": 21,
   "metadata": {},
   "outputs": [],
   "source": [
    "oversample = {\n",
    "    2 : 50000,\n",
    "    1 : 12000,\n",
    "    0 : 10000\n",
    "}"
   ]
  },
  {
   "cell_type": "code",
   "execution_count": 22,
   "metadata": {},
   "outputs": [],
   "source": [
    "'''\n",
    "samples = {}\n",
    "samples[0] = 1500\n",
    "samples[1] = 1500\n",
    "samples[2] = 1500\n",
    "'''\n",
    "rus = SMOTE(sampling_strategy=oversample, random_state=0 )\n",
    "#rus = SMOTE(sampling_strategy='not majority', random_state=0 )#, replacement=True)\n",
    "X_resampled, y_resampled = rus.fit_resample(X_train, y_train)"
   ]
  },
  {
   "cell_type": "code",
   "execution_count": 23,
   "metadata": {},
   "outputs": [
    {
     "data": {
      "text/plain": [
       "array([[-0.03079639, -0.02606301, -0.18671033, ..., -0.24571133,\n",
       "        -0.20651096, -0.36001517],\n",
       "       [-0.03079639, -0.02606301, -0.18671033, ..., -0.24571133,\n",
       "        -0.20651096, -0.36001517],\n",
       "       [-0.03079639, -0.02606301,  5.35589006, ..., -0.24571133,\n",
       "        -0.20651096,  2.70672773],\n",
       "       ...,\n",
       "       [-0.03079639, -0.02606301, -0.18671033, ..., -0.24571133,\n",
       "        -0.20651096, -0.36001517],\n",
       "       [-0.03079639, -0.02606301, -0.18671033, ..., -0.24571133,\n",
       "        -0.20651096, -0.36001517],\n",
       "       [-0.03079639, -0.02606301, -0.18671033, ..., -0.24571133,\n",
       "        -0.20651096, -0.36001517]])"
      ]
     },
     "execution_count": 23,
     "metadata": {},
     "output_type": "execute_result"
    }
   ],
   "source": [
    "X_resampled"
   ]
  },
  {
   "cell_type": "code",
   "execution_count": 24,
   "metadata": {},
   "outputs": [
    {
     "data": {
      "text/plain": [
       "0        2\n",
       "1        2\n",
       "2        2\n",
       "3        0\n",
       "4        2\n",
       "        ..\n",
       "71995    2\n",
       "71996    2\n",
       "71997    2\n",
       "71998    2\n",
       "71999    2\n",
       "Name: sol_category, Length: 72000, dtype: int8"
      ]
     },
     "execution_count": 24,
     "metadata": {},
     "output_type": "execute_result"
    }
   ],
   "source": [
    "y_resampled"
   ]
  },
  {
   "cell_type": "code",
   "execution_count": 25,
   "metadata": {},
   "outputs": [
    {
     "data": {
      "text/plain": [
       "2    50000\n",
       "1    12000\n",
       "0    10000\n",
       "Name: sol_category, dtype: int64"
      ]
     },
     "execution_count": 25,
     "metadata": {},
     "output_type": "execute_result"
    }
   ],
   "source": [
    "y_resampled.value_counts()"
   ]
  },
  {
   "cell_type": "code",
   "execution_count": 26,
   "metadata": {},
   "outputs": [
    {
     "data": {
      "text/plain": [
       "'all_dataset = list()\\nall_dataset.append(X_resampled)\\n#all_dataset.append(X_ecfp)\\n#all_dataset.append(X_desc)\\n#all_dataset.append(X_example)\\n#all_dataset.append(X_rdd)'"
      ]
     },
     "execution_count": 26,
     "metadata": {},
     "output_type": "execute_result"
    }
   ],
   "source": [
    "'''all_dataset = list()\n",
    "all_dataset.append(X_resampled)\n",
    "#all_dataset.append(X_ecfp)\n",
    "#all_dataset.append(X_desc)\n",
    "#all_dataset.append(X_example)\n",
    "#all_dataset.append(X_rdd)'''"
   ]
  },
  {
   "cell_type": "code",
   "execution_count": 27,
   "metadata": {},
   "outputs": [],
   "source": [
    "#from numpy import linspace"
   ]
  },
  {
   "cell_type": "code",
   "execution_count": 28,
   "metadata": {},
   "outputs": [
    {
     "data": {
      "text/plain": [
       "'# setup parameters for xgboost\\nparam = {}\\n#param[\\'booster\\'] = [\\'gbtree\\', \\'gblinear\\', \\'dart\\']\\n#param[\\'objective\\'] = [\\'binary:logistic\\']\\n#param[\"eval_metric\"] = [\"error\"]\\nparam[\\'eta\\'] = [0.0001, 0.001, 0.01, 0.1, 0.2, 0.3, 0.4, 0.5] # boosting learning rate\\nparam[\\'gamma\\'] = linspace(0.000000001, 1.0, num=11) # min loss red recuired for further partition on leaf node\\nparam[\\'max_depth\\'] = np.arange(1, 11, 2) # max tree dept for base learners\\nparam[\\'n_estimators\\'] = np.arange(50, 550, 50)\\nparam[\\'min_child_weight\\'] = [1] # min sum of instance weight in a child\\nparam[\\'max_delta_step\\'] = [0] # max delta step allowed for each tree\\'s weight estimate\\nparam[\\'subsample\\']= [0.5, 1] # subsample ratio of training instance\\nparam[\\'colsample_bytree\\'] = [1] # subsample ratio of columns when cunstructing each tree\\n#param[\\'silent\\'] = [1]\\n#param[\\'seed\\'] = [0] # = random_state ???\\nparam[\\'base_score\\'] = [0.5] # initial prediction score, global bias\\n#param[\\'random_state\\'] = [0] # = seed ???\\n#param[\\'scale_pos_weight\\'] = ratio\\n\\n'"
      ]
     },
     "execution_count": 28,
     "metadata": {},
     "output_type": "execute_result"
    }
   ],
   "source": [
    "'''# setup parameters for xgboost\n",
    "param = {}\n",
    "#param['booster'] = ['gbtree', 'gblinear', 'dart']\n",
    "#param['objective'] = ['binary:logistic']\n",
    "#param[\"eval_metric\"] = [\"error\"]\n",
    "param['eta'] = [0.0001, 0.001, 0.01, 0.1, 0.2, 0.3, 0.4, 0.5] # boosting learning rate\n",
    "param['gamma'] = linspace(0.000000001, 1.0, num=11) # min loss red recuired for further partition on leaf node\n",
    "param['max_depth'] = np.arange(1, 11, 2) # max tree dept for base learners\n",
    "param['n_estimators'] = np.arange(50, 550, 50)\n",
    "param['min_child_weight'] = [1] # min sum of instance weight in a child\n",
    "param['max_delta_step'] = [0] # max delta step allowed for each tree's weight estimate\n",
    "param['subsample']= [0.5, 1] # subsample ratio of training instance\n",
    "param['colsample_bytree'] = [1] # subsample ratio of columns when cunstructing each tree\n",
    "#param['silent'] = [1]\n",
    "#param['seed'] = [0] # = random_state ???\n",
    "param['base_score'] = [0.5] # initial prediction score, global bias\n",
    "#param['random_state'] = [0] # = seed ???\n",
    "#param['scale_pos_weight'] = ratio\n",
    "\n",
    "'''"
   ]
  },
  {
   "cell_type": "code",
   "execution_count": 29,
   "metadata": {},
   "outputs": [
    {
     "data": {
      "text/plain": [
       "'# data set indicator\\ni=1\\n\\n#predictions = list()\\nqwck_scorer = make_scorer(cohen_kappa_score, weights=\\'quadratic\\')\\n\\nprint(\\'------------------------------------------------------\\')\\n\\nfor dataset in all_dataset:\\n    # apply StandardScaler\\n    scaler = StandardScaler(copy=True, with_mean=True, with_std=True).fit(dataset)\\n    dataset = scaler.fit_transform(dataset)\\n\\n    # split dataset\\n    StratifiedKFold(n_splits=5)\\n    X_train, X_test, y_train, y_test = train_test_split(dataset, y_resampled, random_state=1,  shuffle=True, stratify=y_resampled)#, test_size=0.2, train_size=0.8)\\n\\n    from sklearn.utils import class_weight\\n    classes_weights = class_weight.compute_sample_weight(\\n        class_weight=\\'balanced\\',\\n        y=y_train\\n        )\\n\\n    # method\\n    model = XGBClassifier(**param, n_jobs=5)\\n    randm_src = RandomizedSearchCV(estimator=model, param_distributions = param, cv = 5, n_iter = 10, n_jobs=5, scoring=qwck_scorer, verbose=1) #verbose=1\\n    randm_src.fit(X_train, y_train, sample_weight=classes_weights)\\n\\n    # data set name\\n    dataset_name = \\'X\\'\\n    \\n\\n    # output\\n    print(f\\'results of data set {dataset_name}\\')\\n    print(\\'------------------------------------------------------\\')\\n    print(\" Results from Random Search: \" )\\n    print(\"\\n The best estimator across ALL searched params:\\n\", randm_src.best_estimator_)\\n    print(\"\\n The best score across ALL searched params:\\n\", randm_src.best_score_)\\n    print(\"\\n The best parameters across ALL searched params:\\n\", randm_src.best_params_)\\n    print(\\'------------------------------------------------------------------------------------------------------------------------------------------------------------------\\')\\n\\n'"
      ]
     },
     "execution_count": 29,
     "metadata": {},
     "output_type": "execute_result"
    }
   ],
   "source": [
    "\n",
    "'''# data set indicator\n",
    "i=1\n",
    "\n",
    "#predictions = list()\n",
    "qwck_scorer = make_scorer(cohen_kappa_score, weights='quadratic')\n",
    "\n",
    "print('------------------------------------------------------')\n",
    "\n",
    "for dataset in all_dataset:\n",
    "    # apply StandardScaler\n",
    "    scaler = StandardScaler(copy=True, with_mean=True, with_std=True).fit(dataset)\n",
    "    dataset = scaler.fit_transform(dataset)\n",
    "\n",
    "    # split dataset\n",
    "    StratifiedKFold(n_splits=5)\n",
    "    X_train, X_test, y_train, y_test = train_test_split(dataset, y_resampled, random_state=1,  shuffle=True, stratify=y_resampled)#, test_size=0.2, train_size=0.8)\n",
    "\n",
    "    from sklearn.utils import class_weight\n",
    "    classes_weights = class_weight.compute_sample_weight(\n",
    "        class_weight='balanced',\n",
    "        y=y_train\n",
    "        )\n",
    "\n",
    "    # method\n",
    "    model = XGBClassifier(**param, n_jobs=5)\n",
    "    randm_src = RandomizedSearchCV(estimator=model, param_distributions = param, cv = 5, n_iter = 10, n_jobs=5, scoring=qwck_scorer, verbose=1) #verbose=1\n",
    "    randm_src.fit(X_train, y_train, sample_weight=classes_weights)\n",
    "\n",
    "    # data set name\n",
    "    dataset_name = 'X'\n",
    "    \n",
    "\n",
    "    # output\n",
    "    print(f'results of data set {dataset_name}')\n",
    "    print('------------------------------------------------------')\n",
    "    print(\" Results from Random Search: \" )\n",
    "    print(\"\\n The best estimator across ALL searched params:\\n\", randm_src.best_estimator_)\n",
    "    print(\"\\n The best score across ALL searched params:\\n\", randm_src.best_score_)\n",
    "    print(\"\\n The best parameters across ALL searched params:\\n\", randm_src.best_params_)\n",
    "    print('------------------------------------------------------------------------------------------------------------------------------------------------------------------')\n",
    "\n",
    "'''"
   ]
  },
  {
   "cell_type": "code",
   "execution_count": 30,
   "metadata": {},
   "outputs": [],
   "source": [
    "#randm_src.best_params_"
   ]
  },
  {
   "cell_type": "code",
   "execution_count": 31,
   "metadata": {},
   "outputs": [
    {
     "data": {
      "text/plain": [
       "'hyperparam = randm_src.best_params_\\n\\nfor key in hyperparam:\\n    if type(hyperparam[key]) == np.int64:\\n        hyperparam[key] = int(hyperparam[key])\\n    elif type(hyperparam[key]) == np.float64:\\n        hyperparam[key] = float(hyperparam[key])\\n        '"
      ]
     },
     "execution_count": 31,
     "metadata": {},
     "output_type": "execute_result"
    }
   ],
   "source": [
    "'''hyperparam = randm_src.best_params_\n",
    "\n",
    "for key in hyperparam:\n",
    "    if type(hyperparam[key]) == np.int64:\n",
    "        hyperparam[key] = int(hyperparam[key])\n",
    "    elif type(hyperparam[key]) == np.float64:\n",
    "        hyperparam[key] = float(hyperparam[key])\n",
    "        '''"
   ]
  },
  {
   "cell_type": "code",
   "execution_count": 32,
   "metadata": {},
   "outputs": [
    {
     "data": {
      "text/plain": [
       "\"\\nwith open('Temp/-xgb_hyperparam.json', 'w') as fp:\\n    json.dump(hyperparam, fp)\\n\""
      ]
     },
     "execution_count": 32,
     "metadata": {},
     "output_type": "execute_result"
    }
   ],
   "source": [
    "'''\n",
    "with open('Temp/-xgb_hyperparam.json', 'w') as fp:\n",
    "    json.dump(hyperparam, fp)\n",
    "'''"
   ]
  },
  {
   "cell_type": "code",
   "execution_count": 33,
   "metadata": {},
   "outputs": [],
   "source": [
    "\n",
    "# setup parameters for xgboost\n",
    "params = {}\n",
    "#params['booster'] = ['gbtree', 'gblinear', 'dart']\n",
    "#params['objective'] = ['binary:logistic']\n",
    "#params[\"eval_metric\"] = [\"error\"]\n",
    "params['eta'] = 0.0001 #, 0.001, 0.01, 0.1, 0.2, 0.3, 0.4, 0.5] # boosting learning rate\n",
    "params['gamma'] = 0.4 #linspace(0.000000001, 1.0, num=11) # min loss red recuired for further partition on leaf node\n",
    "params['max_depth'] = 5 #np.arange(1, 11, 2) # max tree dept for base learners\n",
    "params['n_estimators'] = 250 #np.arange(50, 550, 50)\n",
    "params['min_child_weight'] = 1 # min sum of instance weight in a child\n",
    "params['max_delta_step'] = 0 # max delta step allowed for each tree's weight estimate\n",
    "params['subsample']= 0.5 #[0.5, 1] # subsample ratio of training instance\n",
    "params['colsample_bytree'] = 1 # subsample ratio of columns when cunstructing each tree\n",
    "#params['silent'] = [1]\n",
    "#params['seed'] = [0] # = random_state ???\n",
    "params['base_score'] = 0.5 # initial prediction score, global bias\n",
    "#params['random_state'] = [0] # = seed ???\n",
    "#params['scale_pos_weight'] = ratio\n",
    "params['n_jobs'] = 5\n",
    "params['eval_metric'] = 'mlogloss'"
   ]
  },
  {
   "cell_type": "code",
   "execution_count": 34,
   "metadata": {},
   "outputs": [
    {
     "data": {
      "text/html": [
       "<style>#sk-container-id-1 {color: black;background-color: white;}#sk-container-id-1 pre{padding: 0;}#sk-container-id-1 div.sk-toggleable {background-color: white;}#sk-container-id-1 label.sk-toggleable__label {cursor: pointer;display: block;width: 100%;margin-bottom: 0;padding: 0.3em;box-sizing: border-box;text-align: center;}#sk-container-id-1 label.sk-toggleable__label-arrow:before {content: \"▸\";float: left;margin-right: 0.25em;color: #696969;}#sk-container-id-1 label.sk-toggleable__label-arrow:hover:before {color: black;}#sk-container-id-1 div.sk-estimator:hover label.sk-toggleable__label-arrow:before {color: black;}#sk-container-id-1 div.sk-toggleable__content {max-height: 0;max-width: 0;overflow: hidden;text-align: left;background-color: #f0f8ff;}#sk-container-id-1 div.sk-toggleable__content pre {margin: 0.2em;color: black;border-radius: 0.25em;background-color: #f0f8ff;}#sk-container-id-1 input.sk-toggleable__control:checked~div.sk-toggleable__content {max-height: 200px;max-width: 100%;overflow: auto;}#sk-container-id-1 input.sk-toggleable__control:checked~label.sk-toggleable__label-arrow:before {content: \"▾\";}#sk-container-id-1 div.sk-estimator input.sk-toggleable__control:checked~label.sk-toggleable__label {background-color: #d4ebff;}#sk-container-id-1 div.sk-label input.sk-toggleable__control:checked~label.sk-toggleable__label {background-color: #d4ebff;}#sk-container-id-1 input.sk-hidden--visually {border: 0;clip: rect(1px 1px 1px 1px);clip: rect(1px, 1px, 1px, 1px);height: 1px;margin: -1px;overflow: hidden;padding: 0;position: absolute;width: 1px;}#sk-container-id-1 div.sk-estimator {font-family: monospace;background-color: #f0f8ff;border: 1px dotted black;border-radius: 0.25em;box-sizing: border-box;margin-bottom: 0.5em;}#sk-container-id-1 div.sk-estimator:hover {background-color: #d4ebff;}#sk-container-id-1 div.sk-parallel-item::after {content: \"\";width: 100%;border-bottom: 1px solid gray;flex-grow: 1;}#sk-container-id-1 div.sk-label:hover label.sk-toggleable__label {background-color: #d4ebff;}#sk-container-id-1 div.sk-serial::before {content: \"\";position: absolute;border-left: 1px solid gray;box-sizing: border-box;top: 0;bottom: 0;left: 50%;z-index: 0;}#sk-container-id-1 div.sk-serial {display: flex;flex-direction: column;align-items: center;background-color: white;padding-right: 0.2em;padding-left: 0.2em;position: relative;}#sk-container-id-1 div.sk-item {position: relative;z-index: 1;}#sk-container-id-1 div.sk-parallel {display: flex;align-items: stretch;justify-content: center;background-color: white;position: relative;}#sk-container-id-1 div.sk-item::before, #sk-container-id-1 div.sk-parallel-item::before {content: \"\";position: absolute;border-left: 1px solid gray;box-sizing: border-box;top: 0;bottom: 0;left: 50%;z-index: -1;}#sk-container-id-1 div.sk-parallel-item {display: flex;flex-direction: column;z-index: 1;position: relative;background-color: white;}#sk-container-id-1 div.sk-parallel-item:first-child::after {align-self: flex-end;width: 50%;}#sk-container-id-1 div.sk-parallel-item:last-child::after {align-self: flex-start;width: 50%;}#sk-container-id-1 div.sk-parallel-item:only-child::after {width: 0;}#sk-container-id-1 div.sk-dashed-wrapped {border: 1px dashed gray;margin: 0 0.4em 0.5em 0.4em;box-sizing: border-box;padding-bottom: 0.4em;background-color: white;}#sk-container-id-1 div.sk-label label {font-family: monospace;font-weight: bold;display: inline-block;line-height: 1.2em;}#sk-container-id-1 div.sk-label-container {text-align: center;}#sk-container-id-1 div.sk-container {/* jupyter's `normalize.less` sets `[hidden] { display: none; }` but bootstrap.min.css set `[hidden] { display: none !important; }` so we also need the `!important` here to be able to override the default hidden behavior on the sphinx rendered scikit-learn.org. See: https://github.com/scikit-learn/scikit-learn/issues/21755 */display: inline-block !important;position: relative;}#sk-container-id-1 div.sk-text-repr-fallback {display: none;}</style><div id=\"sk-container-id-1\" class=\"sk-top-container\"><div class=\"sk-text-repr-fallback\"><pre>XGBClassifier(base_score=0.5, booster=&#x27;gbtree&#x27;, callbacks=None,\n",
       "              colsample_bylevel=1, colsample_bynode=1, colsample_bytree=1,\n",
       "              early_stopping_rounds=None, enable_categorical=False, eta=0.0001,\n",
       "              eval_metric=None, feature_types=None, gamma=0.4, gpu_id=-1,\n",
       "              grow_policy=&#x27;depthwise&#x27;, importance_type=None,\n",
       "              interaction_constraints=&#x27;&#x27;, learning_rate=9.99999975e-05,\n",
       "              max_bin=256, max_cat_threshold=64, max_cat_to_onehot=4,\n",
       "              max_delta_step=0, max_depth=5, max_leaves=0, min_child_weight=1,\n",
       "              missing=nan, monotone_constraints=&#x27;()&#x27;, n_estimators=250,\n",
       "              n_jobs=5, num_parallel_tree=1, objective=&#x27;multi:softprob&#x27;, ...)</pre><b>In a Jupyter environment, please rerun this cell to show the HTML representation or trust the notebook. <br />On GitHub, the HTML representation is unable to render, please try loading this page with nbviewer.org.</b></div><div class=\"sk-container\" hidden><div class=\"sk-item\"><div class=\"sk-estimator sk-toggleable\"><input class=\"sk-toggleable__control sk-hidden--visually\" id=\"sk-estimator-id-1\" type=\"checkbox\" checked><label for=\"sk-estimator-id-1\" class=\"sk-toggleable__label sk-toggleable__label-arrow\">XGBClassifier</label><div class=\"sk-toggleable__content\"><pre>XGBClassifier(base_score=0.5, booster=&#x27;gbtree&#x27;, callbacks=None,\n",
       "              colsample_bylevel=1, colsample_bynode=1, colsample_bytree=1,\n",
       "              early_stopping_rounds=None, enable_categorical=False, eta=0.0001,\n",
       "              eval_metric=None, feature_types=None, gamma=0.4, gpu_id=-1,\n",
       "              grow_policy=&#x27;depthwise&#x27;, importance_type=None,\n",
       "              interaction_constraints=&#x27;&#x27;, learning_rate=9.99999975e-05,\n",
       "              max_bin=256, max_cat_threshold=64, max_cat_to_onehot=4,\n",
       "              max_delta_step=0, max_depth=5, max_leaves=0, min_child_weight=1,\n",
       "              missing=nan, monotone_constraints=&#x27;()&#x27;, n_estimators=250,\n",
       "              n_jobs=5, num_parallel_tree=1, objective=&#x27;multi:softprob&#x27;, ...)</pre></div></div></div></div></div>"
      ],
      "text/plain": [
       "XGBClassifier(base_score=0.5, booster='gbtree', callbacks=None,\n",
       "              colsample_bylevel=1, colsample_bynode=1, colsample_bytree=1,\n",
       "              early_stopping_rounds=None, enable_categorical=False, eta=0.0001,\n",
       "              eval_metric=None, feature_types=None, gamma=0.4, gpu_id=-1,\n",
       "              grow_policy='depthwise', importance_type=None,\n",
       "              interaction_constraints='', learning_rate=9.99999975e-05,\n",
       "              max_bin=256, max_cat_threshold=64, max_cat_to_onehot=4,\n",
       "              max_delta_step=0, max_depth=5, max_leaves=0, min_child_weight=1,\n",
       "              missing=nan, monotone_constraints='()', n_estimators=250,\n",
       "              n_jobs=5, num_parallel_tree=1, objective='multi:softprob', ...)"
      ]
     },
     "execution_count": 34,
     "metadata": {},
     "output_type": "execute_result"
    }
   ],
   "source": [
    "\n",
    "classes_weights = class_weight.compute_sample_weight(\n",
    "    class_weight='balanced',\n",
    "    y=y_resampled\n",
    "    )\n",
    "\n",
    "model = XGBClassifier(**params)\n",
    "\n",
    "model.fit(X_resampled, y_resampled, sample_weight=classes_weights)"
   ]
  },
  {
   "cell_type": "code",
   "execution_count": 35,
   "metadata": {},
   "outputs": [
    {
     "name": "stdout",
     "output_type": "stream",
     "text": [
      "quadratic kappa score of the validation data set: 0.003983515313151442\n"
     ]
    }
   ],
   "source": [
    "\n",
    "valPredictions = model.predict(X_val)\n",
    "\n",
    "#quad kappa score\n",
    "sk_quad_kappa = cohen_kappa_score(y_val, valPredictions, weights='quadratic')\n",
    "    \n",
    "# printing results\n",
    "print(f'quadratic kappa score of the validation data set: {sk_quad_kappa}')\n"
   ]
  },
  {
   "cell_type": "code",
   "execution_count": 36,
   "metadata": {},
   "outputs": [
    {
     "data": {
      "text/plain": [
       "True    30307\n",
       "Name: Id, dtype: int64"
      ]
     },
     "execution_count": 36,
     "metadata": {},
     "output_type": "execute_result"
    }
   ],
   "source": [
    "\n",
    "\n",
    "real_test_set = pd.read_csv('Temp/df_proc_test_set.csv')\n",
    "sub_template = pd.read_csv('Data/submission_template_rdm.csv')\n",
    "(sub_template['Id'] == real_test_set['Id']).value_counts()\n"
   ]
  },
  {
   "cell_type": "code",
   "execution_count": 37,
   "metadata": {},
   "outputs": [
    {
     "ename": "ValueError",
     "evalue": "Feature shape mismatch, expected: 4324, got 4271",
     "output_type": "error",
     "traceback": [
      "\u001b[0;31m---------------------------------------------------------------------------\u001b[0m",
      "\u001b[0;31mValueError\u001b[0m                                Traceback (most recent call last)",
      "\u001b[1;32m/Users/amielke/kaggle_competition_solubility/XGBoost_over_sample_smote.ipynb Zelle 41\u001b[0m in \u001b[0;36m<cell line: 8>\u001b[0;34m()\u001b[0m\n\u001b[1;32m      <a href='vscode-notebook-cell:/Users/amielke/kaggle_competition_solubility/XGBoost_over_sample_smote.ipynb#X51sZmlsZQ%3D%3D?line=4'>5</a>\u001b[0m real_test_set \u001b[39m=\u001b[39m scaler\u001b[39m.\u001b[39mfit_transform(real_test_set)\n\u001b[1;32m      <a href='vscode-notebook-cell:/Users/amielke/kaggle_competition_solubility/XGBoost_over_sample_smote.ipynb#X51sZmlsZQ%3D%3D?line=6'>7</a>\u001b[0m \u001b[39m# prediction\u001b[39;00m\n\u001b[0;32m----> <a href='vscode-notebook-cell:/Users/amielke/kaggle_competition_solubility/XGBoost_over_sample_smote.ipynb#X51sZmlsZQ%3D%3D?line=7'>8</a>\u001b[0m realtestPredictions \u001b[39m=\u001b[39m model\u001b[39m.\u001b[39;49mpredict(real_test_set)\n\u001b[1;32m      <a href='vscode-notebook-cell:/Users/amielke/kaggle_competition_solubility/XGBoost_over_sample_smote.ipynb#X51sZmlsZQ%3D%3D?line=8'>9</a>\u001b[0m sub_template[\u001b[39m'\u001b[39m\u001b[39mpred\u001b[39m\u001b[39m'\u001b[39m] \u001b[39m=\u001b[39m realtestPredictions\n",
      "File \u001b[0;32m/opt/anaconda3/envs/Kaggle_solubility/lib/python3.9/site-packages/xgboost/sklearn.py:1551\u001b[0m, in \u001b[0;36mXGBClassifier.predict\u001b[0;34m(self, X, output_margin, ntree_limit, validate_features, base_margin, iteration_range)\u001b[0m\n\u001b[1;32m   1541\u001b[0m \u001b[39mdef\u001b[39;00m \u001b[39mpredict\u001b[39m(\n\u001b[1;32m   1542\u001b[0m     \u001b[39mself\u001b[39m,\n\u001b[1;32m   1543\u001b[0m     X: ArrayLike,\n\u001b[0;32m   (...)\u001b[0m\n\u001b[1;32m   1548\u001b[0m     iteration_range: Optional[Tuple[\u001b[39mint\u001b[39m, \u001b[39mint\u001b[39m]] \u001b[39m=\u001b[39m \u001b[39mNone\u001b[39;00m,\n\u001b[1;32m   1549\u001b[0m ) \u001b[39m-\u001b[39m\u001b[39m>\u001b[39m np\u001b[39m.\u001b[39mndarray:\n\u001b[1;32m   1550\u001b[0m     \u001b[39mwith\u001b[39;00m config_context(verbosity\u001b[39m=\u001b[39m\u001b[39mself\u001b[39m\u001b[39m.\u001b[39mverbosity):\n\u001b[0;32m-> 1551\u001b[0m         class_probs \u001b[39m=\u001b[39m \u001b[39msuper\u001b[39;49m()\u001b[39m.\u001b[39;49mpredict(\n\u001b[1;32m   1552\u001b[0m             X\u001b[39m=\u001b[39;49mX,\n\u001b[1;32m   1553\u001b[0m             output_margin\u001b[39m=\u001b[39;49moutput_margin,\n\u001b[1;32m   1554\u001b[0m             ntree_limit\u001b[39m=\u001b[39;49mntree_limit,\n\u001b[1;32m   1555\u001b[0m             validate_features\u001b[39m=\u001b[39;49mvalidate_features,\n\u001b[1;32m   1556\u001b[0m             base_margin\u001b[39m=\u001b[39;49mbase_margin,\n\u001b[1;32m   1557\u001b[0m             iteration_range\u001b[39m=\u001b[39;49miteration_range,\n\u001b[1;32m   1558\u001b[0m         )\n\u001b[1;32m   1559\u001b[0m         \u001b[39mif\u001b[39;00m output_margin:\n\u001b[1;32m   1560\u001b[0m             \u001b[39m# If output_margin is active, simply return the scores\u001b[39;00m\n\u001b[1;32m   1561\u001b[0m             \u001b[39mreturn\u001b[39;00m class_probs\n",
      "File \u001b[0;32m/opt/anaconda3/envs/Kaggle_solubility/lib/python3.9/site-packages/xgboost/sklearn.py:1140\u001b[0m, in \u001b[0;36mXGBModel.predict\u001b[0;34m(self, X, output_margin, ntree_limit, validate_features, base_margin, iteration_range)\u001b[0m\n\u001b[1;32m   1138\u001b[0m \u001b[39mif\u001b[39;00m \u001b[39mself\u001b[39m\u001b[39m.\u001b[39m_can_use_inplace_predict():\n\u001b[1;32m   1139\u001b[0m     \u001b[39mtry\u001b[39;00m:\n\u001b[0;32m-> 1140\u001b[0m         predts \u001b[39m=\u001b[39m \u001b[39mself\u001b[39;49m\u001b[39m.\u001b[39;49mget_booster()\u001b[39m.\u001b[39;49minplace_predict(\n\u001b[1;32m   1141\u001b[0m             data\u001b[39m=\u001b[39;49mX,\n\u001b[1;32m   1142\u001b[0m             iteration_range\u001b[39m=\u001b[39;49miteration_range,\n\u001b[1;32m   1143\u001b[0m             predict_type\u001b[39m=\u001b[39;49m\u001b[39m\"\u001b[39;49m\u001b[39mmargin\u001b[39;49m\u001b[39m\"\u001b[39;49m \u001b[39mif\u001b[39;49;00m output_margin \u001b[39melse\u001b[39;49;00m \u001b[39m\"\u001b[39;49m\u001b[39mvalue\u001b[39;49m\u001b[39m\"\u001b[39;49m,\n\u001b[1;32m   1144\u001b[0m             missing\u001b[39m=\u001b[39;49m\u001b[39mself\u001b[39;49m\u001b[39m.\u001b[39;49mmissing,\n\u001b[1;32m   1145\u001b[0m             base_margin\u001b[39m=\u001b[39;49mbase_margin,\n\u001b[1;32m   1146\u001b[0m             validate_features\u001b[39m=\u001b[39;49mvalidate_features,\n\u001b[1;32m   1147\u001b[0m         )\n\u001b[1;32m   1148\u001b[0m         \u001b[39mif\u001b[39;00m _is_cupy_array(predts):\n\u001b[1;32m   1149\u001b[0m             \u001b[39mimport\u001b[39;00m \u001b[39mcupy\u001b[39;00m  \u001b[39m# pylint: disable=import-error\u001b[39;00m\n",
      "File \u001b[0;32m/opt/anaconda3/envs/Kaggle_solubility/lib/python3.9/site-packages/xgboost/core.py:2268\u001b[0m, in \u001b[0;36mBooster.inplace_predict\u001b[0;34m(self, data, iteration_range, predict_type, missing, validate_features, base_margin, strict_shape)\u001b[0m\n\u001b[1;32m   2264\u001b[0m         \u001b[39mraise\u001b[39;00m \u001b[39mTypeError\u001b[39;00m(\n\u001b[1;32m   2265\u001b[0m             \u001b[39m\"\u001b[39m\u001b[39m`shape` attribute is required when `validate_features` is True.\u001b[39m\u001b[39m\"\u001b[39m\n\u001b[1;32m   2266\u001b[0m         )\n\u001b[1;32m   2267\u001b[0m     \u001b[39mif\u001b[39;00m \u001b[39mlen\u001b[39m(data\u001b[39m.\u001b[39mshape) \u001b[39m!=\u001b[39m \u001b[39m1\u001b[39m \u001b[39mand\u001b[39;00m \u001b[39mself\u001b[39m\u001b[39m.\u001b[39mnum_features() \u001b[39m!=\u001b[39m data\u001b[39m.\u001b[39mshape[\u001b[39m1\u001b[39m]:\n\u001b[0;32m-> 2268\u001b[0m         \u001b[39mraise\u001b[39;00m \u001b[39mValueError\u001b[39;00m(\n\u001b[1;32m   2269\u001b[0m             \u001b[39mf\u001b[39m\u001b[39m\"\u001b[39m\u001b[39mFeature shape mismatch, expected: \u001b[39m\u001b[39m{\u001b[39;00m\u001b[39mself\u001b[39m\u001b[39m.\u001b[39mnum_features()\u001b[39m}\u001b[39;00m\u001b[39m, \u001b[39m\u001b[39m\"\u001b[39m\n\u001b[1;32m   2270\u001b[0m             \u001b[39mf\u001b[39m\u001b[39m\"\u001b[39m\u001b[39mgot \u001b[39m\u001b[39m{\u001b[39;00mdata\u001b[39m.\u001b[39mshape[\u001b[39m1\u001b[39m]\u001b[39m}\u001b[39;00m\u001b[39m\"\u001b[39m\n\u001b[1;32m   2271\u001b[0m         )\n\u001b[1;32m   2273\u001b[0m \u001b[39mfrom\u001b[39;00m \u001b[39m.\u001b[39;00m\u001b[39mdata\u001b[39;00m \u001b[39mimport\u001b[39;00m (\n\u001b[1;32m   2274\u001b[0m     _array_interface,\n\u001b[1;32m   2275\u001b[0m     _is_cudf_df,\n\u001b[0;32m   (...)\u001b[0m\n\u001b[1;32m   2278\u001b[0m     _transform_pandas_df,\n\u001b[1;32m   2279\u001b[0m )\n\u001b[1;32m   2281\u001b[0m enable_categorical \u001b[39m=\u001b[39m _has_categorical(\u001b[39mself\u001b[39m, data)\n",
      "\u001b[0;31mValueError\u001b[0m: Feature shape mismatch, expected: 4324, got 4271"
     ]
    }
   ],
   "source": [
    "\n",
    "real_test_set.drop(columns=['Id', 'smiles'], inplace=True)\n",
    "\n",
    "# apply StandardScaler\n",
    "scaler = StandardScaler(copy=True, with_mean=True, with_std=True).fit(real_test_set)\n",
    "real_test_set = scaler.fit_transform(real_test_set)\n",
    "\n",
    "# prediction\n",
    "realtestPredictions = model.predict(real_test_set)\n",
    "sub_template['pred'] = realtestPredictions\n"
   ]
  },
  {
   "cell_type": "code",
   "execution_count": null,
   "metadata": {},
   "outputs": [
    {
     "data": {
      "text/plain": [
       "{0, 1, 2}"
      ]
     },
     "execution_count": 50,
     "metadata": {},
     "output_type": "execute_result"
    }
   ],
   "source": [
    "set(realtestPredictions)"
   ]
  },
  {
   "cell_type": "code",
   "execution_count": null,
   "metadata": {},
   "outputs": [
    {
     "data": {
      "text/plain": [
       "2    28714\n",
       "1     1030\n",
       "0      563\n",
       "Name: pred, dtype: int64"
      ]
     },
     "execution_count": 51,
     "metadata": {},
     "output_type": "execute_result"
    }
   ],
   "source": [
    "\n",
    "sub_template['pred'].value_counts()\n"
   ]
  },
  {
   "cell_type": "markdown",
   "metadata": {},
   "source": []
  },
  {
   "cell_type": "code",
   "execution_count": null,
   "metadata": {},
   "outputs": [],
   "source": [
    "#sub_template.to_csv('Submissions/submission_24_11_C-men.csv', index=False)"
   ]
  },
  {
   "cell_type": "code",
   "execution_count": null,
   "metadata": {},
   "outputs": [],
   "source": []
  },
  {
   "cell_type": "code",
   "execution_count": null,
   "metadata": {},
   "outputs": [],
   "source": []
  },
  {
   "cell_type": "markdown",
   "metadata": {},
   "source": [
    "## Score"
   ]
  },
  {
   "cell_type": "code",
   "execution_count": null,
   "metadata": {},
   "outputs": [],
   "source": [
    "#len(testPredictions)\n",
    "#testPredictions"
   ]
  },
  {
   "cell_type": "code",
   "execution_count": null,
   "metadata": {},
   "outputs": [],
   "source": [
    "#y_test"
   ]
  },
  {
   "cell_type": "code",
   "execution_count": null,
   "metadata": {},
   "outputs": [],
   "source": [
    "#set(predictions[0])"
   ]
  },
  {
   "cell_type": "code",
   "execution_count": null,
   "metadata": {},
   "outputs": [
    {
     "data": {
      "text/plain": [
       "\"i=1\\n\\nfor preds in predictions:\\n    # defining name\\n    if i == 1:\\n        dataset_name = 'X'\\n    elif i == 2:\\n        dataset_name = 'X_exfp'\\n    elif i == 3:\\n        dataset_name = 'X_desc'\\n    \\n    i += 1\\n\\n    #quad kappa score\\n    sk_quad_kappa = cohen_kappa_score(y_test, testPredictions, weights='quadratic')\\n    \\n    # printing results\\n    print(f'quadratic kappa score of data set {dataset_name}: {sk_quad_kappa}')\""
      ]
     },
     "execution_count": 41,
     "metadata": {},
     "output_type": "execute_result"
    }
   ],
   "source": [
    "'''i=1\n",
    "\n",
    "for preds in predictions:\n",
    "    # defining name\n",
    "    if i == 1:\n",
    "        dataset_name = 'X'\n",
    "    elif i == 2:\n",
    "        dataset_name = 'X_exfp'\n",
    "    elif i == 3:\n",
    "        dataset_name = 'X_desc'\n",
    "    \n",
    "    i += 1\n",
    "\n",
    "    #quad kappa score\n",
    "    sk_quad_kappa = cohen_kappa_score(y_test, testPredictions, weights='quadratic')\n",
    "    \n",
    "    # printing results\n",
    "    print(f'quadratic kappa score of data set {dataset_name}: {sk_quad_kappa}')'''"
   ]
  },
  {
   "cell_type": "code",
   "execution_count": null,
   "metadata": {},
   "outputs": [],
   "source": []
  },
  {
   "cell_type": "code",
   "execution_count": null,
   "metadata": {},
   "outputs": [],
   "source": [
    "#sk_cohen_kappa = cohen_kappa_score(y_prediction, y_test, weights='quadratic')\n",
    "#print(f'quadratic cohen kappa: {sk_cohen_kappa}')"
   ]
  },
  {
   "cell_type": "markdown",
   "metadata": {},
   "source": []
  },
  {
   "cell_type": "code",
   "execution_count": null,
   "metadata": {},
   "outputs": [],
   "source": [
    "#from sklearn.metrics import confusion_matrix"
   ]
  },
  {
   "cell_type": "code",
   "execution_count": null,
   "metadata": {},
   "outputs": [],
   "source": [
    "#confusion_matrix(y_test, y_prediction)"
   ]
  },
  {
   "cell_type": "code",
   "execution_count": null,
   "metadata": {},
   "outputs": [],
   "source": [
    "#df_y[0].value_counts()"
   ]
  },
  {
   "cell_type": "code",
   "execution_count": null,
   "metadata": {},
   "outputs": [],
   "source": [
    "#len(y_test)"
   ]
  }
 ],
 "metadata": {
  "kernelspec": {
   "display_name": "Python 3.9.13 ('Kaggle_solubility')",
   "language": "python",
   "name": "python3"
  },
  "language_info": {
   "codemirror_mode": {
    "name": "ipython",
    "version": 3
   },
   "file_extension": ".py",
   "mimetype": "text/x-python",
   "name": "python",
   "nbconvert_exporter": "python",
   "pygments_lexer": "ipython3",
   "version": "3.9.13"
  },
  "orig_nbformat": 4,
  "vscode": {
   "interpreter": {
    "hash": "048cebc6bb026d2162f15fb19087d94e922b7f5286c2ebb45fba7f0e79006065"
   }
  }
 },
 "nbformat": 4,
 "nbformat_minor": 2
}
