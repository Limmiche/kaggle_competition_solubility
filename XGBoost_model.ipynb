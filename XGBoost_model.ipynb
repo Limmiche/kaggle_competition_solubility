{
 "cells": [
  {
   "cell_type": "code",
   "execution_count": 1,
   "metadata": {},
   "outputs": [],
   "source": [
    "import pandas as pd\n",
    "import numpy as np\n",
    "from xgboost import XGBClassifier\n",
    "from sklearn.calibration import CalibratedClassifierCV\n",
    "from sklearn.metrics import cohen_kappa_score\n",
    "from sklearn.preprocessing import StandardScaler\n",
    "from sklearn.model_selection import StratifiedKFold\n",
    "from sklearn.model_selection import train_test_split\n",
    "from sklearn.linear_model import LogisticRegression\n",
    "from sklearn.model_selection import RandomizedSearchCV\n",
    "from sklearn.utils import class_weight\n",
    "from sklearn.metrics import fbeta_score, make_scorer\n",
    "from sklearn.metrics import cohen_kappa_score\n",
    "from numpy import linspace"
   ]
  },
  {
   "cell_type": "code",
   "execution_count": 2,
   "metadata": {},
   "outputs": [],
   "source": [
    "# suppress Convergence and user Warnings\n",
    "\n",
    "from warnings import simplefilter\n",
    "from sklearn.exceptions import ConvergenceWarning\n",
    "simplefilter(\"ignore\", category=ConvergenceWarning)\n",
    "\n",
    "import warnings\n",
    "warnings.filterwarnings(\"ignore\", category=UserWarning)"
   ]
  },
  {
   "cell_type": "markdown",
   "metadata": {},
   "source": [
    "## Parameters\n",
    "the modeling process is affected by a number of parameters, descriptions are included"
   ]
  },
  {
   "cell_type": "markdown",
   "metadata": {},
   "source": [
    "#### test run\n",
    "restricts the size of the data set to 500 compounds when enabled. Imbalanced category ratios of the complete data set will be kept in the downsized data set"
   ]
  },
  {
   "cell_type": "code",
   "execution_count": 3,
   "metadata": {},
   "outputs": [],
   "source": [
    "# True: randomly chooses 500 compounds from the data set\n",
    "# False: use the entire data set for the modeling\n",
    "\n",
    "test_run = False\n",
    "#test_run = True"
   ]
  },
  {
   "cell_type": "markdown",
   "metadata": {},
   "source": [
    "#### predict test set\n",
    "testing data and the submission template will only be read and a prediction will only occur if 'pred' is set to true"
   ]
  },
  {
   "cell_type": "code",
   "execution_count": 4,
   "metadata": {},
   "outputs": [],
   "source": [
    "# True: predict test data set\n",
    "\n",
    "pred = True\n",
    "#pred = false"
   ]
  },
  {
   "cell_type": "markdown",
   "metadata": {},
   "source": [
    "#### StandardScaler\n",
    "the usage of StandardScaler before the modeling will affect the prediction score, positive and negative effects have been observed"
   ]
  },
  {
   "cell_type": "code",
   "execution_count": 5,
   "metadata": {},
   "outputs": [],
   "source": [
    "# True: use Standard Scaler\n",
    "\n",
    "StdSca = True\n",
    "#StdSca = False"
   ]
  },
  {
   "cell_type": "markdown",
   "metadata": {},
   "source": [
    "#### save prediction as csv\n",
    "independent of the value of 'save', the submission file will only be saved if 'test_run' is set to false and 'pred' is set to true"
   ]
  },
  {
   "cell_type": "code",
   "execution_count": 6,
   "metadata": {},
   "outputs": [],
   "source": [
    "# True: save prediction as csv file\n",
    "\n",
    "save = False\n",
    "#save = True"
   ]
  },
  {
   "cell_type": "markdown",
   "metadata": {},
   "source": [
    "## Reading data sets\n",
    "the test data set and submission template will only be read in if 'pred' is set to true to save time for validation runs without predictions"
   ]
  },
  {
   "cell_type": "code",
   "execution_count": 7,
   "metadata": {},
   "outputs": [],
   "source": [
    "df = pd.read_csv('output/df_train_set.csv')\n",
    "df['sol_category'] = pd.to_numeric(df['sol_category'], downcast='integer')\n",
    "\n",
    "if pred:\n",
    "    df_test_set = pd.read_csv('output/df_test_set.csv')\n",
    "    sub_template = pd.read_csv('Data/submission_template_rdm.csv')"
   ]
  },
  {
   "cell_type": "markdown",
   "metadata": {},
   "source": [
    "#### checking the composition of the data set"
   ]
  },
  {
   "cell_type": "code",
   "execution_count": 8,
   "metadata": {},
   "outputs": [
    {
     "data": {
      "text/plain": [
       "2    65835\n",
       "1     2835\n",
       "0     2041\n",
       "Name: sol_category, dtype: int64"
      ]
     },
     "execution_count": 8,
     "metadata": {},
     "output_type": "execute_result"
    }
   ],
   "source": [
    "df['sol_category'].value_counts()"
   ]
  },
  {
   "cell_type": "code",
   "execution_count": 23,
   "metadata": {},
   "outputs": [
    {
     "data": {
      "text/plain": [
       "2    0.931043\n",
       "1    0.040093\n",
       "0    0.028864\n",
       "Name: sol_category, dtype: float64"
      ]
     },
     "execution_count": 23,
     "metadata": {},
     "output_type": "execute_result"
    }
   ],
   "source": [
    "df['sol_category'].value_counts(normalize=True)"
   ]
  },
  {
   "cell_type": "markdown",
   "metadata": {},
   "source": [
    "for 'test_run' set to true, the size of the data set will be restricted to 500 compounds. The category ratios in case of data set imbalance will be kept due to the stratify command"
   ]
  },
  {
   "cell_type": "code",
   "execution_count": 9,
   "metadata": {},
   "outputs": [],
   "source": [
    "if test_run:\n",
    "    df, _, __, ___ = train_test_split(df, df['sol_category'], train_size=500, stratify=df['sol_category'])"
   ]
  },
  {
   "cell_type": "markdown",
   "metadata": {},
   "source": [
    "## preparing model training data"
   ]
  },
  {
   "cell_type": "markdown",
   "metadata": {},
   "source": [
    "#### defining features X"
   ]
  },
  {
   "cell_type": "code",
   "execution_count": 10,
   "metadata": {},
   "outputs": [],
   "source": [
    "X = df.copy(deep=True)\n",
    "X.drop(columns=['Id', 'smiles', 'sol_category'], inplace=True)\n",
    "#X"
   ]
  },
  {
   "cell_type": "markdown",
   "metadata": {},
   "source": [
    "#### defining category list y"
   ]
  },
  {
   "cell_type": "code",
   "execution_count": 11,
   "metadata": {},
   "outputs": [],
   "source": [
    "y = df.iloc[:, 2]"
   ]
  },
  {
   "cell_type": "markdown",
   "metadata": {},
   "source": [
    "## training model"
   ]
  },
  {
   "cell_type": "markdown",
   "metadata": {},
   "source": [
    "#### defining parameters for the xgboost model"
   ]
  },
  {
   "cell_type": "code",
   "execution_count": 12,
   "metadata": {},
   "outputs": [],
   "source": [
    "# setup parameters for the xgboost model\n",
    "params = {}\n",
    "#params['booster'] = 'gbtree' #['gbtree', 'gblinear', 'dart']\n",
    "#params['objective'] = ['binary:logistic']\n",
    "#params[\"eval_metric\"] = [\"error\"]\n",
    "params['eta'] = 0.001 #, 0.0001, 0.001, 0.01, 0.1, 0.2, 0.3, 0.4, 0.5] # boosting learning rate\n",
    "params['gamma'] = 0.5 #linspace(0.000000001, 1.0, num=11) # min loss red recuired for further partition on leaf node\n",
    "params['max_depth'] = 7 #np.arange(1, 11, 2) # max tree dept for base learners\n",
    "params['n_estimators'] = 100 #np.arange(50, 550, 50) maybe 250 ??\n",
    "params['min_child_weight'] = 1 # min sum of instance weight in a child\n",
    "params['max_delta_step'] = 0 # max delta step allowed for each tree's weight estimate\n",
    "params['subsample']= 0.5 #[0.5, 1] # subsample ratio of training instance\n",
    "params['colsample_bytree'] = 1 # subsample ratio of columns when cunstructing each tree\n",
    "#params['silent'] = [1]\n",
    "#params['seed'] = [0] # = random_state ???\n",
    "params['base_score'] = 0.5 # initial prediction score, global bias\n",
    "#params['random_state'] = [0] # = seed ???\n",
    "#params['scale_pos_weight'] = ratio\n",
    "params['n_jobs'] = 5"
   ]
  },
  {
   "cell_type": "markdown",
   "metadata": {},
   "source": [
    "#### applying model on training data set\n",
    "the XGBoost model is trained on an 0.8 split of the training data set with the remaining 0.2 of the data set to be used for the validation score. Classes are weighted on their ratio for the training. The score is a quadratically weighted cohen's kappa score,"
   ]
  },
  {
   "cell_type": "code",
   "execution_count": 13,
   "metadata": {},
   "outputs": [
    {
     "name": "stdout",
     "output_type": "stream",
     "text": [
      "quadratically weighted kappa validation score: 0.08301296438048156\n"
     ]
    }
   ],
   "source": [
    "# applying StandardScaler\n",
    "if StdSca:\n",
    "    scaler = StandardScaler(copy=True, with_mean=True, with_std=True).fit(X)\n",
    "    X = scaler.fit_transform(X)\n",
    "\n",
    "# splitting data set\n",
    "StratifiedKFold(n_splits=5)\n",
    "X_train, X_val, y_train, y_val = train_test_split(X, y, random_state=1,  shuffle=True, stratify=y)#, test_size=0.2, train_size=0.8)\n",
    "\n",
    "# defining class weights\n",
    "classes_weights = class_weight.compute_sample_weight(\n",
    "    class_weight='balanced',\n",
    "    y=y_train\n",
    "    )\n",
    "\n",
    "# defining model\n",
    "model = XGBClassifier(**params)\n",
    "\n",
    "# fitting model on training data set\n",
    "model.fit(X_train, y_train, sample_weight=classes_weights)\n",
    "\n",
    "# model validation\n",
    "valPredictions = model.predict(X_val)\n",
    "\n",
    "# calculating quadratically weighted kappa score\n",
    "sk_quad_kappa = cohen_kappa_score(y_val, valPredictions, weights='quadratic')\n",
    "    \n",
    " \n",
    "# printing results\n",
    "print(f'quadratically weighted kappa validation score: {sk_quad_kappa}')"
   ]
  },
  {
   "cell_type": "markdown",
   "metadata": {},
   "source": [
    "## predicting test set\n",
    "prediction only occurs for 'pred' set to true"
   ]
  },
  {
   "cell_type": "code",
   "execution_count": 14,
   "metadata": {},
   "outputs": [],
   "source": [
    "if pred:\n",
    "    df_test_set.drop(columns=['Id', 'smiles'], inplace=True)\n",
    "\n",
    "    # apply StandardScaler\n",
    "    if StdSca:\n",
    "        scaler = StandardScaler(copy=True, with_mean=True, with_std=True).fit(df_test_set)\n",
    "        df_test_set = scaler.fit_transform(df_test_set)\n",
    "\n",
    "    # prediction\n",
    "    testPredictions = model.predict(df_test_set)\n",
    "    sub_template['pred'] = testPredictions"
   ]
  },
  {
   "cell_type": "markdown",
   "metadata": {},
   "source": [
    "list of all predicted categories"
   ]
  },
  {
   "cell_type": "code",
   "execution_count": 21,
   "metadata": {},
   "outputs": [
    {
     "name": "stdout",
     "output_type": "stream",
     "text": [
      "{0, 1, 2}\n"
     ]
    }
   ],
   "source": [
    "if pred:\n",
    "    print(set(testPredictions))"
   ]
  },
  {
   "cell_type": "markdown",
   "metadata": {},
   "source": [
    "value cont of the prediction"
   ]
  },
  {
   "cell_type": "code",
   "execution_count": 22,
   "metadata": {},
   "outputs": [
    {
     "name": "stdout",
     "output_type": "stream",
     "text": [
      "2    26740\n",
      "1     2296\n",
      "0     1271\n",
      "Name: pred, dtype: int64\n"
     ]
    }
   ],
   "source": [
    "if pred:\n",
    "    print(sub_template['pred'].value_counts())"
   ]
  },
  {
   "cell_type": "markdown",
   "metadata": {},
   "source": [
    "## Save as csv file\n",
    "the submission will only be saved if 'test_run' is set to false and 'pred' is set to true"
   ]
  },
  {
   "cell_type": "code",
   "execution_count": 17,
   "metadata": {},
   "outputs": [
    {
     "name": "stdout",
     "output_type": "stream",
     "text": [
      "saving as csv planned\n"
     ]
    }
   ],
   "source": [
    "if save:\n",
    "    if test_run:\n",
    "        print('attempted to save a test run')\n",
    "    elif pred:\n",
    "        sub_template.to_csv('Submissions/submission_21_12_C-lab.csv', index=False)\n",
    "        print('submission file saved as csv')\n",
    "    else:\n",
    "        print('predictions not calculated, submission cannot be saved as csv file')\n",
    "else:\n",
    "    if test_run:\n",
    "        print('unsaved test run')\n",
    "    else:\n",
    "        print('unsaved run')"
   ]
  },
  {
   "cell_type": "markdown",
   "metadata": {},
   "source": [
    "## 2 component PCA plot"
   ]
  },
  {
   "cell_type": "code",
   "execution_count": 41,
   "metadata": {},
   "outputs": [],
   "source": [
    "df_X = pd.DataFrame(X_train)"
   ]
  },
  {
   "cell_type": "code",
   "execution_count": 42,
   "metadata": {},
   "outputs": [
    {
     "data": {
      "image/png": "[encoded data removed]",
      "text/plain": [
       "<Figure size 640x480 with 1 Axes>"
      ]
     },
     "metadata": {},
     "output_type": "display_data"
    }
   ],
   "source": [
    "importance_df = pd.DataFrame(data={\n",
    "    'feature': df_X.columns,\n",
    "    'importance': model.feature_importances_\n",
    "}).sort_values(by=['importance'], ascending=False)#.head(200)\n",
    "\n",
    "#importance_df = importance_df[importance_df['feature'].str.contains('ecfp')==False]\n",
    "#importance_name_df = df[[col for col in df.columns if (col.startswith('rdkit_') or col.startswith('example_'))]]\n",
    "\n",
    "import matplotlib.pyplot as plt\n",
    "plt.bar(importance_df['feature'], importance_df['importance'])\n",
    "plt.xticks(rotation=90)\n",
    "plt.show()"
   ]
  },
  {
   "cell_type": "code",
   "execution_count": null,
   "metadata": {},
   "outputs": [],
   "source": []
  }
 ],
 "metadata": {
  "kernelspec": {
   "display_name": "Python 3.9.13 ('Kaggle_solubility')",
   "language": "python",
   "name": "python3"
  },
  "language_info": {
   "codemirror_mode": {
    "name": "ipython",
    "version": 3
   },
   "file_extension": ".py",
   "mimetype": "text/x-python",
   "name": "python",
   "nbconvert_exporter": "python",
   "pygments_lexer": "ipython3",
   "version": "3.9.13"
  },
  "orig_nbformat": 4,
  "vscode": {
   "interpreter": {
    "hash": "048cebc6bb026d2162f15fb19087d94e922b7f5286c2ebb45fba7f0e79006065"
   }
  }
 },
 "nbformat": 4,
 "nbformat_minor": 2
}
